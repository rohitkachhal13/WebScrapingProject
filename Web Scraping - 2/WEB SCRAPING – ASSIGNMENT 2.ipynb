{
 "cells": [
  {
   "cell_type": "markdown",
   "id": "35519bd9",
   "metadata": {},
   "source": [
    "#! pip install selenium"
   ]
  },
  {
   "cell_type": "markdown",
   "id": "1e2671c2",
   "metadata": {},
   "source": [
    "### Import all usefull libraries"
   ]
  },
  {
   "cell_type": "code",
   "execution_count": 1,
   "id": "cd52aeb0",
   "metadata": {},
   "outputs": [],
   "source": [
    "import pandas as pd\n",
    "import selenium\n",
    "from selenium import webdriver\n",
    "from selenium.common.exceptions import NoSuchElementException\n",
    "from selenium.common.exceptions import ElementNotInteractableException\n",
    "import time\n",
    "import warnings\n",
    "warnings.filterwarnings('ignore')"
   ]
  },
  {
   "cell_type": "markdown",
   "id": "cc3dd872",
   "metadata": {},
   "source": [
    "### Q.1 To scrape data for “Data Analyst” Job position in “Bangalore” location. Scrapping include the job-title, job-location, company_name, experience_required. We have to scrape first 10 jobs data. Finally create a dataframe of the scraped data"
   ]
  },
  {
   "cell_type": "code",
   "execution_count": 2,
   "id": "0d0e6e1d",
   "metadata": {},
   "outputs": [],
   "source": [
    "# Connecting with web driver\n",
    "driver = webdriver.Chrome(r'E:/DATA TRAINED/Sofrware/chromedriver_win32/chromedriver.exe')"
   ]
  },
  {
   "cell_type": "code",
   "execution_count": 3,
   "id": "3863ecce",
   "metadata": {},
   "outputs": [],
   "source": [
    "# Open url by driver\n",
    "driver.get('https://www.naukri.com/')"
   ]
  },
  {
   "cell_type": "code",
   "execution_count": 4,
   "id": "09f46d11",
   "metadata": {},
   "outputs": [],
   "source": [
    "# Input first element title to be as Search 'Data Analyst' from webpage\n",
    "search_job = driver.find_element_by_id('qsb-keyword-sugg')\n",
    "search_job.send_keys('Data Analyst')"
   ]
  },
  {
   "cell_type": "code",
   "execution_count": 5,
   "id": "448279cf",
   "metadata": {},
   "outputs": [],
   "source": [
    "# Input second element location to be as Search 'Bangalore' from webpage\n",
    "search_location = driver.find_element_by_xpath(\"//input[@id='qsb-location-sugg']\")\n",
    "search_location.send_keys('Bangalore')"
   ]
  },
  {
   "cell_type": "code",
   "execution_count": 6,
   "id": "836e666e",
   "metadata": {},
   "outputs": [],
   "source": [
    "# Click on search button that provide us the result based on first and second element\n",
    "search_btn = driver.find_element_by_xpath(\"//div[@class='search-btn']/button\")\n",
    "search_btn.click()"
   ]
  },
  {
   "cell_type": "code",
   "execution_count": 7,
   "id": "f38e4940",
   "metadata": {},
   "outputs": [],
   "source": [
    "# Creating an empty list for job-title, job-location, company_name\n",
    "data_analyst_title = []\n",
    "data_analyst_location = []\n",
    "data_analyst_company_name = []\n",
    "data_analyst_experience = [] "
   ]
  },
  {
   "cell_type": "code",
   "execution_count": 8,
   "id": "a30e0b4e",
   "metadata": {},
   "outputs": [
    {
     "data": {
      "text/plain": [
       "[<selenium.webdriver.remote.webelement.WebElement (session=\"0bafafbab8045270169de4b040b97438\", element=\"5010450c-0048-4bf8-b76c-714bb66ede77\")>,\n",
       " <selenium.webdriver.remote.webelement.WebElement (session=\"0bafafbab8045270169de4b040b97438\", element=\"53523bde-7fc2-4faf-be2f-43e569531575\")>,\n",
       " <selenium.webdriver.remote.webelement.WebElement (session=\"0bafafbab8045270169de4b040b97438\", element=\"691ff09e-56d3-4170-9a9f-b402dddd74e8\")>,\n",
       " <selenium.webdriver.remote.webelement.WebElement (session=\"0bafafbab8045270169de4b040b97438\", element=\"ca723efa-0bf8-43a8-9222-5a1954098d45\")>]"
      ]
     },
     "execution_count": 8,
     "metadata": {},
     "output_type": "execute_result"
    }
   ],
   "source": [
    "# Scraping the title of the job\n",
    "title_tag = driver.find_elements_by_xpath(\"//a[@class='title fw500 ellipsis']\")\n",
    "title_tag[0:4]"
   ]
  },
  {
   "cell_type": "code",
   "execution_count": 9,
   "id": "26e78e38",
   "metadata": {},
   "outputs": [
    {
     "name": "stdout",
     "output_type": "stream",
     "text": [
      "the title for starting four job are \n",
      " ['Hiring -Data Analyst, Business Analyst, MIS Analyst -3rd Party Payroll', 'Senior Data Analyst III', 'Business Analyst/ Data Analyst- Capital Market & SQL (Mandatory)', 'Customer Data Management Analyst']\n"
     ]
    }
   ],
   "source": [
    "#Insert all job result into data_analyst_title list\n",
    "for i in title_tag:\n",
    "    title = i.text\n",
    "    data_analyst_title.append(title)\n",
    "print('the title for starting four job are \\n',data_analyst_title[0:4]) "
   ]
  },
  {
   "cell_type": "code",
   "execution_count": 10,
   "id": "35efa4c0",
   "metadata": {},
   "outputs": [
    {
     "data": {
      "text/plain": [
       "[<selenium.webdriver.remote.webelement.WebElement (session=\"0bafafbab8045270169de4b040b97438\", element=\"f57d5fe8-1653-4599-894e-a8603892c9c1\")>,\n",
       " <selenium.webdriver.remote.webelement.WebElement (session=\"0bafafbab8045270169de4b040b97438\", element=\"8ff0be3d-bad3-4a43-90ff-4dd59ed487c6\")>,\n",
       " <selenium.webdriver.remote.webelement.WebElement (session=\"0bafafbab8045270169de4b040b97438\", element=\"f2d083e8-26bf-4cff-9def-8bbc261e928d\")>,\n",
       " <selenium.webdriver.remote.webelement.WebElement (session=\"0bafafbab8045270169de4b040b97438\", element=\"3c74bfb6-0c91-4793-92e0-6f8bb0675b71\")>]"
      ]
     },
     "execution_count": 10,
     "metadata": {},
     "output_type": "execute_result"
    }
   ],
   "source": [
    "# Scraping the location of the job\n",
    "location_tag = driver.find_elements_by_xpath(\"//li[@class='fleft grey-text br2 placeHolderLi location']/span[1]\")\n",
    "location_tag[0:4]"
   ]
  },
  {
   "cell_type": "code",
   "execution_count": 11,
   "id": "0861e6d2",
   "metadata": {},
   "outputs": [
    {
     "name": "stdout",
     "output_type": "stream",
     "text": [
      "the location for starting four job are\n",
      " ['Bangalore/Bengaluru', 'Bengaluru/Bangalore', 'Pune, Bangalore/Bengaluru', 'Bangalore/Bengaluru']\n"
     ]
    }
   ],
   "source": [
    "#Insert all location result into data_analyst_location list\n",
    "for i in location_tag:\n",
    "    location = i.text\n",
    "    data_analyst_location.append(location)\n",
    "print('the location for starting four job are\\n',data_analyst_location[0:4])"
   ]
  },
  {
   "cell_type": "code",
   "execution_count": 12,
   "id": "8354e034",
   "metadata": {},
   "outputs": [
    {
     "data": {
      "text/plain": [
       "[<selenium.webdriver.remote.webelement.WebElement (session=\"0bafafbab8045270169de4b040b97438\", element=\"59fe1c55-b906-465d-a4e7-abc96662c900\")>,\n",
       " <selenium.webdriver.remote.webelement.WebElement (session=\"0bafafbab8045270169de4b040b97438\", element=\"17992661-5c9e-4973-a789-f81e8b089be2\")>,\n",
       " <selenium.webdriver.remote.webelement.WebElement (session=\"0bafafbab8045270169de4b040b97438\", element=\"2ed25b4a-c9bf-405a-b9ab-e8e309a4dfaa\")>,\n",
       " <selenium.webdriver.remote.webelement.WebElement (session=\"0bafafbab8045270169de4b040b97438\", element=\"73ca8ad3-c82c-435a-abd7-dbca14ccf0cf\")>]"
      ]
     },
     "execution_count": 12,
     "metadata": {},
     "output_type": "execute_result"
    }
   ],
   "source": [
    "# Scraping the company name of job\n",
    "company_tag = driver.find_elements_by_xpath(\"//a[@class='subTitle ellipsis fleft']\")\n",
    "company_tag[0:4]"
   ]
  },
  {
   "cell_type": "code",
   "execution_count": 13,
   "id": "a9b9aa08",
   "metadata": {},
   "outputs": [
    {
     "name": "stdout",
     "output_type": "stream",
     "text": [
      "the company name for starting four job are\n",
      " ['Flipkart', 'Flipkart', 'Genpact', 'Aspect']\n"
     ]
    }
   ],
   "source": [
    "#Insert all company name result into data_analyst_company_name list\n",
    "for i in company_tag:\n",
    "    name = i.text\n",
    "    data_analyst_company_name.append(name)\n",
    "print('the company name for starting four job are\\n',data_analyst_company_name[0:4])"
   ]
  },
  {
   "cell_type": "code",
   "execution_count": 14,
   "id": "eee0998f",
   "metadata": {},
   "outputs": [
    {
     "data": {
      "text/plain": [
       "[<selenium.webdriver.remote.webelement.WebElement (session=\"0bafafbab8045270169de4b040b97438\", element=\"21350090-dc8a-436c-9578-e4b0e791d526\")>,\n",
       " <selenium.webdriver.remote.webelement.WebElement (session=\"0bafafbab8045270169de4b040b97438\", element=\"d37aef46-8df6-4967-80fe-f3b3d511ec3a\")>,\n",
       " <selenium.webdriver.remote.webelement.WebElement (session=\"0bafafbab8045270169de4b040b97438\", element=\"955f86d5-ce58-4b11-bc95-5499710dc852\")>,\n",
       " <selenium.webdriver.remote.webelement.WebElement (session=\"0bafafbab8045270169de4b040b97438\", element=\"78554a1b-1105-42a7-9dad-4d9934a8978a\")>]"
      ]
     },
     "execution_count": 14,
     "metadata": {},
     "output_type": "execute_result"
    }
   ],
   "source": [
    "# Scrapping the experience required for job\n",
    "experience_tag = driver.find_elements_by_xpath(\"//li[@class='fleft grey-text br2 placeHolderLi experience']/span[1]\")\n",
    "experience_tag[0:4]"
   ]
  },
  {
   "cell_type": "code",
   "execution_count": 15,
   "id": "7357242f",
   "metadata": {},
   "outputs": [
    {
     "name": "stdout",
     "output_type": "stream",
     "text": [
      "the required experience for starting four job are\n",
      " ['1-6 Yrs', '2-4 Yrs', '7-12 Yrs', '0-2 Yrs']\n"
     ]
    }
   ],
   "source": [
    "#Insert all experience required result into data_analyst_experience list\n",
    "for i in experience_tag:\n",
    "    req_experience = i.text\n",
    "    data_analyst_experience.append(req_experience)\n",
    "print('the required experience for starting four job are\\n',data_analyst_experience[0:4]) "
   ]
  },
  {
   "cell_type": "code",
   "execution_count": 16,
   "id": "2df68c5c",
   "metadata": {},
   "outputs": [
    {
     "name": "stdout",
     "output_type": "stream",
     "text": [
      "20 20 20 20\n"
     ]
    }
   ],
   "source": [
    "#print the length of each list\n",
    "print(len(data_analyst_title),len(data_analyst_company_name),len(data_analyst_location),len(data_analyst_experience))"
   ]
  },
  {
   "cell_type": "code",
   "execution_count": 17,
   "id": "3964e37e",
   "metadata": {},
   "outputs": [],
   "source": [
    "# Creating empty data frame \n",
    "Data_Analyst = pd.DataFrame({})\n",
    "\n",
    "# Adding column's into data frame\n",
    "Data_Analyst['Title'] = data_analyst_title\n",
    "Data_Analyst['Company Name'] = data_analyst_company_name\n",
    "Data_Analyst['Location'] = data_analyst_location\n",
    "Data_Analyst['Experience Required'] = data_analyst_experience"
   ]
  },
  {
   "cell_type": "code",
   "execution_count": 18,
   "id": "045e9329",
   "metadata": {},
   "outputs": [
    {
     "data": {
      "text/html": [
       "<div>\n",
       "<style scoped>\n",
       "    .dataframe tbody tr th:only-of-type {\n",
       "        vertical-align: middle;\n",
       "    }\n",
       "\n",
       "    .dataframe tbody tr th {\n",
       "        vertical-align: top;\n",
       "    }\n",
       "\n",
       "    .dataframe thead th {\n",
       "        text-align: right;\n",
       "    }\n",
       "</style>\n",
       "<table border=\"1\" class=\"dataframe\">\n",
       "  <thead>\n",
       "    <tr style=\"text-align: right;\">\n",
       "      <th></th>\n",
       "      <th>Title</th>\n",
       "      <th>Company Name</th>\n",
       "      <th>Location</th>\n",
       "      <th>Experience Required</th>\n",
       "    </tr>\n",
       "  </thead>\n",
       "  <tbody>\n",
       "    <tr>\n",
       "      <th>0</th>\n",
       "      <td>Hiring -Data Analyst, Business Analyst, MIS An...</td>\n",
       "      <td>Flipkart</td>\n",
       "      <td>Bangalore/Bengaluru</td>\n",
       "      <td>1-6 Yrs</td>\n",
       "    </tr>\n",
       "    <tr>\n",
       "      <th>1</th>\n",
       "      <td>Senior Data Analyst III</td>\n",
       "      <td>Flipkart</td>\n",
       "      <td>Bengaluru/Bangalore</td>\n",
       "      <td>2-4 Yrs</td>\n",
       "    </tr>\n",
       "    <tr>\n",
       "      <th>2</th>\n",
       "      <td>Business Analyst/ Data Analyst- Capital Market...</td>\n",
       "      <td>Genpact</td>\n",
       "      <td>Pune, Bangalore/Bengaluru</td>\n",
       "      <td>7-12 Yrs</td>\n",
       "    </tr>\n",
       "    <tr>\n",
       "      <th>3</th>\n",
       "      <td>Customer Data Management Analyst</td>\n",
       "      <td>Aspect</td>\n",
       "      <td>Bangalore/Bengaluru</td>\n",
       "      <td>0-2 Yrs</td>\n",
       "    </tr>\n",
       "    <tr>\n",
       "      <th>4</th>\n",
       "      <td>Data Analyst</td>\n",
       "      <td>GlaxoSmithKline Pharmaceuticals Limited</td>\n",
       "      <td>Bangalore/Bengaluru</td>\n",
       "      <td>3-8 Yrs</td>\n",
       "    </tr>\n",
       "    <tr>\n",
       "      <th>5</th>\n",
       "      <td>Assistant/deputy Manager - Geo-spatial Data An...</td>\n",
       "      <td>Maruti Suzuki India</td>\n",
       "      <td>Gurgaon/Gurugram, bangalore</td>\n",
       "      <td>3-5 Yrs</td>\n",
       "    </tr>\n",
       "    <tr>\n",
       "      <th>6</th>\n",
       "      <td>Senior Data Analyst</td>\n",
       "      <td>Rapido</td>\n",
       "      <td>Bangalore/Bengaluru</td>\n",
       "      <td>1-6 Yrs</td>\n",
       "    </tr>\n",
       "    <tr>\n",
       "      <th>7</th>\n",
       "      <td>Senior Data Analyst</td>\n",
       "      <td>SYREN TECHNOLOGIES PRIVATE LIMITED</td>\n",
       "      <td>Kolkata, Hyderabad/Secunderabad, Pune, Ahmedab...</td>\n",
       "      <td>5-10 Yrs</td>\n",
       "    </tr>\n",
       "    <tr>\n",
       "      <th>8</th>\n",
       "      <td>Senior Data Analyst</td>\n",
       "      <td>Flipkart</td>\n",
       "      <td>Bengaluru/Bangalore</td>\n",
       "      <td>4-5 Yrs</td>\n",
       "    </tr>\n",
       "    <tr>\n",
       "      <th>9</th>\n",
       "      <td>Openings For SQL Data Analyst</td>\n",
       "      <td>StackNexus Technologies India Pvt. Ltd</td>\n",
       "      <td>Hyderabad/Secunderabad, Bangalore/Bengaluru</td>\n",
       "      <td>3-6 Yrs</td>\n",
       "    </tr>\n",
       "    <tr>\n",
       "      <th>10</th>\n",
       "      <td>Data Analyst (On Contract)</td>\n",
       "      <td>Rupeek Fintech Pvt Ltd</td>\n",
       "      <td>Bangalore/Bengaluru</td>\n",
       "      <td>0-2 Yrs</td>\n",
       "    </tr>\n",
       "    <tr>\n",
       "      <th>11</th>\n",
       "      <td>Data Analyst</td>\n",
       "      <td>Schneider Electric</td>\n",
       "      <td>Bangalore/Bengaluru</td>\n",
       "      <td>2-5 Yrs</td>\n",
       "    </tr>\n",
       "    <tr>\n",
       "      <th>12</th>\n",
       "      <td>Data Analyst</td>\n",
       "      <td>GlaxoSmithKline Pharmaceuticals Limited</td>\n",
       "      <td>Bangalore/Bengaluru</td>\n",
       "      <td>3-8 Yrs</td>\n",
       "    </tr>\n",
       "    <tr>\n",
       "      <th>13</th>\n",
       "      <td>Data Analyst / Engineer</td>\n",
       "      <td>Animaker India Private Limited</td>\n",
       "      <td>Chennai, Bangalore/Bengaluru</td>\n",
       "      <td>4-9 Yrs</td>\n",
       "    </tr>\n",
       "    <tr>\n",
       "      <th>14</th>\n",
       "      <td>Senior Data Analyst</td>\n",
       "      <td>Flipkart</td>\n",
       "      <td>Bangalore/Bengaluru</td>\n",
       "      <td>3-7 Yrs</td>\n",
       "    </tr>\n",
       "    <tr>\n",
       "      <th>15</th>\n",
       "      <td>Senior Data Analyst for HANA Platform</td>\n",
       "      <td>Intel</td>\n",
       "      <td>Bangalore/Bengaluru</td>\n",
       "      <td>5-10 Yrs</td>\n",
       "    </tr>\n",
       "    <tr>\n",
       "      <th>16</th>\n",
       "      <td>Lead - Data Analyst - Leading US MNC</td>\n",
       "      <td>EVOLVE TECHNOLOGIES AND SERVICES PRIVATE LIMITED</td>\n",
       "      <td>Mumbai, Gurgaon/Gurugram, Bangalore/Bengaluru</td>\n",
       "      <td>6-11 Yrs</td>\n",
       "    </tr>\n",
       "    <tr>\n",
       "      <th>17</th>\n",
       "      <td>Jr. Data Analyst/ Jr. Data Scientist</td>\n",
       "      <td>Sejal Consulting Hub</td>\n",
       "      <td>Hyderabad/Secunderabad, Bangalore/Bengaluru, M...</td>\n",
       "      <td>0-5 Yrs</td>\n",
       "    </tr>\n",
       "    <tr>\n",
       "      <th>18</th>\n",
       "      <td>Data Analyst</td>\n",
       "      <td>NetraDyne Technology India Private Limited</td>\n",
       "      <td>Bangalore/Bengaluru</td>\n",
       "      <td>2-5 Yrs</td>\n",
       "    </tr>\n",
       "    <tr>\n",
       "      <th>19</th>\n",
       "      <td>Supervisor Role, Data Analyst, six sigma, Anal...</td>\n",
       "      <td>Concentrix Daksh Services</td>\n",
       "      <td>Bangalore/Bengaluru</td>\n",
       "      <td>3-6 Yrs</td>\n",
       "    </tr>\n",
       "  </tbody>\n",
       "</table>\n",
       "</div>"
      ],
      "text/plain": [
       "                                                Title  \\\n",
       "0   Hiring -Data Analyst, Business Analyst, MIS An...   \n",
       "1                             Senior Data Analyst III   \n",
       "2   Business Analyst/ Data Analyst- Capital Market...   \n",
       "3                    Customer Data Management Analyst   \n",
       "4                                        Data Analyst   \n",
       "5   Assistant/deputy Manager - Geo-spatial Data An...   \n",
       "6                                 Senior Data Analyst   \n",
       "7                                 Senior Data Analyst   \n",
       "8                                 Senior Data Analyst   \n",
       "9                       Openings For SQL Data Analyst   \n",
       "10                         Data Analyst (On Contract)   \n",
       "11                                       Data Analyst   \n",
       "12                                       Data Analyst   \n",
       "13                            Data Analyst / Engineer   \n",
       "14                                Senior Data Analyst   \n",
       "15              Senior Data Analyst for HANA Platform   \n",
       "16               Lead - Data Analyst - Leading US MNC   \n",
       "17               Jr. Data Analyst/ Jr. Data Scientist   \n",
       "18                                       Data Analyst   \n",
       "19  Supervisor Role, Data Analyst, six sigma, Anal...   \n",
       "\n",
       "                                        Company Name  \\\n",
       "0                                           Flipkart   \n",
       "1                                           Flipkart   \n",
       "2                                            Genpact   \n",
       "3                                             Aspect   \n",
       "4            GlaxoSmithKline Pharmaceuticals Limited   \n",
       "5                                Maruti Suzuki India   \n",
       "6                                             Rapido   \n",
       "7                 SYREN TECHNOLOGIES PRIVATE LIMITED   \n",
       "8                                           Flipkart   \n",
       "9             StackNexus Technologies India Pvt. Ltd   \n",
       "10                            Rupeek Fintech Pvt Ltd   \n",
       "11                                Schneider Electric   \n",
       "12           GlaxoSmithKline Pharmaceuticals Limited   \n",
       "13                    Animaker India Private Limited   \n",
       "14                                          Flipkart   \n",
       "15                                             Intel   \n",
       "16  EVOLVE TECHNOLOGIES AND SERVICES PRIVATE LIMITED   \n",
       "17                              Sejal Consulting Hub   \n",
       "18        NetraDyne Technology India Private Limited   \n",
       "19                         Concentrix Daksh Services   \n",
       "\n",
       "                                             Location Experience Required  \n",
       "0                                 Bangalore/Bengaluru             1-6 Yrs  \n",
       "1                                 Bengaluru/Bangalore             2-4 Yrs  \n",
       "2                           Pune, Bangalore/Bengaluru            7-12 Yrs  \n",
       "3                                 Bangalore/Bengaluru             0-2 Yrs  \n",
       "4                                 Bangalore/Bengaluru             3-8 Yrs  \n",
       "5                         Gurgaon/Gurugram, bangalore             3-5 Yrs  \n",
       "6                                 Bangalore/Bengaluru             1-6 Yrs  \n",
       "7   Kolkata, Hyderabad/Secunderabad, Pune, Ahmedab...            5-10 Yrs  \n",
       "8                                 Bengaluru/Bangalore             4-5 Yrs  \n",
       "9         Hyderabad/Secunderabad, Bangalore/Bengaluru             3-6 Yrs  \n",
       "10                                Bangalore/Bengaluru             0-2 Yrs  \n",
       "11                                Bangalore/Bengaluru             2-5 Yrs  \n",
       "12                                Bangalore/Bengaluru             3-8 Yrs  \n",
       "13                       Chennai, Bangalore/Bengaluru             4-9 Yrs  \n",
       "14                                Bangalore/Bengaluru             3-7 Yrs  \n",
       "15                                Bangalore/Bengaluru            5-10 Yrs  \n",
       "16      Mumbai, Gurgaon/Gurugram, Bangalore/Bengaluru            6-11 Yrs  \n",
       "17  Hyderabad/Secunderabad, Bangalore/Bengaluru, M...             0-5 Yrs  \n",
       "18                                Bangalore/Bengaluru             2-5 Yrs  \n",
       "19                                Bangalore/Bengaluru             3-6 Yrs  "
      ]
     },
     "execution_count": 18,
     "metadata": {},
     "output_type": "execute_result"
    }
   ],
   "source": [
    "# Displaying data frame\n",
    "Data_Analyst"
   ]
  },
  {
   "cell_type": "code",
   "execution_count": 19,
   "id": "486a86c7",
   "metadata": {},
   "outputs": [],
   "source": [
    "# Selectng first 10 jobs from data frame\n",
    "Data_Analyst = Data_Analyst[0:10]"
   ]
  },
  {
   "cell_type": "code",
   "execution_count": 20,
   "id": "8509f930",
   "metadata": {},
   "outputs": [
    {
     "data": {
      "text/html": [
       "<div>\n",
       "<style scoped>\n",
       "    .dataframe tbody tr th:only-of-type {\n",
       "        vertical-align: middle;\n",
       "    }\n",
       "\n",
       "    .dataframe tbody tr th {\n",
       "        vertical-align: top;\n",
       "    }\n",
       "\n",
       "    .dataframe thead th {\n",
       "        text-align: right;\n",
       "    }\n",
       "</style>\n",
       "<table border=\"1\" class=\"dataframe\">\n",
       "  <thead>\n",
       "    <tr style=\"text-align: right;\">\n",
       "      <th></th>\n",
       "      <th>Title</th>\n",
       "      <th>Company Name</th>\n",
       "      <th>Location</th>\n",
       "      <th>Experience Required</th>\n",
       "    </tr>\n",
       "  </thead>\n",
       "  <tbody>\n",
       "    <tr>\n",
       "      <th>0</th>\n",
       "      <td>Hiring -Data Analyst, Business Analyst, MIS An...</td>\n",
       "      <td>Flipkart</td>\n",
       "      <td>Bangalore/Bengaluru</td>\n",
       "      <td>1-6 Yrs</td>\n",
       "    </tr>\n",
       "    <tr>\n",
       "      <th>1</th>\n",
       "      <td>Senior Data Analyst III</td>\n",
       "      <td>Flipkart</td>\n",
       "      <td>Bengaluru/Bangalore</td>\n",
       "      <td>2-4 Yrs</td>\n",
       "    </tr>\n",
       "    <tr>\n",
       "      <th>2</th>\n",
       "      <td>Business Analyst/ Data Analyst- Capital Market...</td>\n",
       "      <td>Genpact</td>\n",
       "      <td>Pune, Bangalore/Bengaluru</td>\n",
       "      <td>7-12 Yrs</td>\n",
       "    </tr>\n",
       "    <tr>\n",
       "      <th>3</th>\n",
       "      <td>Customer Data Management Analyst</td>\n",
       "      <td>Aspect</td>\n",
       "      <td>Bangalore/Bengaluru</td>\n",
       "      <td>0-2 Yrs</td>\n",
       "    </tr>\n",
       "    <tr>\n",
       "      <th>4</th>\n",
       "      <td>Data Analyst</td>\n",
       "      <td>GlaxoSmithKline Pharmaceuticals Limited</td>\n",
       "      <td>Bangalore/Bengaluru</td>\n",
       "      <td>3-8 Yrs</td>\n",
       "    </tr>\n",
       "    <tr>\n",
       "      <th>5</th>\n",
       "      <td>Assistant/deputy Manager - Geo-spatial Data An...</td>\n",
       "      <td>Maruti Suzuki India</td>\n",
       "      <td>Gurgaon/Gurugram, bangalore</td>\n",
       "      <td>3-5 Yrs</td>\n",
       "    </tr>\n",
       "    <tr>\n",
       "      <th>6</th>\n",
       "      <td>Senior Data Analyst</td>\n",
       "      <td>Rapido</td>\n",
       "      <td>Bangalore/Bengaluru</td>\n",
       "      <td>1-6 Yrs</td>\n",
       "    </tr>\n",
       "    <tr>\n",
       "      <th>7</th>\n",
       "      <td>Senior Data Analyst</td>\n",
       "      <td>SYREN TECHNOLOGIES PRIVATE LIMITED</td>\n",
       "      <td>Kolkata, Hyderabad/Secunderabad, Pune, Ahmedab...</td>\n",
       "      <td>5-10 Yrs</td>\n",
       "    </tr>\n",
       "    <tr>\n",
       "      <th>8</th>\n",
       "      <td>Senior Data Analyst</td>\n",
       "      <td>Flipkart</td>\n",
       "      <td>Bengaluru/Bangalore</td>\n",
       "      <td>4-5 Yrs</td>\n",
       "    </tr>\n",
       "    <tr>\n",
       "      <th>9</th>\n",
       "      <td>Openings For SQL Data Analyst</td>\n",
       "      <td>StackNexus Technologies India Pvt. Ltd</td>\n",
       "      <td>Hyderabad/Secunderabad, Bangalore/Bengaluru</td>\n",
       "      <td>3-6 Yrs</td>\n",
       "    </tr>\n",
       "  </tbody>\n",
       "</table>\n",
       "</div>"
      ],
      "text/plain": [
       "                                               Title  \\\n",
       "0  Hiring -Data Analyst, Business Analyst, MIS An...   \n",
       "1                            Senior Data Analyst III   \n",
       "2  Business Analyst/ Data Analyst- Capital Market...   \n",
       "3                   Customer Data Management Analyst   \n",
       "4                                       Data Analyst   \n",
       "5  Assistant/deputy Manager - Geo-spatial Data An...   \n",
       "6                                Senior Data Analyst   \n",
       "7                                Senior Data Analyst   \n",
       "8                                Senior Data Analyst   \n",
       "9                      Openings For SQL Data Analyst   \n",
       "\n",
       "                              Company Name  \\\n",
       "0                                 Flipkart   \n",
       "1                                 Flipkart   \n",
       "2                                  Genpact   \n",
       "3                                   Aspect   \n",
       "4  GlaxoSmithKline Pharmaceuticals Limited   \n",
       "5                      Maruti Suzuki India   \n",
       "6                                   Rapido   \n",
       "7       SYREN TECHNOLOGIES PRIVATE LIMITED   \n",
       "8                                 Flipkart   \n",
       "9   StackNexus Technologies India Pvt. Ltd   \n",
       "\n",
       "                                            Location Experience Required  \n",
       "0                                Bangalore/Bengaluru             1-6 Yrs  \n",
       "1                                Bengaluru/Bangalore             2-4 Yrs  \n",
       "2                          Pune, Bangalore/Bengaluru            7-12 Yrs  \n",
       "3                                Bangalore/Bengaluru             0-2 Yrs  \n",
       "4                                Bangalore/Bengaluru             3-8 Yrs  \n",
       "5                        Gurgaon/Gurugram, bangalore             3-5 Yrs  \n",
       "6                                Bangalore/Bengaluru             1-6 Yrs  \n",
       "7  Kolkata, Hyderabad/Secunderabad, Pune, Ahmedab...            5-10 Yrs  \n",
       "8                                Bengaluru/Bangalore             4-5 Yrs  \n",
       "9        Hyderabad/Secunderabad, Bangalore/Bengaluru             3-6 Yrs  "
      ]
     },
     "execution_count": 20,
     "metadata": {},
     "output_type": "execute_result"
    }
   ],
   "source": [
    "# Displaying first 10 jobs from data frame\n",
    "Data_Analyst"
   ]
  },
  {
   "cell_type": "code",
   "execution_count": 21,
   "id": "ca8ef9fd",
   "metadata": {},
   "outputs": [],
   "source": [
    "# Closing the current driver\n",
    "driver.close()"
   ]
  },
  {
   "cell_type": "markdown",
   "id": "d05ad5a5",
   "metadata": {},
   "source": [
    "### Q.2 Program to scrape data for “Data Scientist” Job position in “Bangalore” location. We have to scrape the job-title, job-location, company_name. We have to scrape first 10 jobs data. Finally create a dataframe of the scraped data "
   ]
  },
  {
   "cell_type": "code",
   "execution_count": 22,
   "id": "7cff475b",
   "metadata": {},
   "outputs": [],
   "source": [
    "# Connecting with web driver\n",
    "driver = webdriver.Chrome(r'E:/DATA TRAINED/Sofrware/chromedriver_win32/chromedriver.exe')"
   ]
  },
  {
   "cell_type": "code",
   "execution_count": 23,
   "id": "6886b01d",
   "metadata": {},
   "outputs": [],
   "source": [
    "# Open url by driver\n",
    "driver.get(r'https://www.naukri.com/')"
   ]
  },
  {
   "cell_type": "code",
   "execution_count": 24,
   "id": "55ec3581",
   "metadata": {},
   "outputs": [],
   "source": [
    "# Input first element title to be as Search 'Data Scientist' from webpage \n",
    "search_job = driver.find_element_by_id('qsb-keyword-sugg')\n",
    "search_job.send_keys('Data Scientist')"
   ]
  },
  {
   "cell_type": "code",
   "execution_count": 25,
   "id": "36f7b807",
   "metadata": {},
   "outputs": [],
   "source": [
    "# Input second element location to be as Search 'Bangalore' from webpage \n",
    "search_location = driver.find_element_by_xpath(\"//input[@id='qsb-location-sugg']\")\n",
    "search_location.send_keys('Bangalore')"
   ]
  },
  {
   "cell_type": "code",
   "execution_count": 26,
   "id": "03533d56",
   "metadata": {},
   "outputs": [],
   "source": [
    "# Click on search button that provide us the result based on first and second element\n",
    "search_btn = driver.find_element_by_xpath(\"//div[@class='search-btn']/button\")\n",
    "search_btn.click()"
   ]
  },
  {
   "cell_type": "code",
   "execution_count": 27,
   "id": "fd443b29",
   "metadata": {},
   "outputs": [],
   "source": [
    "# Creating an empty list for job-title, job-location, company_name\n",
    "Data_Scientist_title = []\n",
    "Data_Scientist_location = []\n",
    "Data_Scientist_company_name = []"
   ]
  },
  {
   "cell_type": "code",
   "execution_count": 28,
   "id": "c7fb91fa",
   "metadata": {},
   "outputs": [
    {
     "data": {
      "text/plain": [
       "[<selenium.webdriver.remote.webelement.WebElement (session=\"f61ded7e5a73dc06db80976ba6d408cd\", element=\"4c6231a0-e875-429b-8d70-a97918e98bbc\")>,\n",
       " <selenium.webdriver.remote.webelement.WebElement (session=\"f61ded7e5a73dc06db80976ba6d408cd\", element=\"149d3c73-a6b8-4b04-9718-c51ebbdfa16f\")>,\n",
       " <selenium.webdriver.remote.webelement.WebElement (session=\"f61ded7e5a73dc06db80976ba6d408cd\", element=\"1ec5b616-4bb8-4c50-b67c-61efa8404a38\")>,\n",
       " <selenium.webdriver.remote.webelement.WebElement (session=\"f61ded7e5a73dc06db80976ba6d408cd\", element=\"361d4621-8d93-4a6c-8124-48ecb51e1ceb\")>]"
      ]
     },
     "execution_count": 28,
     "metadata": {},
     "output_type": "execute_result"
    }
   ],
   "source": [
    "# Scraping the title of the job\n",
    "title_tag = driver.find_elements_by_xpath(\"//a[@class='title fw500 ellipsis']\")\n",
    "title_tag[0:4]"
   ]
  },
  {
   "cell_type": "code",
   "execution_count": 29,
   "id": "cb1bf741",
   "metadata": {},
   "outputs": [
    {
     "data": {
      "text/plain": [
       "['Lead / Principal Data Scientist',\n",
       " 'Data Scientist',\n",
       " 'Senior Data Scientist',\n",
       " 'Senior Data Scientist']"
      ]
     },
     "execution_count": 29,
     "metadata": {},
     "output_type": "execute_result"
    }
   ],
   "source": [
    "#Insert all job result into Data_Scientist_title list\n",
    "for i in title_tag:\n",
    "    title = i.text\n",
    "    Data_Scientist_title.append(title)\n",
    "Data_Scientist_title[0:4]    "
   ]
  },
  {
   "cell_type": "code",
   "execution_count": 30,
   "id": "f51289c9",
   "metadata": {},
   "outputs": [
    {
     "data": {
      "text/plain": [
       "[<selenium.webdriver.remote.webelement.WebElement (session=\"f61ded7e5a73dc06db80976ba6d408cd\", element=\"7432b4ad-9202-467f-b076-87472d3f6d76\")>,\n",
       " <selenium.webdriver.remote.webelement.WebElement (session=\"f61ded7e5a73dc06db80976ba6d408cd\", element=\"4dd9066d-75db-4f26-9eb0-91136da8b4b3\")>,\n",
       " <selenium.webdriver.remote.webelement.WebElement (session=\"f61ded7e5a73dc06db80976ba6d408cd\", element=\"9450773d-d92d-4775-ac5d-e43fd8bd6390\")>,\n",
       " <selenium.webdriver.remote.webelement.WebElement (session=\"f61ded7e5a73dc06db80976ba6d408cd\", element=\"06781016-48c5-49d1-afe5-26daa08e2e23\")>]"
      ]
     },
     "execution_count": 30,
     "metadata": {},
     "output_type": "execute_result"
    }
   ],
   "source": [
    "# Scraping the company name of job\n",
    "company_tag = driver.find_elements_by_xpath(\"//a[@class='subTitle ellipsis fleft']\")\n",
    "company_tag[0:4]"
   ]
  },
  {
   "cell_type": "code",
   "execution_count": 31,
   "id": "7553b551",
   "metadata": {},
   "outputs": [
    {
     "data": {
      "text/plain": [
       "['Aviso Inc', 'Snaphunt', 'Ally-Executive', 'Visa']"
      ]
     },
     "execution_count": 31,
     "metadata": {},
     "output_type": "execute_result"
    }
   ],
   "source": [
    "#Insert all company name result into Data_Scientist_company_name list\n",
    "for i in company_tag:\n",
    "    company_name = i.text\n",
    "    Data_Scientist_company_name.append(company_name)\n",
    "Data_Scientist_company_name[0:4]    "
   ]
  },
  {
   "cell_type": "code",
   "execution_count": 32,
   "id": "51be41b7",
   "metadata": {},
   "outputs": [
    {
     "data": {
      "text/plain": [
       "[<selenium.webdriver.remote.webelement.WebElement (session=\"f61ded7e5a73dc06db80976ba6d408cd\", element=\"e07e1fed-5bae-4cd9-99b5-fd61d7e2d6ed\")>,\n",
       " <selenium.webdriver.remote.webelement.WebElement (session=\"f61ded7e5a73dc06db80976ba6d408cd\", element=\"fda4a62c-f898-4d9f-94ef-cbc70283e026\")>,\n",
       " <selenium.webdriver.remote.webelement.WebElement (session=\"f61ded7e5a73dc06db80976ba6d408cd\", element=\"a6ec6e24-9ba1-4529-a24e-16462990c455\")>,\n",
       " <selenium.webdriver.remote.webelement.WebElement (session=\"f61ded7e5a73dc06db80976ba6d408cd\", element=\"a0177108-98b5-41a6-b6bc-0bed687635c8\")>]"
      ]
     },
     "execution_count": 32,
     "metadata": {},
     "output_type": "execute_result"
    }
   ],
   "source": [
    "# Scraping the location of the job\n",
    "location_tag = driver.find_elements_by_xpath(\"//li[@class='fleft grey-text br2 placeHolderLi location']/span[1]\")\n",
    "location_tag[0:4]"
   ]
  },
  {
   "cell_type": "code",
   "execution_count": 33,
   "id": "a52cc7f5",
   "metadata": {},
   "outputs": [
    {
     "data": {
      "text/plain": [
       "['Mumbai, Hyderabad/Secunderabad, Pune, Delhi / NCR, Bangalore/Bengaluru',\n",
       " 'Bangalore/Bengaluru',\n",
       " 'Bangalore/Bengaluru',\n",
       " 'Bangalore/Bengaluru']"
      ]
     },
     "execution_count": 33,
     "metadata": {},
     "output_type": "execute_result"
    }
   ],
   "source": [
    "#Insert all location result into Data_Scientist_location list\n",
    "for i in location_tag:\n",
    "    location = i.text\n",
    "    Data_Scientist_location.append(location)\n",
    "Data_Scientist_location[0:4]    "
   ]
  },
  {
   "cell_type": "code",
   "execution_count": 34,
   "id": "8e853241",
   "metadata": {},
   "outputs": [
    {
     "name": "stdout",
     "output_type": "stream",
     "text": [
      "20 20 20\n"
     ]
    }
   ],
   "source": [
    "#print the length of each list\n",
    "print(len(Data_Scientist_title),len(Data_Scientist_company_name),len(Data_Scientist_location))"
   ]
  },
  {
   "cell_type": "code",
   "execution_count": 35,
   "id": "f5916b04",
   "metadata": {},
   "outputs": [],
   "source": [
    "# Creating empty data frame\n",
    "Data_Scientist = pd.DataFrame({})\n",
    "\n",
    "# Adding column's into data frame\n",
    "Data_Scientist['Title'] = Data_Scientist_title\n",
    "Data_Scientist['Company Name'] = Data_Scientist_company_name\n",
    "Data_Scientist['Location'] = Data_Scientist_location"
   ]
  },
  {
   "cell_type": "code",
   "execution_count": 36,
   "id": "1f129445",
   "metadata": {},
   "outputs": [
    {
     "data": {
      "text/html": [
       "<div>\n",
       "<style scoped>\n",
       "    .dataframe tbody tr th:only-of-type {\n",
       "        vertical-align: middle;\n",
       "    }\n",
       "\n",
       "    .dataframe tbody tr th {\n",
       "        vertical-align: top;\n",
       "    }\n",
       "\n",
       "    .dataframe thead th {\n",
       "        text-align: right;\n",
       "    }\n",
       "</style>\n",
       "<table border=\"1\" class=\"dataframe\">\n",
       "  <thead>\n",
       "    <tr style=\"text-align: right;\">\n",
       "      <th></th>\n",
       "      <th>Title</th>\n",
       "      <th>Company Name</th>\n",
       "      <th>Location</th>\n",
       "    </tr>\n",
       "  </thead>\n",
       "  <tbody>\n",
       "    <tr>\n",
       "      <th>0</th>\n",
       "      <td>Lead / Principal Data Scientist</td>\n",
       "      <td>Aviso Inc</td>\n",
       "      <td>Mumbai, Hyderabad/Secunderabad, Pune, Delhi / ...</td>\n",
       "    </tr>\n",
       "    <tr>\n",
       "      <th>1</th>\n",
       "      <td>Data Scientist</td>\n",
       "      <td>Snaphunt</td>\n",
       "      <td>Bangalore/Bengaluru</td>\n",
       "    </tr>\n",
       "    <tr>\n",
       "      <th>2</th>\n",
       "      <td>Senior Data Scientist</td>\n",
       "      <td>Ally-Executive</td>\n",
       "      <td>Bangalore/Bengaluru</td>\n",
       "    </tr>\n",
       "    <tr>\n",
       "      <th>3</th>\n",
       "      <td>Senior Data Scientist</td>\n",
       "      <td>Visa</td>\n",
       "      <td>Bangalore/Bengaluru</td>\n",
       "    </tr>\n",
       "    <tr>\n",
       "      <th>4</th>\n",
       "      <td>Data Scientist - Credit Risk</td>\n",
       "      <td>Scienaptic Systems</td>\n",
       "      <td>Bangalore/Bengaluru</td>\n",
       "    </tr>\n",
       "    <tr>\n",
       "      <th>5</th>\n",
       "      <td>Lead/Senior Data Scientist (NLP)</td>\n",
       "      <td>Samya.AI A FRACTAL Entity</td>\n",
       "      <td>Bangalore/Bengaluru</td>\n",
       "    </tr>\n",
       "    <tr>\n",
       "      <th>6</th>\n",
       "      <td>Data Scientist 2</td>\n",
       "      <td>ANI Technologies Pvt. Ltd.</td>\n",
       "      <td>Bangalore/Bengaluru</td>\n",
       "    </tr>\n",
       "    <tr>\n",
       "      <th>7</th>\n",
       "      <td>Machine Learning AI Data Scientist</td>\n",
       "      <td>EKO Infomatics Solutions Private Limited</td>\n",
       "      <td>Bangalore/Bengaluru</td>\n",
       "    </tr>\n",
       "    <tr>\n",
       "      <th>8</th>\n",
       "      <td>Sr. Associate Consultant Data Scientist</td>\n",
       "      <td>Eli Lilly and Company</td>\n",
       "      <td>Bangalore/Bengaluru</td>\n",
       "    </tr>\n",
       "    <tr>\n",
       "      <th>9</th>\n",
       "      <td>Senior Engineer - AIML - Data Scientist</td>\n",
       "      <td>Unisys</td>\n",
       "      <td>Bangalore/Bengaluru</td>\n",
       "    </tr>\n",
       "    <tr>\n",
       "      <th>10</th>\n",
       "      <td>Data Scientist /Senior Data Science Executive</td>\n",
       "      <td>Sejal Consulting Hub</td>\n",
       "      <td>Kolkata, Mumbai, Bangalore/Bengaluru</td>\n",
       "    </tr>\n",
       "    <tr>\n",
       "      <th>11</th>\n",
       "      <td>Data Scientist: Advanced Analytics</td>\n",
       "      <td>IBM India Pvt. Limited</td>\n",
       "      <td>Bengaluru/Bangalore</td>\n",
       "    </tr>\n",
       "    <tr>\n",
       "      <th>12</th>\n",
       "      <td>Data Scientist: Advanced Analytics</td>\n",
       "      <td>IBM India Pvt. Limited</td>\n",
       "      <td>Bangalore/Bengaluru</td>\n",
       "    </tr>\n",
       "    <tr>\n",
       "      <th>13</th>\n",
       "      <td>Cognitive Data Scientist</td>\n",
       "      <td>IBM India Pvt. Limited</td>\n",
       "      <td>Bangalore/Bengaluru</td>\n",
       "    </tr>\n",
       "    <tr>\n",
       "      <th>14</th>\n",
       "      <td>Deputy Manager - Data Scientist</td>\n",
       "      <td>HDFC LIFE INSURANCE COMPANY LIMITED</td>\n",
       "      <td>Bangalore/Bengaluru</td>\n",
       "    </tr>\n",
       "    <tr>\n",
       "      <th>15</th>\n",
       "      <td>Tcs Hiring For Azure ML Data Scientist</td>\n",
       "      <td>Tata Consultancy Services Ltd.</td>\n",
       "      <td>Hyderabad/Secunderabad, Bangalore/Bengaluru, M...</td>\n",
       "    </tr>\n",
       "    <tr>\n",
       "      <th>16</th>\n",
       "      <td>Hiring For \"Data Scientist\" For leading Big 4 ...</td>\n",
       "      <td>LIVE CONNECTIONS PLACEMENTS PRIVATE LIMITED</td>\n",
       "      <td>Bangalore/Bengaluru, Mumbai (All Areas)</td>\n",
       "    </tr>\n",
       "    <tr>\n",
       "      <th>17</th>\n",
       "      <td>Jr. Data Analyst/ Jr. Data Scientist</td>\n",
       "      <td>Sejal Consulting Hub</td>\n",
       "      <td>Hyderabad/Secunderabad, Bangalore/Bengaluru, M...</td>\n",
       "    </tr>\n",
       "    <tr>\n",
       "      <th>18</th>\n",
       "      <td>Data Scientist - Marketing Analysis | Hudsons ...</td>\n",
       "      <td>TALENT500 TECH (INDIA) PRIVATE LIMITED</td>\n",
       "      <td>Bangalore/Bengaluru</td>\n",
       "    </tr>\n",
       "    <tr>\n",
       "      <th>19</th>\n",
       "      <td>Data Science - Senior Data Scientist</td>\n",
       "      <td>Paytm</td>\n",
       "      <td>Noida, Bangalore/Bengaluru</td>\n",
       "    </tr>\n",
       "  </tbody>\n",
       "</table>\n",
       "</div>"
      ],
      "text/plain": [
       "                                                Title  \\\n",
       "0                     Lead / Principal Data Scientist   \n",
       "1                                      Data Scientist   \n",
       "2                               Senior Data Scientist   \n",
       "3                               Senior Data Scientist   \n",
       "4                        Data Scientist - Credit Risk   \n",
       "5                    Lead/Senior Data Scientist (NLP)   \n",
       "6                                    Data Scientist 2   \n",
       "7                  Machine Learning AI Data Scientist   \n",
       "8             Sr. Associate Consultant Data Scientist   \n",
       "9             Senior Engineer - AIML - Data Scientist   \n",
       "10      Data Scientist /Senior Data Science Executive   \n",
       "11                 Data Scientist: Advanced Analytics   \n",
       "12                 Data Scientist: Advanced Analytics   \n",
       "13                           Cognitive Data Scientist   \n",
       "14                    Deputy Manager - Data Scientist   \n",
       "15             Tcs Hiring For Azure ML Data Scientist   \n",
       "16  Hiring For \"Data Scientist\" For leading Big 4 ...   \n",
       "17               Jr. Data Analyst/ Jr. Data Scientist   \n",
       "18  Data Scientist - Marketing Analysis | Hudsons ...   \n",
       "19               Data Science - Senior Data Scientist   \n",
       "\n",
       "                                   Company Name  \\\n",
       "0                                     Aviso Inc   \n",
       "1                                      Snaphunt   \n",
       "2                                Ally-Executive   \n",
       "3                                          Visa   \n",
       "4                            Scienaptic Systems   \n",
       "5                     Samya.AI A FRACTAL Entity   \n",
       "6                    ANI Technologies Pvt. Ltd.   \n",
       "7      EKO Infomatics Solutions Private Limited   \n",
       "8                         Eli Lilly and Company   \n",
       "9                                        Unisys   \n",
       "10                         Sejal Consulting Hub   \n",
       "11                       IBM India Pvt. Limited   \n",
       "12                       IBM India Pvt. Limited   \n",
       "13                       IBM India Pvt. Limited   \n",
       "14          HDFC LIFE INSURANCE COMPANY LIMITED   \n",
       "15               Tata Consultancy Services Ltd.   \n",
       "16  LIVE CONNECTIONS PLACEMENTS PRIVATE LIMITED   \n",
       "17                         Sejal Consulting Hub   \n",
       "18       TALENT500 TECH (INDIA) PRIVATE LIMITED   \n",
       "19                                        Paytm   \n",
       "\n",
       "                                             Location  \n",
       "0   Mumbai, Hyderabad/Secunderabad, Pune, Delhi / ...  \n",
       "1                                 Bangalore/Bengaluru  \n",
       "2                                 Bangalore/Bengaluru  \n",
       "3                                 Bangalore/Bengaluru  \n",
       "4                                 Bangalore/Bengaluru  \n",
       "5                                 Bangalore/Bengaluru  \n",
       "6                                 Bangalore/Bengaluru  \n",
       "7                                 Bangalore/Bengaluru  \n",
       "8                                 Bangalore/Bengaluru  \n",
       "9                                 Bangalore/Bengaluru  \n",
       "10               Kolkata, Mumbai, Bangalore/Bengaluru  \n",
       "11                                Bengaluru/Bangalore  \n",
       "12                                Bangalore/Bengaluru  \n",
       "13                                Bangalore/Bengaluru  \n",
       "14                                Bangalore/Bengaluru  \n",
       "15  Hyderabad/Secunderabad, Bangalore/Bengaluru, M...  \n",
       "16            Bangalore/Bengaluru, Mumbai (All Areas)  \n",
       "17  Hyderabad/Secunderabad, Bangalore/Bengaluru, M...  \n",
       "18                                Bangalore/Bengaluru  \n",
       "19                         Noida, Bangalore/Bengaluru  "
      ]
     },
     "execution_count": 36,
     "metadata": {},
     "output_type": "execute_result"
    }
   ],
   "source": [
    "# Displaying data frame\n",
    "Data_Scientist"
   ]
  },
  {
   "cell_type": "code",
   "execution_count": 37,
   "id": "8285f6f8",
   "metadata": {},
   "outputs": [
    {
     "data": {
      "text/html": [
       "<div>\n",
       "<style scoped>\n",
       "    .dataframe tbody tr th:only-of-type {\n",
       "        vertical-align: middle;\n",
       "    }\n",
       "\n",
       "    .dataframe tbody tr th {\n",
       "        vertical-align: top;\n",
       "    }\n",
       "\n",
       "    .dataframe thead th {\n",
       "        text-align: right;\n",
       "    }\n",
       "</style>\n",
       "<table border=\"1\" class=\"dataframe\">\n",
       "  <thead>\n",
       "    <tr style=\"text-align: right;\">\n",
       "      <th></th>\n",
       "      <th>Title</th>\n",
       "      <th>Company Name</th>\n",
       "      <th>Location</th>\n",
       "    </tr>\n",
       "  </thead>\n",
       "  <tbody>\n",
       "    <tr>\n",
       "      <th>0</th>\n",
       "      <td>Lead / Principal Data Scientist</td>\n",
       "      <td>Aviso Inc</td>\n",
       "      <td>Mumbai, Hyderabad/Secunderabad, Pune, Delhi / ...</td>\n",
       "    </tr>\n",
       "    <tr>\n",
       "      <th>1</th>\n",
       "      <td>Data Scientist</td>\n",
       "      <td>Snaphunt</td>\n",
       "      <td>Bangalore/Bengaluru</td>\n",
       "    </tr>\n",
       "    <tr>\n",
       "      <th>2</th>\n",
       "      <td>Senior Data Scientist</td>\n",
       "      <td>Ally-Executive</td>\n",
       "      <td>Bangalore/Bengaluru</td>\n",
       "    </tr>\n",
       "    <tr>\n",
       "      <th>3</th>\n",
       "      <td>Senior Data Scientist</td>\n",
       "      <td>Visa</td>\n",
       "      <td>Bangalore/Bengaluru</td>\n",
       "    </tr>\n",
       "    <tr>\n",
       "      <th>4</th>\n",
       "      <td>Data Scientist - Credit Risk</td>\n",
       "      <td>Scienaptic Systems</td>\n",
       "      <td>Bangalore/Bengaluru</td>\n",
       "    </tr>\n",
       "    <tr>\n",
       "      <th>5</th>\n",
       "      <td>Lead/Senior Data Scientist (NLP)</td>\n",
       "      <td>Samya.AI A FRACTAL Entity</td>\n",
       "      <td>Bangalore/Bengaluru</td>\n",
       "    </tr>\n",
       "    <tr>\n",
       "      <th>6</th>\n",
       "      <td>Data Scientist 2</td>\n",
       "      <td>ANI Technologies Pvt. Ltd.</td>\n",
       "      <td>Bangalore/Bengaluru</td>\n",
       "    </tr>\n",
       "    <tr>\n",
       "      <th>7</th>\n",
       "      <td>Machine Learning AI Data Scientist</td>\n",
       "      <td>EKO Infomatics Solutions Private Limited</td>\n",
       "      <td>Bangalore/Bengaluru</td>\n",
       "    </tr>\n",
       "    <tr>\n",
       "      <th>8</th>\n",
       "      <td>Sr. Associate Consultant Data Scientist</td>\n",
       "      <td>Eli Lilly and Company</td>\n",
       "      <td>Bangalore/Bengaluru</td>\n",
       "    </tr>\n",
       "    <tr>\n",
       "      <th>9</th>\n",
       "      <td>Senior Engineer - AIML - Data Scientist</td>\n",
       "      <td>Unisys</td>\n",
       "      <td>Bangalore/Bengaluru</td>\n",
       "    </tr>\n",
       "  </tbody>\n",
       "</table>\n",
       "</div>"
      ],
      "text/plain": [
       "                                     Title  \\\n",
       "0          Lead / Principal Data Scientist   \n",
       "1                           Data Scientist   \n",
       "2                    Senior Data Scientist   \n",
       "3                    Senior Data Scientist   \n",
       "4             Data Scientist - Credit Risk   \n",
       "5         Lead/Senior Data Scientist (NLP)   \n",
       "6                         Data Scientist 2   \n",
       "7       Machine Learning AI Data Scientist   \n",
       "8  Sr. Associate Consultant Data Scientist   \n",
       "9  Senior Engineer - AIML - Data Scientist   \n",
       "\n",
       "                               Company Name  \\\n",
       "0                                 Aviso Inc   \n",
       "1                                  Snaphunt   \n",
       "2                            Ally-Executive   \n",
       "3                                      Visa   \n",
       "4                        Scienaptic Systems   \n",
       "5                 Samya.AI A FRACTAL Entity   \n",
       "6                ANI Technologies Pvt. Ltd.   \n",
       "7  EKO Infomatics Solutions Private Limited   \n",
       "8                     Eli Lilly and Company   \n",
       "9                                    Unisys   \n",
       "\n",
       "                                            Location  \n",
       "0  Mumbai, Hyderabad/Secunderabad, Pune, Delhi / ...  \n",
       "1                                Bangalore/Bengaluru  \n",
       "2                                Bangalore/Bengaluru  \n",
       "3                                Bangalore/Bengaluru  \n",
       "4                                Bangalore/Bengaluru  \n",
       "5                                Bangalore/Bengaluru  \n",
       "6                                Bangalore/Bengaluru  \n",
       "7                                Bangalore/Bengaluru  \n",
       "8                                Bangalore/Bengaluru  \n",
       "9                                Bangalore/Bengaluru  "
      ]
     },
     "execution_count": 37,
     "metadata": {},
     "output_type": "execute_result"
    }
   ],
   "source": [
    "# Selectng first 10 jobs from data frame\n",
    "Data_Scientist = Data_Scientist[0:10]\n",
    "\n",
    "# Displaying first 10 jobs from data frame\n",
    "Data_Scientist"
   ]
  },
  {
   "cell_type": "code",
   "execution_count": 38,
   "id": "d41442f2",
   "metadata": {},
   "outputs": [],
   "source": [
    "# Closing the current driver\n",
    "driver.close()"
   ]
  },
  {
   "cell_type": "markdown",
   "id": "fd803139",
   "metadata": {},
   "source": [
    "### Q.3 To scrape data using the filters available on the webpage as shown below\n",
    "* location filter to be used is “Delhi/NCR” The salary filter to be used is “3-6” lakhs"
   ]
  },
  {
   "cell_type": "code",
   "execution_count": 39,
   "id": "fa1039db",
   "metadata": {},
   "outputs": [],
   "source": [
    "# Connecting with web driver\n",
    "driver = webdriver.Chrome(r'E:/DATA TRAINED/Sofrware/chromedriver_win32/chromedriver.exe')"
   ]
  },
  {
   "cell_type": "code",
   "execution_count": 40,
   "id": "8546bbee",
   "metadata": {},
   "outputs": [],
   "source": [
    "# Open url by driver\n",
    "driver.get('https://www.naukri.com/')"
   ]
  },
  {
   "cell_type": "code",
   "execution_count": 41,
   "id": "40f8562c",
   "metadata": {},
   "outputs": [],
   "source": [
    "# Input first element title to be as Search 'Data Scientist' from webpage \n",
    "filter_job = driver.find_element_by_id('qsb-keyword-sugg')\n",
    "filter_job.send_keys('Data Scientist')"
   ]
  },
  {
   "cell_type": "code",
   "execution_count": 42,
   "id": "a1fab7fd",
   "metadata": {},
   "outputs": [],
   "source": [
    "# Click on search button that provide us the result based on first element\n",
    "filter_btn = driver.find_element_by_xpath(\"//div[@class='search-btn']/button\")\n",
    "filter_btn.click()"
   ]
  },
  {
   "cell_type": "code",
   "execution_count": 43,
   "id": "02675a1f",
   "metadata": {},
   "outputs": [],
   "source": [
    "# Applying location filter\n",
    "driver.find_element_by_xpath(\"//span[@title='Delhi / NCR']\").click()"
   ]
  },
  {
   "cell_type": "code",
   "execution_count": 44,
   "id": "a7f7f03b",
   "metadata": {},
   "outputs": [],
   "source": [
    "# Applying salary filter\n",
    "driver.find_element_by_xpath(\"//span[@title='3-6 Lakhs']\").click()"
   ]
  },
  {
   "cell_type": "code",
   "execution_count": 45,
   "id": "530d07b9",
   "metadata": {},
   "outputs": [],
   "source": [
    "# Creating an empty list for job-title, job-location, company_name, required experience\n",
    "dsf_job_title = []\n",
    "dsf_job_location = []\n",
    "dsf_company_name = []\n",
    "dsf_req_experience = []"
   ]
  },
  {
   "cell_type": "code",
   "execution_count": 46,
   "id": "115d4485",
   "metadata": {},
   "outputs": [
    {
     "data": {
      "text/plain": [
       "[<selenium.webdriver.remote.webelement.WebElement (session=\"87c2fa70af99faa5b062eee81486f748\", element=\"e2f68230-06a3-465c-8e42-1242406e5a92\")>,\n",
       " <selenium.webdriver.remote.webelement.WebElement (session=\"87c2fa70af99faa5b062eee81486f748\", element=\"258ada95-e631-4206-807c-e81dfa235ef2\")>,\n",
       " <selenium.webdriver.remote.webelement.WebElement (session=\"87c2fa70af99faa5b062eee81486f748\", element=\"79ff0d8d-856b-46d0-8b15-2239b1a099cf\")>,\n",
       " <selenium.webdriver.remote.webelement.WebElement (session=\"87c2fa70af99faa5b062eee81486f748\", element=\"a8ae0073-e292-4db6-93e4-84725a3d4a8f\")>]"
      ]
     },
     "execution_count": 46,
     "metadata": {},
     "output_type": "execute_result"
    }
   ],
   "source": [
    "# Scraping the title of the job\n",
    "dsf_title_tag = driver.find_elements_by_xpath(\"//a[@class='title fw500 ellipsis']\")\n",
    "dsf_title_tag[0:4]"
   ]
  },
  {
   "cell_type": "code",
   "execution_count": 47,
   "id": "1e2fb39f",
   "metadata": {},
   "outputs": [
    {
     "data": {
      "text/plain": [
       "['Data Scientist',\n",
       " 'Data Scientist',\n",
       " 'Hiring For Data Scientist',\n",
       " 'Data Scientist/ Senior Data Scientist']"
      ]
     },
     "execution_count": 47,
     "metadata": {},
     "output_type": "execute_result"
    }
   ],
   "source": [
    "#Insert all job result into dsf_job_title list\n",
    "for i in dsf_title_tag:\n",
    "    dsf_title = i.text\n",
    "    dsf_job_title.append(dsf_title)\n",
    "dsf_job_title[0:4]    "
   ]
  },
  {
   "cell_type": "code",
   "execution_count": 48,
   "id": "3d28a71c",
   "metadata": {},
   "outputs": [
    {
     "data": {
      "text/plain": [
       "[<selenium.webdriver.remote.webelement.WebElement (session=\"87c2fa70af99faa5b062eee81486f748\", element=\"5484621f-bae7-47cb-b921-b3108e711e7b\")>,\n",
       " <selenium.webdriver.remote.webelement.WebElement (session=\"87c2fa70af99faa5b062eee81486f748\", element=\"f26aaeb2-ea54-49be-b9bd-705c0f9ab1fb\")>,\n",
       " <selenium.webdriver.remote.webelement.WebElement (session=\"87c2fa70af99faa5b062eee81486f748\", element=\"4fd30f48-28f3-479e-a726-5aff30d2da5d\")>,\n",
       " <selenium.webdriver.remote.webelement.WebElement (session=\"87c2fa70af99faa5b062eee81486f748\", element=\"ad997d07-3f21-4679-b5bb-46a6d7c27cd2\")>]"
      ]
     },
     "execution_count": 48,
     "metadata": {},
     "output_type": "execute_result"
    }
   ],
   "source": [
    "# Scraping the location of the job\n",
    "dsf_location_tag = driver.find_elements_by_xpath(\"//li[@class='fleft grey-text br2 placeHolderLi location']/span[1]\")\n",
    "dsf_location_tag[0:4]"
   ]
  },
  {
   "cell_type": "code",
   "execution_count": 49,
   "id": "0f88f6ea",
   "metadata": {},
   "outputs": [
    {
     "data": {
      "text/plain": [
       "['Noida, New Delhi, Faridabad, Gurgaon/Gurugram, Delhi / NCR',\n",
       " 'Noida, Nodia',\n",
       " 'Hyderabad/Secunderabad, Pune, Chennai, Bangalore/Bengaluru, Delhi / NCR, Mumbai (All Areas)',\n",
       " 'Noida']"
      ]
     },
     "execution_count": 49,
     "metadata": {},
     "output_type": "execute_result"
    }
   ],
   "source": [
    "#Insert all location result into dsf_job_location list\n",
    "for i in dsf_location_tag:\n",
    "    dsf_location = i.text\n",
    "    dsf_job_location.append(dsf_location)\n",
    "dsf_job_location[0:4]    "
   ]
  },
  {
   "cell_type": "code",
   "execution_count": 50,
   "id": "ab50aa48",
   "metadata": {},
   "outputs": [
    {
     "data": {
      "text/plain": [
       "[<selenium.webdriver.remote.webelement.WebElement (session=\"87c2fa70af99faa5b062eee81486f748\", element=\"ff17213a-a013-490e-8786-0974930459a9\")>,\n",
       " <selenium.webdriver.remote.webelement.WebElement (session=\"87c2fa70af99faa5b062eee81486f748\", element=\"34e87904-a2d1-4bf8-9494-e209738e207b\")>,\n",
       " <selenium.webdriver.remote.webelement.WebElement (session=\"87c2fa70af99faa5b062eee81486f748\", element=\"d323efe8-0ee9-4b7d-89c6-db7b2f4c3b18\")>,\n",
       " <selenium.webdriver.remote.webelement.WebElement (session=\"87c2fa70af99faa5b062eee81486f748\", element=\"4d37f681-b19a-47da-809d-efa093547d5e\")>]"
      ]
     },
     "execution_count": 50,
     "metadata": {},
     "output_type": "execute_result"
    }
   ],
   "source": [
    "# Scraping the company name of job\n",
    "dsf_company_tag = driver.find_elements_by_xpath(\"//a[@class='subTitle ellipsis fleft']\")\n",
    "dsf_company_tag[0:4]"
   ]
  },
  {
   "cell_type": "code",
   "execution_count": 51,
   "id": "2cc96939",
   "metadata": {},
   "outputs": [
    {
     "data": {
      "text/plain": [
       "['LG Electronics India Pvt. Ltd.',\n",
       " 'Navikenz India Pvt Ltd',\n",
       " 'Tata Consultancy Services Ltd.',\n",
       " 'Newgen Software Technologies']"
      ]
     },
     "execution_count": 51,
     "metadata": {},
     "output_type": "execute_result"
    }
   ],
   "source": [
    "#Insert all company name result into dsf_company_name list\n",
    "for i in dsf_company_tag:\n",
    "    dsf_company = i.text\n",
    "    dsf_company_name.append(dsf_company)\n",
    "dsf_company_name[0:4]    "
   ]
  },
  {
   "cell_type": "code",
   "execution_count": 52,
   "id": "b3ac2458",
   "metadata": {},
   "outputs": [
    {
     "data": {
      "text/plain": [
       "[<selenium.webdriver.remote.webelement.WebElement (session=\"87c2fa70af99faa5b062eee81486f748\", element=\"d76584ca-b6f0-43d8-a87d-a1b4d221be79\")>,\n",
       " <selenium.webdriver.remote.webelement.WebElement (session=\"87c2fa70af99faa5b062eee81486f748\", element=\"c2c90fff-0aaf-4652-8b9f-8a7def5a2360\")>,\n",
       " <selenium.webdriver.remote.webelement.WebElement (session=\"87c2fa70af99faa5b062eee81486f748\", element=\"0478ae40-8edc-4da4-a726-4b82b96683c3\")>,\n",
       " <selenium.webdriver.remote.webelement.WebElement (session=\"87c2fa70af99faa5b062eee81486f748\", element=\"6b0e0288-a739-4ebe-9892-e8bbc30c0a13\")>]"
      ]
     },
     "execution_count": 52,
     "metadata": {},
     "output_type": "execute_result"
    }
   ],
   "source": [
    "# Scrapping the experience required for job\n",
    "dsf_exp_tag = driver.find_elements_by_xpath(\"//li[@class='fleft grey-text br2 placeHolderLi experience']/span[1]\")\n",
    "dsf_exp_tag[0:4]"
   ]
  },
  {
   "cell_type": "code",
   "execution_count": 53,
   "id": "2b206ea6",
   "metadata": {},
   "outputs": [
    {
     "data": {
      "text/plain": [
       "['0-2 Yrs', '2-7 Yrs', '4-9 Yrs', '2-5 Yrs']"
      ]
     },
     "execution_count": 53,
     "metadata": {},
     "output_type": "execute_result"
    }
   ],
   "source": [
    "#Insert all experience required result into dsf_req_experience list\n",
    "for i in dsf_exp_tag:\n",
    "    dsf_exp = i.text\n",
    "    dsf_req_experience.append(dsf_exp)\n",
    "dsf_req_experience[0:4]    "
   ]
  },
  {
   "cell_type": "code",
   "execution_count": 54,
   "id": "37b766a7",
   "metadata": {},
   "outputs": [],
   "source": [
    "# Creating empty data frame\n",
    "Data_Scientist_Filter = pd.DataFrame({})\n",
    "\n",
    "# Adding column's into data frame\n",
    "Data_Scientist_Filter['Job Title'] = dsf_job_title\n",
    "Data_Scientist_Filter['Job Location'] = dsf_job_location\n",
    "Data_Scientist_Filter['Company Name'] = dsf_company_name\n",
    "Data_Scientist_Filter['Experience Required'] = dsf_req_experience"
   ]
  },
  {
   "cell_type": "code",
   "execution_count": 55,
   "id": "e2084e5b",
   "metadata": {},
   "outputs": [
    {
     "name": "stdout",
     "output_type": "stream",
     "text": [
      "20 20 20 20\n"
     ]
    }
   ],
   "source": [
    "# Printing the length of each list\n",
    "print(len(dsf_job_title),len(dsf_job_location),len(dsf_company_name),len(dsf_req_experience))"
   ]
  },
  {
   "cell_type": "code",
   "execution_count": 56,
   "id": "c6c5d525",
   "metadata": {},
   "outputs": [
    {
     "data": {
      "text/html": [
       "<div>\n",
       "<style scoped>\n",
       "    .dataframe tbody tr th:only-of-type {\n",
       "        vertical-align: middle;\n",
       "    }\n",
       "\n",
       "    .dataframe tbody tr th {\n",
       "        vertical-align: top;\n",
       "    }\n",
       "\n",
       "    .dataframe thead th {\n",
       "        text-align: right;\n",
       "    }\n",
       "</style>\n",
       "<table border=\"1\" class=\"dataframe\">\n",
       "  <thead>\n",
       "    <tr style=\"text-align: right;\">\n",
       "      <th></th>\n",
       "      <th>Job Title</th>\n",
       "      <th>Job Location</th>\n",
       "      <th>Company Name</th>\n",
       "      <th>Experience Required</th>\n",
       "    </tr>\n",
       "  </thead>\n",
       "  <tbody>\n",
       "    <tr>\n",
       "      <th>0</th>\n",
       "      <td>Data Scientist</td>\n",
       "      <td>Noida, New Delhi, Faridabad, Gurgaon/Gurugram,...</td>\n",
       "      <td>LG Electronics India Pvt. Ltd.</td>\n",
       "      <td>0-2 Yrs</td>\n",
       "    </tr>\n",
       "    <tr>\n",
       "      <th>1</th>\n",
       "      <td>Data Scientist</td>\n",
       "      <td>Noida, Nodia</td>\n",
       "      <td>Navikenz India Pvt Ltd</td>\n",
       "      <td>2-7 Yrs</td>\n",
       "    </tr>\n",
       "    <tr>\n",
       "      <th>2</th>\n",
       "      <td>Hiring For Data Scientist</td>\n",
       "      <td>Hyderabad/Secunderabad, Pune, Chennai, Bangalo...</td>\n",
       "      <td>Tata Consultancy Services Ltd.</td>\n",
       "      <td>4-9 Yrs</td>\n",
       "    </tr>\n",
       "    <tr>\n",
       "      <th>3</th>\n",
       "      <td>Data Scientist/ Senior Data Scientist</td>\n",
       "      <td>Noida</td>\n",
       "      <td>Newgen Software Technologies</td>\n",
       "      <td>2-5 Yrs</td>\n",
       "    </tr>\n",
       "    <tr>\n",
       "      <th>4</th>\n",
       "      <td>Project Manager | Team Leader | Senior Data Sc...</td>\n",
       "      <td>Remote</td>\n",
       "      <td>Tidyquant (OPC) Private Limited</td>\n",
       "      <td>1-5 Yrs</td>\n",
       "    </tr>\n",
       "    <tr>\n",
       "      <th>5</th>\n",
       "      <td>Data Scientist</td>\n",
       "      <td>Gurgaon/Gurugram, Chennai</td>\n",
       "      <td>Teleperformance</td>\n",
       "      <td>4-9 Yrs</td>\n",
       "    </tr>\n",
       "    <tr>\n",
       "      <th>6</th>\n",
       "      <td>Data Analyst / Data Scientist / Business Analy...</td>\n",
       "      <td>Noida, Ghaziabad, Delhi / NCR</td>\n",
       "      <td>GABA Consultancy services</td>\n",
       "      <td>0-0 Yrs</td>\n",
       "    </tr>\n",
       "    <tr>\n",
       "      <th>7</th>\n",
       "      <td>Data Scientist</td>\n",
       "      <td>New Delhi</td>\n",
       "      <td>The Boston Consulting Group (India) Pvt Limited</td>\n",
       "      <td>2-5 Yrs</td>\n",
       "    </tr>\n",
       "    <tr>\n",
       "      <th>8</th>\n",
       "      <td>Senior Data Scientist</td>\n",
       "      <td>Delhi</td>\n",
       "      <td>iNICU</td>\n",
       "      <td>1-5 Yrs</td>\n",
       "    </tr>\n",
       "    <tr>\n",
       "      <th>9</th>\n",
       "      <td>NTT DATA_ Hiring For BIG DATA ,DATA Scientist,...</td>\n",
       "      <td>Noida, Kolkata, Hyderabad/Secunderabad, Ahmeda...</td>\n",
       "      <td>NTT Data Business Solutions Pvt Ltd</td>\n",
       "      <td>3-8 Yrs</td>\n",
       "    </tr>\n",
       "    <tr>\n",
       "      <th>10</th>\n",
       "      <td>Data Scientist</td>\n",
       "      <td>Delhi</td>\n",
       "      <td>Sentieo</td>\n",
       "      <td>2-7 Yrs</td>\n",
       "    </tr>\n",
       "    <tr>\n",
       "      <th>11</th>\n",
       "      <td>Data Scientist</td>\n",
       "      <td>Gurgaon, Bengaluru</td>\n",
       "      <td>BlackBuck</td>\n",
       "      <td>3-7 Yrs</td>\n",
       "    </tr>\n",
       "    <tr>\n",
       "      <th>12</th>\n",
       "      <td>Data Scientist</td>\n",
       "      <td>Bharuch, Jaipur, Bhopal, Mumbai, Jhansi, Nagpu...</td>\n",
       "      <td>Country Veggie</td>\n",
       "      <td>1-3 Yrs</td>\n",
       "    </tr>\n",
       "    <tr>\n",
       "      <th>13</th>\n",
       "      <td>Data Scientist</td>\n",
       "      <td>Delhi</td>\n",
       "      <td>Mahajan Imaging</td>\n",
       "      <td>2-6 Yrs</td>\n",
       "    </tr>\n",
       "    <tr>\n",
       "      <th>14</th>\n",
       "      <td>Data Scientist</td>\n",
       "      <td>Delhi</td>\n",
       "      <td>Mahajan Imaging</td>\n",
       "      <td>2-6 Yrs</td>\n",
       "    </tr>\n",
       "    <tr>\n",
       "      <th>15</th>\n",
       "      <td>Associate Data Scientist</td>\n",
       "      <td>Noida</td>\n",
       "      <td>Right Step Consulting</td>\n",
       "      <td>3-6 Yrs</td>\n",
       "    </tr>\n",
       "    <tr>\n",
       "      <th>16</th>\n",
       "      <td>Associate Data Scientist</td>\n",
       "      <td>Delhi</td>\n",
       "      <td>Blow Trumpet Solutions</td>\n",
       "      <td>1-5 Yrs</td>\n",
       "    </tr>\n",
       "    <tr>\n",
       "      <th>17</th>\n",
       "      <td>Hiring For Data Analyst / Data Scientist</td>\n",
       "      <td>Noida(Sector-59 Noida)</td>\n",
       "      <td>Careerera</td>\n",
       "      <td>1-3 Yrs</td>\n",
       "    </tr>\n",
       "    <tr>\n",
       "      <th>18</th>\n",
       "      <td>Data Scientist</td>\n",
       "      <td>Gurgaon/Gurugram</td>\n",
       "      <td>ApplyBoard</td>\n",
       "      <td>3-7 Yrs</td>\n",
       "    </tr>\n",
       "    <tr>\n",
       "      <th>19</th>\n",
       "      <td>Data Scientist</td>\n",
       "      <td>Mumbai, Hyderabad/Secunderabad, Pune, Lucknow,...</td>\n",
       "      <td>AVE-Promagne</td>\n",
       "      <td>1-6 Yrs</td>\n",
       "    </tr>\n",
       "  </tbody>\n",
       "</table>\n",
       "</div>"
      ],
      "text/plain": [
       "                                            Job Title  \\\n",
       "0                                      Data Scientist   \n",
       "1                                      Data Scientist   \n",
       "2                           Hiring For Data Scientist   \n",
       "3               Data Scientist/ Senior Data Scientist   \n",
       "4   Project Manager | Team Leader | Senior Data Sc...   \n",
       "5                                      Data Scientist   \n",
       "6   Data Analyst / Data Scientist / Business Analy...   \n",
       "7                                      Data Scientist   \n",
       "8                               Senior Data Scientist   \n",
       "9   NTT DATA_ Hiring For BIG DATA ,DATA Scientist,...   \n",
       "10                                     Data Scientist   \n",
       "11                                     Data Scientist   \n",
       "12                                     Data Scientist   \n",
       "13                                     Data Scientist   \n",
       "14                                     Data Scientist   \n",
       "15                           Associate Data Scientist   \n",
       "16                           Associate Data Scientist   \n",
       "17           Hiring For Data Analyst / Data Scientist   \n",
       "18                                     Data Scientist   \n",
       "19                                     Data Scientist   \n",
       "\n",
       "                                         Job Location  \\\n",
       "0   Noida, New Delhi, Faridabad, Gurgaon/Gurugram,...   \n",
       "1                                        Noida, Nodia   \n",
       "2   Hyderabad/Secunderabad, Pune, Chennai, Bangalo...   \n",
       "3                                               Noida   \n",
       "4                                              Remote   \n",
       "5                           Gurgaon/Gurugram, Chennai   \n",
       "6                       Noida, Ghaziabad, Delhi / NCR   \n",
       "7                                           New Delhi   \n",
       "8                                               Delhi   \n",
       "9   Noida, Kolkata, Hyderabad/Secunderabad, Ahmeda...   \n",
       "10                                              Delhi   \n",
       "11                                 Gurgaon, Bengaluru   \n",
       "12  Bharuch, Jaipur, Bhopal, Mumbai, Jhansi, Nagpu...   \n",
       "13                                              Delhi   \n",
       "14                                              Delhi   \n",
       "15                                              Noida   \n",
       "16                                              Delhi   \n",
       "17                             Noida(Sector-59 Noida)   \n",
       "18                                   Gurgaon/Gurugram   \n",
       "19  Mumbai, Hyderabad/Secunderabad, Pune, Lucknow,...   \n",
       "\n",
       "                                       Company Name Experience Required  \n",
       "0                    LG Electronics India Pvt. Ltd.             0-2 Yrs  \n",
       "1                            Navikenz India Pvt Ltd             2-7 Yrs  \n",
       "2                    Tata Consultancy Services Ltd.             4-9 Yrs  \n",
       "3                      Newgen Software Technologies             2-5 Yrs  \n",
       "4                   Tidyquant (OPC) Private Limited             1-5 Yrs  \n",
       "5                                   Teleperformance             4-9 Yrs  \n",
       "6                         GABA Consultancy services             0-0 Yrs  \n",
       "7   The Boston Consulting Group (India) Pvt Limited             2-5 Yrs  \n",
       "8                                             iNICU             1-5 Yrs  \n",
       "9               NTT Data Business Solutions Pvt Ltd             3-8 Yrs  \n",
       "10                                          Sentieo             2-7 Yrs  \n",
       "11                                        BlackBuck             3-7 Yrs  \n",
       "12                                   Country Veggie             1-3 Yrs  \n",
       "13                                  Mahajan Imaging             2-6 Yrs  \n",
       "14                                  Mahajan Imaging             2-6 Yrs  \n",
       "15                            Right Step Consulting             3-6 Yrs  \n",
       "16                           Blow Trumpet Solutions             1-5 Yrs  \n",
       "17                                        Careerera             1-3 Yrs  \n",
       "18                                       ApplyBoard             3-7 Yrs  \n",
       "19                                     AVE-Promagne             1-6 Yrs  "
      ]
     },
     "execution_count": 56,
     "metadata": {},
     "output_type": "execute_result"
    }
   ],
   "source": [
    "# Displaying data frame\n",
    "Data_Scientist_Filter"
   ]
  },
  {
   "cell_type": "code",
   "execution_count": 57,
   "id": "7bfed381",
   "metadata": {},
   "outputs": [],
   "source": [
    "# Selectng first 10 jobs from data frame\n",
    "Data_Scientist_Filter = Data_Scientist_Filter[0:10]"
   ]
  },
  {
   "cell_type": "code",
   "execution_count": 58,
   "id": "c2276042",
   "metadata": {},
   "outputs": [
    {
     "data": {
      "text/html": [
       "<div>\n",
       "<style scoped>\n",
       "    .dataframe tbody tr th:only-of-type {\n",
       "        vertical-align: middle;\n",
       "    }\n",
       "\n",
       "    .dataframe tbody tr th {\n",
       "        vertical-align: top;\n",
       "    }\n",
       "\n",
       "    .dataframe thead th {\n",
       "        text-align: right;\n",
       "    }\n",
       "</style>\n",
       "<table border=\"1\" class=\"dataframe\">\n",
       "  <thead>\n",
       "    <tr style=\"text-align: right;\">\n",
       "      <th></th>\n",
       "      <th>Job Title</th>\n",
       "      <th>Job Location</th>\n",
       "      <th>Company Name</th>\n",
       "      <th>Experience Required</th>\n",
       "    </tr>\n",
       "  </thead>\n",
       "  <tbody>\n",
       "    <tr>\n",
       "      <th>0</th>\n",
       "      <td>Data Scientist</td>\n",
       "      <td>Noida, New Delhi, Faridabad, Gurgaon/Gurugram,...</td>\n",
       "      <td>LG Electronics India Pvt. Ltd.</td>\n",
       "      <td>0-2 Yrs</td>\n",
       "    </tr>\n",
       "    <tr>\n",
       "      <th>1</th>\n",
       "      <td>Data Scientist</td>\n",
       "      <td>Noida, Nodia</td>\n",
       "      <td>Navikenz India Pvt Ltd</td>\n",
       "      <td>2-7 Yrs</td>\n",
       "    </tr>\n",
       "    <tr>\n",
       "      <th>2</th>\n",
       "      <td>Hiring For Data Scientist</td>\n",
       "      <td>Hyderabad/Secunderabad, Pune, Chennai, Bangalo...</td>\n",
       "      <td>Tata Consultancy Services Ltd.</td>\n",
       "      <td>4-9 Yrs</td>\n",
       "    </tr>\n",
       "    <tr>\n",
       "      <th>3</th>\n",
       "      <td>Data Scientist/ Senior Data Scientist</td>\n",
       "      <td>Noida</td>\n",
       "      <td>Newgen Software Technologies</td>\n",
       "      <td>2-5 Yrs</td>\n",
       "    </tr>\n",
       "    <tr>\n",
       "      <th>4</th>\n",
       "      <td>Project Manager | Team Leader | Senior Data Sc...</td>\n",
       "      <td>Remote</td>\n",
       "      <td>Tidyquant (OPC) Private Limited</td>\n",
       "      <td>1-5 Yrs</td>\n",
       "    </tr>\n",
       "    <tr>\n",
       "      <th>5</th>\n",
       "      <td>Data Scientist</td>\n",
       "      <td>Gurgaon/Gurugram, Chennai</td>\n",
       "      <td>Teleperformance</td>\n",
       "      <td>4-9 Yrs</td>\n",
       "    </tr>\n",
       "    <tr>\n",
       "      <th>6</th>\n",
       "      <td>Data Analyst / Data Scientist / Business Analy...</td>\n",
       "      <td>Noida, Ghaziabad, Delhi / NCR</td>\n",
       "      <td>GABA Consultancy services</td>\n",
       "      <td>0-0 Yrs</td>\n",
       "    </tr>\n",
       "    <tr>\n",
       "      <th>7</th>\n",
       "      <td>Data Scientist</td>\n",
       "      <td>New Delhi</td>\n",
       "      <td>The Boston Consulting Group (India) Pvt Limited</td>\n",
       "      <td>2-5 Yrs</td>\n",
       "    </tr>\n",
       "    <tr>\n",
       "      <th>8</th>\n",
       "      <td>Senior Data Scientist</td>\n",
       "      <td>Delhi</td>\n",
       "      <td>iNICU</td>\n",
       "      <td>1-5 Yrs</td>\n",
       "    </tr>\n",
       "    <tr>\n",
       "      <th>9</th>\n",
       "      <td>NTT DATA_ Hiring For BIG DATA ,DATA Scientist,...</td>\n",
       "      <td>Noida, Kolkata, Hyderabad/Secunderabad, Ahmeda...</td>\n",
       "      <td>NTT Data Business Solutions Pvt Ltd</td>\n",
       "      <td>3-8 Yrs</td>\n",
       "    </tr>\n",
       "  </tbody>\n",
       "</table>\n",
       "</div>"
      ],
      "text/plain": [
       "                                           Job Title  \\\n",
       "0                                     Data Scientist   \n",
       "1                                     Data Scientist   \n",
       "2                          Hiring For Data Scientist   \n",
       "3              Data Scientist/ Senior Data Scientist   \n",
       "4  Project Manager | Team Leader | Senior Data Sc...   \n",
       "5                                     Data Scientist   \n",
       "6  Data Analyst / Data Scientist / Business Analy...   \n",
       "7                                     Data Scientist   \n",
       "8                              Senior Data Scientist   \n",
       "9  NTT DATA_ Hiring For BIG DATA ,DATA Scientist,...   \n",
       "\n",
       "                                        Job Location  \\\n",
       "0  Noida, New Delhi, Faridabad, Gurgaon/Gurugram,...   \n",
       "1                                       Noida, Nodia   \n",
       "2  Hyderabad/Secunderabad, Pune, Chennai, Bangalo...   \n",
       "3                                              Noida   \n",
       "4                                             Remote   \n",
       "5                          Gurgaon/Gurugram, Chennai   \n",
       "6                      Noida, Ghaziabad, Delhi / NCR   \n",
       "7                                          New Delhi   \n",
       "8                                              Delhi   \n",
       "9  Noida, Kolkata, Hyderabad/Secunderabad, Ahmeda...   \n",
       "\n",
       "                                      Company Name Experience Required  \n",
       "0                   LG Electronics India Pvt. Ltd.             0-2 Yrs  \n",
       "1                           Navikenz India Pvt Ltd             2-7 Yrs  \n",
       "2                   Tata Consultancy Services Ltd.             4-9 Yrs  \n",
       "3                     Newgen Software Technologies             2-5 Yrs  \n",
       "4                  Tidyquant (OPC) Private Limited             1-5 Yrs  \n",
       "5                                  Teleperformance             4-9 Yrs  \n",
       "6                        GABA Consultancy services             0-0 Yrs  \n",
       "7  The Boston Consulting Group (India) Pvt Limited             2-5 Yrs  \n",
       "8                                            iNICU             1-5 Yrs  \n",
       "9              NTT Data Business Solutions Pvt Ltd             3-8 Yrs  "
      ]
     },
     "execution_count": 58,
     "metadata": {},
     "output_type": "execute_result"
    }
   ],
   "source": [
    "# Displaying first 10 jobs from data frame\n",
    "Data_Scientist_Filter"
   ]
  },
  {
   "cell_type": "code",
   "execution_count": 59,
   "id": "3da7cee3",
   "metadata": {},
   "outputs": [],
   "source": [
    "# Closing the current driver\n",
    "driver.close()"
   ]
  },
  {
   "cell_type": "markdown",
   "id": "857924d9",
   "metadata": {},
   "source": [
    "### Q.4 Scrape data of first 100 sunglasses listings on flipkart.com."
   ]
  },
  {
   "cell_type": "code",
   "execution_count": 90,
   "id": "0ae911b9",
   "metadata": {},
   "outputs": [],
   "source": [
    "# Connecting with web driver\n",
    "driver = webdriver.Chrome(r'E:/DATA TRAINED/Sofrware/chromedriver_win32/chromedriver.exe')"
   ]
  },
  {
   "cell_type": "code",
   "execution_count": 91,
   "id": "6dab826e",
   "metadata": {},
   "outputs": [],
   "source": [
    "# Open url by driver\n",
    "driver.get(\"https://www.flipkart.com/\")"
   ]
  },
  {
   "cell_type": "code",
   "execution_count": 92,
   "id": "0e36d672",
   "metadata": {},
   "outputs": [],
   "source": [
    "#Closing the login window\n",
    "close_prompt = driver.find_element_by_xpath(\"//div[@class='_2QfC02']/button\")\n",
    "close_prompt.click()"
   ]
  },
  {
   "cell_type": "code",
   "execution_count": 93,
   "id": "32737f0f",
   "metadata": {},
   "outputs": [],
   "source": [
    "# Entering the product to be search as sunglasses\n",
    "search_product = driver.find_element_by_name('q')\n",
    "search_product.send_keys('sunglasses')"
   ]
  },
  {
   "cell_type": "code",
   "execution_count": 94,
   "id": "1848189f",
   "metadata": {},
   "outputs": [],
   "source": [
    "# Click on search button that provide us the result based on our product to be search\n",
    "search_button = driver.find_element_by_xpath(\"//button[@class='L0Z3Pu']\")\n",
    "search_button.click()"
   ]
  },
  {
   "cell_type": "code",
   "execution_count": 95,
   "id": "d59661a9",
   "metadata": {},
   "outputs": [],
   "source": [
    "# Creating empty list for brand,description,price,discount\n",
    "sunglasses_brand = []\n",
    "sunglasses_product_description = []\n",
    "sunglasses_price = []\n",
    "sunglasses_discount = []"
   ]
  },
  {
   "cell_type": "code",
   "execution_count": 96,
   "id": "364dae7e",
   "metadata": {},
   "outputs": [
    {
     "data": {
      "text/plain": [
       "[<selenium.webdriver.remote.webelement.WebElement (session=\"f7bedd1f377d6809ee60c818cbb0ceaa\", element=\"929c7f0c-0e2d-4d78-8a2d-1d37c82e82dc\")>,\n",
       " <selenium.webdriver.remote.webelement.WebElement (session=\"f7bedd1f377d6809ee60c818cbb0ceaa\", element=\"eb9ae291-39bc-405c-b01b-9f15168c7c33\")>,\n",
       " <selenium.webdriver.remote.webelement.WebElement (session=\"f7bedd1f377d6809ee60c818cbb0ceaa\", element=\"7e7ac792-bfc5-41db-a64d-a44bb5c06ba1\")>,\n",
       " <selenium.webdriver.remote.webelement.WebElement (session=\"f7bedd1f377d6809ee60c818cbb0ceaa\", element=\"08ded78e-886c-4ac5-8d47-6e93b3c169ce\")>]"
      ]
     },
     "execution_count": 96,
     "metadata": {},
     "output_type": "execute_result"
    }
   ],
   "source": [
    "# Scraping the data for product brand\n",
    "sunglasses_brand_tag_1 = driver.find_elements_by_xpath(\"//div[@class='_2WkVRV']\")\n",
    "sunglasses_brand_tag_1[0:4]"
   ]
  },
  {
   "cell_type": "code",
   "execution_count": 97,
   "id": "b1feb1b4",
   "metadata": {},
   "outputs": [
    {
     "data": {
      "text/plain": [
       "['Kanishka', 'ROZZETTA CRAFT', 'SRPM', 'Elligator']"
      ]
     },
     "execution_count": 97,
     "metadata": {},
     "output_type": "execute_result"
    }
   ],
   "source": [
    "# Insert all product brand result into sunglasses_brand list\n",
    "for i in sunglasses_brand_tag_1:\n",
    "    sunglasses_brand_1 = i.text\n",
    "    sunglasses_brand.append(sunglasses_brand_1)\n",
    "sunglasses_brand[0:4]    "
   ]
  },
  {
   "cell_type": "code",
   "execution_count": 98,
   "id": "d3a0fc14",
   "metadata": {},
   "outputs": [
    {
     "data": {
      "text/plain": [
       "[<selenium.webdriver.remote.webelement.WebElement (session=\"f7bedd1f377d6809ee60c818cbb0ceaa\", element=\"b9b06eb6-cf07-4352-a56d-c3477b1ff811\")>,\n",
       " <selenium.webdriver.remote.webelement.WebElement (session=\"f7bedd1f377d6809ee60c818cbb0ceaa\", element=\"2b68ea54-9db9-456b-94a0-8759cb8f2fca\")>,\n",
       " <selenium.webdriver.remote.webelement.WebElement (session=\"f7bedd1f377d6809ee60c818cbb0ceaa\", element=\"ad8e8821-15c7-4652-b356-89eab8880f08\")>,\n",
       " <selenium.webdriver.remote.webelement.WebElement (session=\"f7bedd1f377d6809ee60c818cbb0ceaa\", element=\"33b74e31-f845-43bc-9810-1a3989943c1b\")>]"
      ]
     },
     "execution_count": 98,
     "metadata": {},
     "output_type": "execute_result"
    }
   ],
   "source": [
    "# Scraping the data for product description\n",
    "sunglasses_product_description_tag_1 = driver.find_elements_by_xpath(\"//a[contains(@class,'IRpwTa')]\")\n",
    "sunglasses_product_description_tag_1[0:4]"
   ]
  },
  {
   "cell_type": "code",
   "execution_count": 99,
   "id": "84bbfa8c",
   "metadata": {},
   "outputs": [
    {
     "data": {
      "text/plain": [
       "['Others Round Sunglasses (55)',\n",
       " 'UV Protection, Gradient Aviator Sunglasses (Free Size)',\n",
       " 'UV Protection Wayfarer Sunglasses (56)',\n",
       " 'UV Protection Round Sunglasses (54)']"
      ]
     },
     "execution_count": 99,
     "metadata": {},
     "output_type": "execute_result"
    }
   ],
   "source": [
    "# Insert all product description result into sunglasses_product_description list\n",
    "for i in sunglasses_product_description_tag_1:\n",
    "    try:\n",
    "        sunglasses_product_description_1 = i.text\n",
    "        sunglasses_product_description.append(sunglasses_product_description_1)\n",
    "    except Exception as e:\n",
    "        sunglasses_product_description_1 = ''\n",
    "        sunglasses_product_description.append(sunglasses_product_description_1)\n",
    "sunglasses_product_description[0:4]  "
   ]
  },
  {
   "cell_type": "code",
   "execution_count": 100,
   "id": "2317284e",
   "metadata": {},
   "outputs": [
    {
     "data": {
      "text/plain": [
       "[<selenium.webdriver.remote.webelement.WebElement (session=\"f7bedd1f377d6809ee60c818cbb0ceaa\", element=\"e685411c-f46f-4825-b532-03c9228b4666\")>,\n",
       " <selenium.webdriver.remote.webelement.WebElement (session=\"f7bedd1f377d6809ee60c818cbb0ceaa\", element=\"1c893bc6-8c02-4b7b-a2dd-dfa485990a19\")>,\n",
       " <selenium.webdriver.remote.webelement.WebElement (session=\"f7bedd1f377d6809ee60c818cbb0ceaa\", element=\"48e64c17-a90b-4fd9-a762-1252f39b9bd8\")>,\n",
       " <selenium.webdriver.remote.webelement.WebElement (session=\"f7bedd1f377d6809ee60c818cbb0ceaa\", element=\"64783327-21d8-4c5f-8c41-ff6c74dd821f\")>]"
      ]
     },
     "execution_count": 100,
     "metadata": {},
     "output_type": "execute_result"
    }
   ],
   "source": [
    "# Scraping the data for product price\n",
    "sunglasses_price_tag_1 = driver.find_elements_by_xpath(\"//div[@class='_30jeq3']\")\n",
    "sunglasses_price_tag_1[0:4]"
   ]
  },
  {
   "cell_type": "code",
   "execution_count": 101,
   "id": "1cb77990",
   "metadata": {},
   "outputs": [
    {
     "data": {
      "text/plain": [
       "['₹151', '₹649', '₹188', '₹248']"
      ]
     },
     "execution_count": 101,
     "metadata": {},
     "output_type": "execute_result"
    }
   ],
   "source": [
    "# Insert all product price result into sunglasses_price list\n",
    "for i in sunglasses_price_tag_1:\n",
    "    sunglasses_price_1 = i.text\n",
    "    sunglasses_price.append(sunglasses_price_1)\n",
    "sunglasses_price[0:4]    "
   ]
  },
  {
   "cell_type": "code",
   "execution_count": 102,
   "id": "f4fd778f",
   "metadata": {},
   "outputs": [
    {
     "data": {
      "text/plain": [
       "[<selenium.webdriver.remote.webelement.WebElement (session=\"f7bedd1f377d6809ee60c818cbb0ceaa\", element=\"27d45160-b6eb-405b-88ce-20f481797dfa\")>,\n",
       " <selenium.webdriver.remote.webelement.WebElement (session=\"f7bedd1f377d6809ee60c818cbb0ceaa\", element=\"e860c203-8164-4244-8bb5-4b9ffe6fdb0f\")>,\n",
       " <selenium.webdriver.remote.webelement.WebElement (session=\"f7bedd1f377d6809ee60c818cbb0ceaa\", element=\"1b34b706-0be4-4d60-966e-0f49f99629f4\")>,\n",
       " <selenium.webdriver.remote.webelement.WebElement (session=\"f7bedd1f377d6809ee60c818cbb0ceaa\", element=\"31d72f63-7683-4417-93e0-43902dc7e554\")>]"
      ]
     },
     "execution_count": 102,
     "metadata": {},
     "output_type": "execute_result"
    }
   ],
   "source": [
    "# Scraping the data for product discount\n",
    "sunglasses_discount_tag_1 = driver.find_elements_by_xpath(\"//div[@class='_3Ay6Sb']\")\n",
    "sunglasses_discount_tag_1[0:4]"
   ]
  },
  {
   "cell_type": "code",
   "execution_count": 103,
   "id": "f446b70b",
   "metadata": {},
   "outputs": [
    {
     "data": {
      "text/plain": [
       "['84% off', '74% off', '85% off', '90% off']"
      ]
     },
     "execution_count": 103,
     "metadata": {},
     "output_type": "execute_result"
    }
   ],
   "source": [
    "# Insert all product discount result into sunglasses_discount list\n",
    "for i in sunglasses_discount_tag_1:\n",
    "    sunglasses_discount_1 = i.text\n",
    "    sunglasses_discount.append(sunglasses_discount_1)\n",
    "sunglasses_discount[0:4]    "
   ]
  },
  {
   "cell_type": "code",
   "execution_count": 104,
   "id": "d4cf1813",
   "metadata": {},
   "outputs": [
    {
     "name": "stdout",
     "output_type": "stream",
     "text": [
      "40 40 40 40\n"
     ]
    }
   ],
   "source": [
    "#print the length of each list\n",
    "print(len(sunglasses_brand),len(sunglasses_product_description),len(sunglasses_price),len(sunglasses_discount))"
   ]
  },
  {
   "cell_type": "code",
   "execution_count": 105,
   "id": "39255226",
   "metadata": {},
   "outputs": [],
   "source": [
    "# Clicking on next button to go to next page\n",
    "next_2 = driver.find_element_by_xpath(\"//a[@class='_1LKTO3']/span[1]\")\n",
    "next_2.click()"
   ]
  },
  {
   "cell_type": "code",
   "execution_count": 106,
   "id": "525635ae",
   "metadata": {},
   "outputs": [
    {
     "data": {
      "text/plain": [
       "[<selenium.webdriver.remote.webelement.WebElement (session=\"f7bedd1f377d6809ee60c818cbb0ceaa\", element=\"1c4fb6ab-a89a-4668-8acb-bc70bf19a6e9\")>,\n",
       " <selenium.webdriver.remote.webelement.WebElement (session=\"f7bedd1f377d6809ee60c818cbb0ceaa\", element=\"2bc151dd-3888-49e2-80c4-673f317f9a9e\")>,\n",
       " <selenium.webdriver.remote.webelement.WebElement (session=\"f7bedd1f377d6809ee60c818cbb0ceaa\", element=\"5c284a44-1f4b-4855-8d9b-2a10ac7f62fd\")>,\n",
       " <selenium.webdriver.remote.webelement.WebElement (session=\"f7bedd1f377d6809ee60c818cbb0ceaa\", element=\"910759d4-33cd-4fd6-b581-3f7dc67148dc\")>]"
      ]
     },
     "execution_count": 106,
     "metadata": {},
     "output_type": "execute_result"
    }
   ],
   "source": [
    "# Scraping the data for product brand\n",
    "sunglasses_brand_tag_2 = driver.find_elements_by_xpath(\"//div[@class='_2WkVRV']\")\n",
    "sunglasses_brand_tag_2[0:4]"
   ]
  },
  {
   "cell_type": "code",
   "execution_count": 107,
   "id": "d0af0c26",
   "metadata": {},
   "outputs": [
    {
     "data": {
      "text/plain": [
       "['Kanishka',\n",
       " 'ROZZETTA CRAFT',\n",
       " 'SRPM',\n",
       " 'Elligator',\n",
       " 'New Specs',\n",
       " 'PIRASO',\n",
       " 'PIRASO',\n",
       " 'PIRASO',\n",
       " 'kingsunglasses',\n",
       " 'SHAAH COLLECTIONS',\n",
       " 'ROZZETTA CRAFT',\n",
       " 'ROADWAY',\n",
       " 'PIRASO',\n",
       " 'kingsunglasses',\n",
       " 'kingsunglasses',\n",
       " 'RMKK',\n",
       " 'Fastrack',\n",
       " 'PHENOMENAL',\n",
       " 'New Specs',\n",
       " 'PIRASO',\n",
       " 'SHAAH COLLECTIONS',\n",
       " 'ROZZETTA CRAFT',\n",
       " 'Singco India',\n",
       " 'PIRASO',\n",
       " 'ROZZETTA CRAFT',\n",
       " 'PHENOMENAL',\n",
       " 'Rich Club',\n",
       " 'RMKK',\n",
       " 'ROYAL SON',\n",
       " 'SUNBEE',\n",
       " 'hipe',\n",
       " 'ROADWAY',\n",
       " 'PIRASO',\n",
       " 'PIRASO',\n",
       " 'PIRASO',\n",
       " 'ROYAL SON',\n",
       " 'ROZZETTA CRAFT',\n",
       " 'Rich Club',\n",
       " 'Singco India',\n",
       " 'PIRASO',\n",
       " 'PIRASO',\n",
       " 'Lee Topper',\n",
       " 'PIRASO',\n",
       " 'kingsunglasses',\n",
       " 'ROZZETTA CRAFT',\n",
       " 'kingsunglasses',\n",
       " 'SUNBEE',\n",
       " 'ROYAL SON',\n",
       " 'agera',\n",
       " 'Rich Club',\n",
       " 'Elligator',\n",
       " 'kingsunglasses',\n",
       " 'ROYAL SON',\n",
       " 'ROYAL SON',\n",
       " 'PHENOMENAL',\n",
       " 'SUNBEE',\n",
       " 'ROYAL SON',\n",
       " 'DEIXELS',\n",
       " 'Rich Club',\n",
       " 'ROYAL SON',\n",
       " 'PHENOMENAL',\n",
       " 'Poland',\n",
       " 'Fastrack',\n",
       " 'PHENOMENAL',\n",
       " 'ROYAL SON',\n",
       " 'AISLIN',\n",
       " 'hipe',\n",
       " 'kingsunglasses',\n",
       " 'kingsunglasses',\n",
       " 'kingsunglasses',\n",
       " 'SHAAH COLLECTIONS',\n",
       " 'kingsunglasses',\n",
       " 'kingsunglasses',\n",
       " 'Fastrack',\n",
       " 'ROZZETTA CRAFT',\n",
       " 'New Specs',\n",
       " 'Fastrack',\n",
       " 'Elligator',\n",
       " 'kingsunglasses',\n",
       " 'kingsunglasses']"
      ]
     },
     "execution_count": 107,
     "metadata": {},
     "output_type": "execute_result"
    }
   ],
   "source": [
    "# Insert all product brand result into sunglasses_brand list\n",
    "for i in sunglasses_brand_tag_2:\n",
    "    sunglasses_brand_2 = i.text\n",
    "    sunglasses_brand.append(sunglasses_brand_2)\n",
    "sunglasses_brand   "
   ]
  },
  {
   "cell_type": "code",
   "execution_count": 108,
   "id": "75e5a28a",
   "metadata": {},
   "outputs": [
    {
     "data": {
      "text/plain": [
       "[<selenium.webdriver.remote.webelement.WebElement (session=\"f7bedd1f377d6809ee60c818cbb0ceaa\", element=\"3900b8b8-c67e-43a8-83fe-dbca7561ae4e\")>,\n",
       " <selenium.webdriver.remote.webelement.WebElement (session=\"f7bedd1f377d6809ee60c818cbb0ceaa\", element=\"53966efe-1e7b-4c75-bc94-928af7605c3c\")>,\n",
       " <selenium.webdriver.remote.webelement.WebElement (session=\"f7bedd1f377d6809ee60c818cbb0ceaa\", element=\"1a777483-2ac8-4c01-a427-35ef3e07dee3\")>,\n",
       " <selenium.webdriver.remote.webelement.WebElement (session=\"f7bedd1f377d6809ee60c818cbb0ceaa\", element=\"4a0082df-dcb6-43c2-962e-bee6b3fab0ae\")>]"
      ]
     },
     "execution_count": 108,
     "metadata": {},
     "output_type": "execute_result"
    }
   ],
   "source": [
    "# Scraping the data for product description\n",
    "sunglasses_product_description_tag_2 = driver.find_elements_by_xpath(\"//a[contains(@class,'IRpwTa')]\")\n",
    "sunglasses_product_description_tag_2[0:4]"
   ]
  },
  {
   "cell_type": "code",
   "execution_count": 109,
   "id": "96426ab9",
   "metadata": {},
   "outputs": [
    {
     "data": {
      "text/plain": [
       "['Others Round Sunglasses (55)',\n",
       " 'UV Protection, Gradient Aviator Sunglasses (Free Size)',\n",
       " 'UV Protection Wayfarer Sunglasses (56)',\n",
       " 'UV Protection Round Sunglasses (54)',\n",
       " 'UV Protection Rectangular Sunglasses (Free Size)',\n",
       " 'UV Protection Aviator Sunglasses (54)',\n",
       " 'UV Protection Aviator Sunglasses (54)',\n",
       " 'UV Protection Aviator Sunglasses (54)',\n",
       " 'UV Protection Round Sunglasses (54)',\n",
       " 'UV Protection, Polarized, Mirrored Rectangular Sunglass...',\n",
       " 'UV Protection, Gradient Rectangular Sunglasses (Free Si...',\n",
       " 'UV Protection Retro Square Sunglasses (Free Size)',\n",
       " 'UV Protection Aviator Sunglasses (55)',\n",
       " 'Mirrored, UV Protection Wayfarer Sunglasses (53)',\n",
       " 'UV Protection, Riding Glasses, Mirrored Wayfarer Sungla...',\n",
       " 'UV Protection Wayfarer Sunglasses (54)',\n",
       " 'UV Protection Wayfarer Sunglasses (Free Size)',\n",
       " 'UV Protection Retro Square Sunglasses (Free Size)',\n",
       " 'Mirrored, UV Protection, Riding Glasses, Others Round S...',\n",
       " 'UV Protection Rectangular Sunglasses (Free Size)',\n",
       " 'UV Protection, Polarized, Mirrored Rectangular Sunglass...',\n",
       " 'UV Protection Round Sunglasses (Free Size)',\n",
       " 'Mirrored, Riding Glasses, Others Sports Sunglasses (50)',\n",
       " 'UV Protection Cat-eye Sunglasses (55)',\n",
       " 'UV Protection Retro Square Sunglasses (Free Size)',\n",
       " 'UV Protection, Mirrored Retro Square Sunglasses (53)',\n",
       " 'Polarized Round Sunglasses (48)',\n",
       " 'UV Protection Round Sunglasses (55)',\n",
       " 'Mirrored Aviator Sunglasses (55)',\n",
       " 'UV Protection, Polarized, Mirrored Round Sunglasses (Fr...',\n",
       " 'UV Protection Sports Sunglasses (Free Size)',\n",
       " 'UV Protection Retro Square, Sports Sunglasses (Free Siz...',\n",
       " 'UV Protection, Polarized Aviator Sunglasses (32)',\n",
       " 'UV Protection Wayfarer Sunglasses (32)',\n",
       " 'UV Protection Butterfly Sunglasses (65)',\n",
       " 'Polarized, UV Protection Round Sunglasses (53)',\n",
       " 'UV Protection, Gradient Retro Square Sunglasses (Free S...',\n",
       " 'UV Protection Round Sunglasses (50)',\n",
       " 'UV Protection, Riding Glasses, Others Aviator, Wayfarer...',\n",
       " 'UV Protection Rectangular, Over-sized Sunglasses (Free ...',\n",
       " 'UV Protection Aviator Sunglasses (58)',\n",
       " 'Riding Glasses, Night Vision Wrap-around Sunglasses (Fr...',\n",
       " 'UV Protection Aviator Sunglasses (Free Size)',\n",
       " 'UV Protection Rectangular Sunglasses (Free Size)',\n",
       " 'UV Protection, Gradient Round Sunglasses (Free Size)',\n",
       " 'Mirrored, UV Protection Aviator Sunglasses (56)',\n",
       " 'UV Protection, Polarized, Mirrored Wayfarer Sunglasses ...',\n",
       " 'Mirrored Aviator Sunglasses (55)',\n",
       " 'Gradient Aviator Sunglasses (55)',\n",
       " 'Polarized Round Sunglasses (48)',\n",
       " 'UV Protection Round Sunglasses (55)',\n",
       " 'UV Protection Round Sunglasses (Free Size)',\n",
       " 'UV Protection Round Sunglasses (50)',\n",
       " 'Mirrored Aviator Sunglasses (55)',\n",
       " 'UV Protection, Mirrored Clubmaster Sunglasses (Free Siz...',\n",
       " 'UV Protection, Polarized Wayfarer Sunglasses (Free Size...',\n",
       " 'UV Protection, Gradient Butterfly Sunglasses (57)',\n",
       " 'UV Protection Aviator, Wayfarer Sunglasses (Free Size)',\n",
       " 'UV Protection, Others Round Sunglasses (48)',\n",
       " 'UV Protection Retro Square Sunglasses (58)',\n",
       " 'UV Protection, Mirrored Round Sunglasses (Free Size)',\n",
       " 'UV Protection Wayfarer Sunglasses (Free Size)',\n",
       " 'Gradient, UV Protection Wayfarer Sunglasses (Free Size)',\n",
       " 'UV Protection Clubmaster Sunglasses (Free Size)',\n",
       " 'UV Protection Round Sunglasses (50)',\n",
       " 'UV Protection, Gradient Oval Sunglasses (58)',\n",
       " 'UV Protection, Gradient, Mirrored, Riding Glasses Aviat...',\n",
       " 'Mirrored, UV Protection Wayfarer Sunglasses (Free Size)',\n",
       " 'UV Protection, Night Vision Wayfarer Sunglasses (Free S...',\n",
       " 'UV Protection, Mirrored Round Sunglasses (54)',\n",
       " 'UV Protection Round Sunglasses (Free Size)',\n",
       " 'UV Protection Rectangular Sunglasses (55)',\n",
       " 'UV Protection Rectangular Sunglasses (55)',\n",
       " 'Gradient, UV Protection Wayfarer Sunglasses (Free Size)',\n",
       " 'UV Protection, Gradient Rectangular Sunglasses (Free Si...',\n",
       " 'UV Protection Rectangular Sunglasses (Free Size)',\n",
       " 'UV Protection Wayfarer Sunglasses (Free Size)',\n",
       " 'UV Protection Retro Square, Round Sunglasses (54)',\n",
       " 'UV Protection, Night Vision Wayfarer Sunglasses (Free S...',\n",
       " 'UV Protection, Mirrored Aviator Sunglasses (Free Size)']"
      ]
     },
     "execution_count": 109,
     "metadata": {},
     "output_type": "execute_result"
    }
   ],
   "source": [
    "# Insert all product description result into sunglasses_product_description list\n",
    "for i in sunglasses_product_description_tag_2:\n",
    "    sunglasses_product_description_2 = i.text\n",
    "    sunglasses_product_description.append(sunglasses_product_description_2)\n",
    "sunglasses_product_description    "
   ]
  },
  {
   "cell_type": "code",
   "execution_count": 110,
   "id": "028a07ab",
   "metadata": {},
   "outputs": [
    {
     "data": {
      "text/plain": [
       "[<selenium.webdriver.remote.webelement.WebElement (session=\"f7bedd1f377d6809ee60c818cbb0ceaa\", element=\"8c03d9dd-c1bc-4af9-8633-a63d1beed379\")>,\n",
       " <selenium.webdriver.remote.webelement.WebElement (session=\"f7bedd1f377d6809ee60c818cbb0ceaa\", element=\"85d0ac41-cc4a-408d-bac1-fd87dc4c5689\")>,\n",
       " <selenium.webdriver.remote.webelement.WebElement (session=\"f7bedd1f377d6809ee60c818cbb0ceaa\", element=\"c680aa2b-309c-46c5-80f6-ead517a28301\")>,\n",
       " <selenium.webdriver.remote.webelement.WebElement (session=\"f7bedd1f377d6809ee60c818cbb0ceaa\", element=\"c6490274-0398-4344-883b-a9177fa5fcc9\")>]"
      ]
     },
     "execution_count": 110,
     "metadata": {},
     "output_type": "execute_result"
    }
   ],
   "source": [
    "# Scraping the data for product price\n",
    "sunglasses_price_tag_2 = driver.find_elements_by_xpath(\"//div[@class='_30jeq3']\")\n",
    "sunglasses_price_tag_2[0:4]"
   ]
  },
  {
   "cell_type": "code",
   "execution_count": 111,
   "id": "c57ce69e",
   "metadata": {},
   "outputs": [
    {
     "data": {
      "text/plain": [
       "['₹151',\n",
       " '₹649',\n",
       " '₹188',\n",
       " '₹248',\n",
       " '₹259',\n",
       " '₹200',\n",
       " '₹187',\n",
       " '₹187',\n",
       " '₹189',\n",
       " '₹170',\n",
       " '₹383',\n",
       " '₹296',\n",
       " '₹179',\n",
       " '₹274',\n",
       " '₹187',\n",
       " '₹87',\n",
       " '₹699',\n",
       " '₹319',\n",
       " '₹259',\n",
       " '₹279',\n",
       " '₹181',\n",
       " '₹426',\n",
       " '₹194',\n",
       " '₹209',\n",
       " '₹474',\n",
       " '₹299',\n",
       " '₹175',\n",
       " '₹99',\n",
       " '₹359',\n",
       " '₹271',\n",
       " '₹287',\n",
       " '₹294',\n",
       " '₹164',\n",
       " '₹187',\n",
       " '₹359',\n",
       " '₹664',\n",
       " '₹349',\n",
       " '₹383',\n",
       " '₹229',\n",
       " '₹349',\n",
       " '₹299',\n",
       " '₹276',\n",
       " '₹261',\n",
       " '₹192',\n",
       " '₹360',\n",
       " '₹211',\n",
       " '₹258',\n",
       " '₹359',\n",
       " '₹196',\n",
       " '₹163',\n",
       " '₹239',\n",
       " '₹299',\n",
       " '₹359',\n",
       " '₹359',\n",
       " '₹287',\n",
       " '₹276',\n",
       " '₹664',\n",
       " '₹202',\n",
       " '₹245',\n",
       " '₹449',\n",
       " '₹209',\n",
       " '₹144',\n",
       " '₹599',\n",
       " '₹287',\n",
       " '₹359',\n",
       " '₹446',\n",
       " '₹209',\n",
       " '₹259',\n",
       " '₹299',\n",
       " '₹211',\n",
       " '₹270',\n",
       " '₹259',\n",
       " '₹169',\n",
       " '₹599',\n",
       " '₹396',\n",
       " '₹169',\n",
       " '₹639',\n",
       " '₹291',\n",
       " '₹279',\n",
       " '₹235']"
      ]
     },
     "execution_count": 111,
     "metadata": {},
     "output_type": "execute_result"
    }
   ],
   "source": [
    "# Insert all product price result into sunglasses_price list\n",
    "for i in sunglasses_price_tag_2:\n",
    "    sunglasses_price_2 = i.text\n",
    "    sunglasses_price.append(sunglasses_price_2)\n",
    "sunglasses_price    "
   ]
  },
  {
   "cell_type": "code",
   "execution_count": 112,
   "id": "8b0f80e9",
   "metadata": {},
   "outputs": [
    {
     "data": {
      "text/plain": [
       "[<selenium.webdriver.remote.webelement.WebElement (session=\"f7bedd1f377d6809ee60c818cbb0ceaa\", element=\"f43d1f2c-cf71-43c2-aa7d-4cde41de37ff\")>,\n",
       " <selenium.webdriver.remote.webelement.WebElement (session=\"f7bedd1f377d6809ee60c818cbb0ceaa\", element=\"69ec6c72-6e01-4056-aefe-dbcaf8bca907\")>,\n",
       " <selenium.webdriver.remote.webelement.WebElement (session=\"f7bedd1f377d6809ee60c818cbb0ceaa\", element=\"7965437d-507b-4d3d-9be2-2f73af59270f\")>,\n",
       " <selenium.webdriver.remote.webelement.WebElement (session=\"f7bedd1f377d6809ee60c818cbb0ceaa\", element=\"da785d55-3c51-4537-9f17-3fe5e2963dc8\")>]"
      ]
     },
     "execution_count": 112,
     "metadata": {},
     "output_type": "execute_result"
    }
   ],
   "source": [
    "# Scraping the data for product discount\n",
    "sunglasses_discount_tag_2 = driver.find_elements_by_xpath(\"//div[@class='_3Ay6Sb']/span[1]\")\n",
    "sunglasses_discount_tag_2[0:4]"
   ]
  },
  {
   "cell_type": "code",
   "execution_count": 113,
   "id": "e8e438c3",
   "metadata": {},
   "outputs": [
    {
     "data": {
      "text/plain": [
       "['84% off',\n",
       " '74% off',\n",
       " '85% off',\n",
       " '90% off',\n",
       " '87% off',\n",
       " '87% off',\n",
       " '88% off',\n",
       " '88% off',\n",
       " '82% off',\n",
       " '89% off',\n",
       " '80% off',\n",
       " '77% off',\n",
       " '88% off',\n",
       " '86% off',\n",
       " '84% off',\n",
       " '82% off',\n",
       " '22% off',\n",
       " '84% off',\n",
       " '81% off',\n",
       " '89% off',\n",
       " '81% off',\n",
       " '84% off',\n",
       " '87% off',\n",
       " '86% off',\n",
       " '78% off',\n",
       " '85% off',\n",
       " '64% off',\n",
       " '75% off',\n",
       " '76% off',\n",
       " '84% off',\n",
       " '84% off',\n",
       " '80% off',\n",
       " '89% off',\n",
       " '88% off',\n",
       " '86% off',\n",
       " '66% off',\n",
       " '82% off',\n",
       " '61% off',\n",
       " '67% off',\n",
       " '88% off',\n",
       " '88% off',\n",
       " '88% off',\n",
       " '83% off',\n",
       " '82% off',\n",
       " '81% off',\n",
       " '83% off',\n",
       " '80% off',\n",
       " '76% off',\n",
       " '82% off',\n",
       " '67% off',\n",
       " '88% off',\n",
       " '81% off',\n",
       " '76% off',\n",
       " '76% off',\n",
       " '85% off',\n",
       " '78% off',\n",
       " '66% off',\n",
       " '83% off',\n",
       " '69% off',\n",
       " '70% off',\n",
       " '83% off',\n",
       " '71% off',\n",
       " '25% off',\n",
       " '85% off',\n",
       " '76% off',\n",
       " '70% off',\n",
       " '79% off',\n",
       " '87% off',\n",
       " '82% off',\n",
       " '82% off',\n",
       " '84% off',\n",
       " '82% off',\n",
       " '86% off',\n",
       " '25% off',\n",
       " '82% off',\n",
       " '89% off',\n",
       " '20% off',\n",
       " '85% off',\n",
       " '83% off',\n",
       " '87% off']"
      ]
     },
     "execution_count": 113,
     "metadata": {},
     "output_type": "execute_result"
    }
   ],
   "source": [
    "# Insert all product discount result into sunglasses_discount list\n",
    "for i in sunglasses_discount_tag_2:\n",
    "    sunglasses_discount_2 = i.text\n",
    "    sunglasses_discount.append(sunglasses_discount_2)\n",
    "sunglasses_discount    "
   ]
  },
  {
   "cell_type": "code",
   "execution_count": 114,
   "id": "b127d822",
   "metadata": {},
   "outputs": [
    {
     "name": "stdout",
     "output_type": "stream",
     "text": [
      "80 80 80 80\n"
     ]
    }
   ],
   "source": [
    "#print the length of each list\n",
    "print(len(sunglasses_brand),len(sunglasses_product_description),len(sunglasses_price),len(sunglasses_discount))"
   ]
  },
  {
   "cell_type": "code",
   "execution_count": 115,
   "id": "7220fefe",
   "metadata": {},
   "outputs": [],
   "source": [
    "# Clicking on next button to go to next page\n",
    "next_3 = driver.find_element_by_xpath(\"//a[@class='_1LKTO3'][2]\")\n",
    "next_3.click()"
   ]
  },
  {
   "cell_type": "code",
   "execution_count": 116,
   "id": "a3f44a83",
   "metadata": {},
   "outputs": [
    {
     "data": {
      "text/plain": [
       "[<selenium.webdriver.remote.webelement.WebElement (session=\"f7bedd1f377d6809ee60c818cbb0ceaa\", element=\"4b32c08b-9924-4878-81c2-d80ce3e035c9\")>,\n",
       " <selenium.webdriver.remote.webelement.WebElement (session=\"f7bedd1f377d6809ee60c818cbb0ceaa\", element=\"8a1cbc9c-6bfc-4968-9db2-fd1d5d1abd65\")>,\n",
       " <selenium.webdriver.remote.webelement.WebElement (session=\"f7bedd1f377d6809ee60c818cbb0ceaa\", element=\"81b39e8f-fe86-4eab-b0db-02146254e6fa\")>,\n",
       " <selenium.webdriver.remote.webelement.WebElement (session=\"f7bedd1f377d6809ee60c818cbb0ceaa\", element=\"88b6b0d4-daa7-4ac6-a0e1-eed667e06812\")>]"
      ]
     },
     "execution_count": 116,
     "metadata": {},
     "output_type": "execute_result"
    }
   ],
   "source": [
    "# Scraping the data for product brand\n",
    "sunglasses_brand_tag_3 = driver.find_elements_by_xpath(\"//div[@class='_2WkVRV']\")\n",
    "sunglasses_brand_tag_3[0:4]"
   ]
  },
  {
   "cell_type": "code",
   "execution_count": 117,
   "id": "86dfcf06",
   "metadata": {},
   "outputs": [
    {
     "data": {
      "text/plain": [
       "['Kanishka',\n",
       " 'ROZZETTA CRAFT',\n",
       " 'SRPM',\n",
       " 'Elligator',\n",
       " 'New Specs',\n",
       " 'PIRASO',\n",
       " 'PIRASO',\n",
       " 'PIRASO',\n",
       " 'kingsunglasses',\n",
       " 'SHAAH COLLECTIONS',\n",
       " 'ROZZETTA CRAFT',\n",
       " 'ROADWAY',\n",
       " 'PIRASO',\n",
       " 'kingsunglasses',\n",
       " 'kingsunglasses',\n",
       " 'RMKK',\n",
       " 'Fastrack',\n",
       " 'PHENOMENAL',\n",
       " 'New Specs',\n",
       " 'PIRASO',\n",
       " 'SHAAH COLLECTIONS',\n",
       " 'ROZZETTA CRAFT',\n",
       " 'Singco India',\n",
       " 'PIRASO',\n",
       " 'ROZZETTA CRAFT',\n",
       " 'PHENOMENAL',\n",
       " 'Rich Club',\n",
       " 'RMKK',\n",
       " 'ROYAL SON',\n",
       " 'SUNBEE',\n",
       " 'hipe',\n",
       " 'ROADWAY',\n",
       " 'PIRASO',\n",
       " 'PIRASO',\n",
       " 'PIRASO',\n",
       " 'ROYAL SON',\n",
       " 'ROZZETTA CRAFT',\n",
       " 'Rich Club',\n",
       " 'Singco India',\n",
       " 'PIRASO',\n",
       " 'PIRASO',\n",
       " 'Lee Topper',\n",
       " 'PIRASO',\n",
       " 'kingsunglasses',\n",
       " 'ROZZETTA CRAFT',\n",
       " 'kingsunglasses',\n",
       " 'SUNBEE',\n",
       " 'ROYAL SON',\n",
       " 'agera',\n",
       " 'Rich Club',\n",
       " 'Elligator',\n",
       " 'kingsunglasses',\n",
       " 'ROYAL SON',\n",
       " 'ROYAL SON',\n",
       " 'PHENOMENAL',\n",
       " 'SUNBEE',\n",
       " 'ROYAL SON',\n",
       " 'DEIXELS',\n",
       " 'Rich Club',\n",
       " 'ROYAL SON',\n",
       " 'PHENOMENAL',\n",
       " 'Poland',\n",
       " 'Fastrack',\n",
       " 'PHENOMENAL',\n",
       " 'ROYAL SON',\n",
       " 'AISLIN',\n",
       " 'hipe',\n",
       " 'kingsunglasses',\n",
       " 'kingsunglasses',\n",
       " 'kingsunglasses',\n",
       " 'SHAAH COLLECTIONS',\n",
       " 'kingsunglasses',\n",
       " 'kingsunglasses',\n",
       " 'Fastrack',\n",
       " 'ROZZETTA CRAFT',\n",
       " 'New Specs',\n",
       " 'Fastrack',\n",
       " 'Elligator',\n",
       " 'kingsunglasses',\n",
       " 'kingsunglasses',\n",
       " 'AISLIN',\n",
       " 'Elligator',\n",
       " 'GANSTA',\n",
       " 'Rich Club',\n",
       " 'hipe',\n",
       " 'PIRASO',\n",
       " 'New Specs',\n",
       " 'GANSTA',\n",
       " 'PHENOMENAL',\n",
       " 'SRPM',\n",
       " 'SHAAH COLLECTIONS',\n",
       " 'Elligator',\n",
       " 'GANSTA',\n",
       " 'Singco India',\n",
       " 'Elligator',\n",
       " 'ROYAL SON',\n",
       " 'DEIXELS',\n",
       " 'Poloport',\n",
       " 'ROYAL SON',\n",
       " 'Fastrack',\n",
       " 'Silver Kartz',\n",
       " 'ROZZETTA CRAFT',\n",
       " 'Singco India',\n",
       " 'AISLIN',\n",
       " 'IDEE',\n",
       " 'elegante',\n",
       " 'Singco',\n",
       " 'elegante',\n",
       " 'ROYAL SON',\n",
       " 'AISLIN',\n",
       " 'AISLIN',\n",
       " 'ROYAL SON',\n",
       " 'IDEE',\n",
       " 'ROYAL SON',\n",
       " 'Badfella',\n",
       " 'Fastrack',\n",
       " 'GANSTA',\n",
       " 'IDEE',\n",
       " 'elegante',\n",
       " 'SHAAH COLLECTIONS']"
      ]
     },
     "execution_count": 117,
     "metadata": {},
     "output_type": "execute_result"
    }
   ],
   "source": [
    "# Insert all product brand result into sunglasses_brand list\n",
    "for i in sunglasses_brand_tag_3:\n",
    "    sunglasses_brand_3 = i.text\n",
    "    sunglasses_brand.append(sunglasses_brand_3)\n",
    "sunglasses_brand "
   ]
  },
  {
   "cell_type": "code",
   "execution_count": 118,
   "id": "bb5b8fbf",
   "metadata": {},
   "outputs": [
    {
     "data": {
      "text/plain": [
       "[<selenium.webdriver.remote.webelement.WebElement (session=\"f7bedd1f377d6809ee60c818cbb0ceaa\", element=\"283f563f-bb7b-4a8f-bb92-de64b9bb806a\")>,\n",
       " <selenium.webdriver.remote.webelement.WebElement (session=\"f7bedd1f377d6809ee60c818cbb0ceaa\", element=\"07c55cf1-11d7-4f80-b878-2ced66d05dee\")>,\n",
       " <selenium.webdriver.remote.webelement.WebElement (session=\"f7bedd1f377d6809ee60c818cbb0ceaa\", element=\"63a6c48f-e325-4df4-b366-045b50b9116f\")>,\n",
       " <selenium.webdriver.remote.webelement.WebElement (session=\"f7bedd1f377d6809ee60c818cbb0ceaa\", element=\"961d6040-3433-41c8-ae1b-2bddedbf325d\")>]"
      ]
     },
     "execution_count": 118,
     "metadata": {},
     "output_type": "execute_result"
    }
   ],
   "source": [
    "# Scraping the data for product description\n",
    "sunglasses_product_description_tag_3 = driver.find_elements_by_xpath(\"//a[@class='IRpwTa']\")\n",
    "sunglasses_product_description_tag_3[0:4]"
   ]
  },
  {
   "cell_type": "code",
   "execution_count": 119,
   "id": "b84bc3f5",
   "metadata": {},
   "outputs": [
    {
     "data": {
      "text/plain": [
       "['Others Round Sunglasses (55)',\n",
       " 'UV Protection, Gradient Aviator Sunglasses (Free Size)',\n",
       " 'UV Protection Wayfarer Sunglasses (56)',\n",
       " 'UV Protection Round Sunglasses (54)',\n",
       " 'UV Protection Rectangular Sunglasses (Free Size)',\n",
       " 'UV Protection Aviator Sunglasses (54)',\n",
       " 'UV Protection Aviator Sunglasses (54)',\n",
       " 'UV Protection Aviator Sunglasses (54)',\n",
       " 'UV Protection Round Sunglasses (54)',\n",
       " 'UV Protection, Polarized, Mirrored Rectangular Sunglass...',\n",
       " 'UV Protection, Gradient Rectangular Sunglasses (Free Si...',\n",
       " 'UV Protection Retro Square Sunglasses (Free Size)',\n",
       " 'UV Protection Aviator Sunglasses (55)',\n",
       " 'Mirrored, UV Protection Wayfarer Sunglasses (53)',\n",
       " 'UV Protection, Riding Glasses, Mirrored Wayfarer Sungla...',\n",
       " 'UV Protection Wayfarer Sunglasses (54)',\n",
       " 'UV Protection Wayfarer Sunglasses (Free Size)',\n",
       " 'UV Protection Retro Square Sunglasses (Free Size)',\n",
       " 'Mirrored, UV Protection, Riding Glasses, Others Round S...',\n",
       " 'UV Protection Rectangular Sunglasses (Free Size)',\n",
       " 'UV Protection, Polarized, Mirrored Rectangular Sunglass...',\n",
       " 'UV Protection Round Sunglasses (Free Size)',\n",
       " 'Mirrored, Riding Glasses, Others Sports Sunglasses (50)',\n",
       " 'UV Protection Cat-eye Sunglasses (55)',\n",
       " 'UV Protection Retro Square Sunglasses (Free Size)',\n",
       " 'UV Protection, Mirrored Retro Square Sunglasses (53)',\n",
       " 'Polarized Round Sunglasses (48)',\n",
       " 'UV Protection Round Sunglasses (55)',\n",
       " 'Mirrored Aviator Sunglasses (55)',\n",
       " 'UV Protection, Polarized, Mirrored Round Sunglasses (Fr...',\n",
       " 'UV Protection Sports Sunglasses (Free Size)',\n",
       " 'UV Protection Retro Square, Sports Sunglasses (Free Siz...',\n",
       " 'UV Protection, Polarized Aviator Sunglasses (32)',\n",
       " 'UV Protection Wayfarer Sunglasses (32)',\n",
       " 'UV Protection Butterfly Sunglasses (65)',\n",
       " 'Polarized, UV Protection Round Sunglasses (53)',\n",
       " 'UV Protection, Gradient Retro Square Sunglasses (Free S...',\n",
       " 'UV Protection Round Sunglasses (50)',\n",
       " 'UV Protection, Riding Glasses, Others Aviator, Wayfarer...',\n",
       " 'UV Protection Rectangular, Over-sized Sunglasses (Free ...',\n",
       " 'UV Protection Aviator Sunglasses (58)',\n",
       " 'Riding Glasses, Night Vision Wrap-around Sunglasses (Fr...',\n",
       " 'UV Protection Aviator Sunglasses (Free Size)',\n",
       " 'UV Protection Rectangular Sunglasses (Free Size)',\n",
       " 'UV Protection, Gradient Round Sunglasses (Free Size)',\n",
       " 'Mirrored, UV Protection Aviator Sunglasses (56)',\n",
       " 'UV Protection, Polarized, Mirrored Wayfarer Sunglasses ...',\n",
       " 'Mirrored Aviator Sunglasses (55)',\n",
       " 'Gradient Aviator Sunglasses (55)',\n",
       " 'Polarized Round Sunglasses (48)',\n",
       " 'UV Protection Round Sunglasses (55)',\n",
       " 'UV Protection Round Sunglasses (Free Size)',\n",
       " 'UV Protection Round Sunglasses (50)',\n",
       " 'Mirrored Aviator Sunglasses (55)',\n",
       " 'UV Protection, Mirrored Clubmaster Sunglasses (Free Siz...',\n",
       " 'UV Protection, Polarized Wayfarer Sunglasses (Free Size...',\n",
       " 'UV Protection, Gradient Butterfly Sunglasses (57)',\n",
       " 'UV Protection Aviator, Wayfarer Sunglasses (Free Size)',\n",
       " 'UV Protection, Others Round Sunglasses (48)',\n",
       " 'UV Protection Retro Square Sunglasses (58)',\n",
       " 'UV Protection, Mirrored Round Sunglasses (Free Size)',\n",
       " 'UV Protection Wayfarer Sunglasses (Free Size)',\n",
       " 'Gradient, UV Protection Wayfarer Sunglasses (Free Size)',\n",
       " 'UV Protection Clubmaster Sunglasses (Free Size)',\n",
       " 'UV Protection Round Sunglasses (50)',\n",
       " 'UV Protection, Gradient Oval Sunglasses (58)',\n",
       " 'UV Protection, Gradient, Mirrored, Riding Glasses Aviat...',\n",
       " 'Mirrored, UV Protection Wayfarer Sunglasses (Free Size)',\n",
       " 'UV Protection, Night Vision Wayfarer Sunglasses (Free S...',\n",
       " 'UV Protection, Mirrored Round Sunglasses (54)',\n",
       " 'UV Protection Round Sunglasses (Free Size)',\n",
       " 'UV Protection Rectangular Sunglasses (55)',\n",
       " 'UV Protection Rectangular Sunglasses (55)',\n",
       " 'Gradient, UV Protection Wayfarer Sunglasses (Free Size)',\n",
       " 'UV Protection, Gradient Rectangular Sunglasses (Free Si...',\n",
       " 'UV Protection Rectangular Sunglasses (Free Size)',\n",
       " 'UV Protection Wayfarer Sunglasses (Free Size)',\n",
       " 'UV Protection Retro Square, Round Sunglasses (54)',\n",
       " 'UV Protection, Night Vision Wayfarer Sunglasses (Free S...',\n",
       " 'UV Protection, Mirrored Aviator Sunglasses (Free Size)',\n",
       " 'UV Protection, Gradient Oval Sunglasses (58)',\n",
       " 'UV Protection, Riding Glasses Rectangular, Retro Square...',\n",
       " 'UV Protection Aviator Sunglasses (57)',\n",
       " 'UV Protection Round Sunglasses (48)',\n",
       " 'UV Protection, Night Vision, Riding Glasses, Gradient, ...',\n",
       " 'UV Protection Aviator Sunglasses (54)',\n",
       " 'UV Protection Rectangular Sunglasses (Free Size)',\n",
       " 'UV Protection, Riding Glasses Wayfarer Sunglasses (53)',\n",
       " 'UV Protection, Mirrored Retro Square Sunglasses (53)',\n",
       " 'UV Protection Wayfarer Sunglasses (53)',\n",
       " 'UV Protection Round Sunglasses (Free Size)',\n",
       " 'UV Protection Round Sunglasses (54)',\n",
       " 'UV Protection, Mirrored Wayfarer Sunglasses (53)',\n",
       " 'Riding Glasses, UV Protection, Others Aviator Sunglasse...',\n",
       " 'UV Protection, Riding Glasses Rectangular, Retro Square...',\n",
       " 'Polarized, UV Protection Wayfarer Sunglasses (61)',\n",
       " 'Polarized, UV Protection, Riding Glasses Wayfarer Sungl...',\n",
       " 'UV Protection Wayfarer Sunglasses (Free Size)',\n",
       " 'UV Protection Round Sunglasses (50)',\n",
       " 'Polarized Retro Square Sunglasses (Free Size)',\n",
       " 'UV Protection Wayfarer Sunglasses (Free Size)',\n",
       " 'UV Protection Rectangular Sunglasses (Free Size)',\n",
       " 'Mirrored, UV Protection, Riding Glasses, Others Wrap-ar...',\n",
       " 'UV Protection, Gradient Butterfly, Retro Square Sunglas...',\n",
       " 'UV Protection Cat-eye Sunglasses (20)',\n",
       " 'Mirrored Round Sunglasses (Free Size)',\n",
       " 'UV Protection Aviator Sunglasses (Free Size)',\n",
       " 'UV Protection Oval Sunglasses (Free Size)',\n",
       " 'Polarized Rectangular Sunglasses (65)',\n",
       " 'Toughened Glass Lens, UV Protection Wayfarer, Rectangul...',\n",
       " 'Toughened Glass Lens, UV Protection Aviator Sunglasses ...',\n",
       " 'Polarized, UV Protection Wayfarer, Retro Square Sunglas...',\n",
       " 'Mirrored, UV Protection Wayfarer Sunglasses (18)',\n",
       " 'Mirrored Aviator Sunglasses (58)',\n",
       " 'Polarized, UV Protection Retro Square Sunglasses (53)',\n",
       " 'UV Protection Wayfarer Sunglasses (54)',\n",
       " 'UV Protection, Gradient Wayfarer Sunglasses (53)',\n",
       " 'UV Protection Cat-eye Sunglasses (20)',\n",
       " 'Polarized Retro Square Sunglasses (Free Size)',\n",
       " 'UV Protection Round Sunglasses (Free Size)']"
      ]
     },
     "execution_count": 119,
     "metadata": {},
     "output_type": "execute_result"
    }
   ],
   "source": [
    "# Insert all product description result into sunglasses_product_description list\n",
    "for i in sunglasses_product_description_tag_3:\n",
    "    sunglasses_product_description_3 = i.text\n",
    "    sunglasses_product_description.append(sunglasses_product_description_3)\n",
    "sunglasses_product_description"
   ]
  },
  {
   "cell_type": "code",
   "execution_count": 120,
   "id": "5acdc0e5",
   "metadata": {},
   "outputs": [
    {
     "data": {
      "text/plain": [
       "[<selenium.webdriver.remote.webelement.WebElement (session=\"f7bedd1f377d6809ee60c818cbb0ceaa\", element=\"9aecca18-84e1-46a8-9385-ff38f72e2f9f\")>,\n",
       " <selenium.webdriver.remote.webelement.WebElement (session=\"f7bedd1f377d6809ee60c818cbb0ceaa\", element=\"9697c624-8ddd-46c4-aed5-7ee4211767c7\")>,\n",
       " <selenium.webdriver.remote.webelement.WebElement (session=\"f7bedd1f377d6809ee60c818cbb0ceaa\", element=\"ac893435-f1ac-4add-8e76-bd7fe4469c0a\")>,\n",
       " <selenium.webdriver.remote.webelement.WebElement (session=\"f7bedd1f377d6809ee60c818cbb0ceaa\", element=\"347638c7-01b7-44b8-889b-a330e6f07baa\")>]"
      ]
     },
     "execution_count": 120,
     "metadata": {},
     "output_type": "execute_result"
    }
   ],
   "source": [
    "# Scraping the data for product price\n",
    "sunglasses_price_tag_3 = driver.find_elements_by_xpath(\"//div[@class='_30jeq3']\")\n",
    "sunglasses_price_tag_3[0:4]"
   ]
  },
  {
   "cell_type": "code",
   "execution_count": 121,
   "id": "90ffc073",
   "metadata": {},
   "outputs": [
    {
     "data": {
      "text/plain": [
       "['₹151',\n",
       " '₹649',\n",
       " '₹188',\n",
       " '₹248',\n",
       " '₹259',\n",
       " '₹200',\n",
       " '₹187',\n",
       " '₹187',\n",
       " '₹189',\n",
       " '₹170',\n",
       " '₹383',\n",
       " '₹296',\n",
       " '₹179',\n",
       " '₹274',\n",
       " '₹187',\n",
       " '₹87',\n",
       " '₹699',\n",
       " '₹319',\n",
       " '₹259',\n",
       " '₹279',\n",
       " '₹181',\n",
       " '₹426',\n",
       " '₹194',\n",
       " '₹209',\n",
       " '₹474',\n",
       " '₹299',\n",
       " '₹175',\n",
       " '₹99',\n",
       " '₹359',\n",
       " '₹271',\n",
       " '₹287',\n",
       " '₹294',\n",
       " '₹164',\n",
       " '₹187',\n",
       " '₹359',\n",
       " '₹664',\n",
       " '₹349',\n",
       " '₹383',\n",
       " '₹229',\n",
       " '₹349',\n",
       " '₹299',\n",
       " '₹276',\n",
       " '₹261',\n",
       " '₹192',\n",
       " '₹360',\n",
       " '₹211',\n",
       " '₹258',\n",
       " '₹359',\n",
       " '₹196',\n",
       " '₹163',\n",
       " '₹239',\n",
       " '₹299',\n",
       " '₹359',\n",
       " '₹359',\n",
       " '₹287',\n",
       " '₹276',\n",
       " '₹664',\n",
       " '₹202',\n",
       " '₹245',\n",
       " '₹449',\n",
       " '₹209',\n",
       " '₹144',\n",
       " '₹599',\n",
       " '₹287',\n",
       " '₹359',\n",
       " '₹446',\n",
       " '₹209',\n",
       " '₹259',\n",
       " '₹299',\n",
       " '₹211',\n",
       " '₹270',\n",
       " '₹259',\n",
       " '₹169',\n",
       " '₹599',\n",
       " '₹396',\n",
       " '₹169',\n",
       " '₹639',\n",
       " '₹291',\n",
       " '₹279',\n",
       " '₹235',\n",
       " '₹446',\n",
       " '₹276',\n",
       " '₹269',\n",
       " '₹284',\n",
       " '₹189',\n",
       " '₹187',\n",
       " '₹188',\n",
       " '₹209',\n",
       " '₹299',\n",
       " '₹199',\n",
       " '₹276',\n",
       " '₹265',\n",
       " '₹196',\n",
       " '₹201',\n",
       " '₹318',\n",
       " '₹699',\n",
       " '₹224',\n",
       " '₹224',\n",
       " '₹359',\n",
       " '₹639',\n",
       " '₹233',\n",
       " '₹319',\n",
       " '₹279',\n",
       " '₹459',\n",
       " '₹1,089',\n",
       " '₹399',\n",
       " '₹498',\n",
       " '₹389',\n",
       " '₹664',\n",
       " '₹924',\n",
       " '₹845',\n",
       " '₹664',\n",
       " '₹1,019',\n",
       " '₹359',\n",
       " '₹207',\n",
       " '₹649',\n",
       " '₹296',\n",
       " '₹1,099',\n",
       " '₹449',\n",
       " '₹276']"
      ]
     },
     "execution_count": 121,
     "metadata": {},
     "output_type": "execute_result"
    }
   ],
   "source": [
    "# Insert all the product price data into sunglasses_price list\n",
    "for i in sunglasses_price_tag_3:\n",
    "    sunglasses_price_3 = i.text\n",
    "    sunglasses_price.append(sunglasses_price_3)\n",
    "sunglasses_price  "
   ]
  },
  {
   "cell_type": "code",
   "execution_count": 122,
   "id": "9fff6b2a",
   "metadata": {},
   "outputs": [
    {
     "data": {
      "text/plain": [
       "[<selenium.webdriver.remote.webelement.WebElement (session=\"f7bedd1f377d6809ee60c818cbb0ceaa\", element=\"fd2e58c3-3f6f-4164-9c56-3c7a150eac61\")>,\n",
       " <selenium.webdriver.remote.webelement.WebElement (session=\"f7bedd1f377d6809ee60c818cbb0ceaa\", element=\"71d2bbc3-3e52-432f-930b-7c4756633cdd\")>,\n",
       " <selenium.webdriver.remote.webelement.WebElement (session=\"f7bedd1f377d6809ee60c818cbb0ceaa\", element=\"436c0d20-3df8-4153-9ade-c97be73ffa04\")>,\n",
       " <selenium.webdriver.remote.webelement.WebElement (session=\"f7bedd1f377d6809ee60c818cbb0ceaa\", element=\"3c7e0335-42a2-4aec-814d-23de1f0c06f1\")>]"
      ]
     },
     "execution_count": 122,
     "metadata": {},
     "output_type": "execute_result"
    }
   ],
   "source": [
    "# Scraping the data for product discount\n",
    "sunglasses_discount_tag_3 = driver.find_elements_by_xpath(\"//div[@class='_3Ay6Sb']/span[1]\")\n",
    "sunglasses_discount_tag_3[0:4]"
   ]
  },
  {
   "cell_type": "code",
   "execution_count": 123,
   "id": "e5cb4f7d",
   "metadata": {},
   "outputs": [
    {
     "data": {
      "text/plain": [
       "['84% off',\n",
       " '74% off',\n",
       " '85% off',\n",
       " '90% off',\n",
       " '87% off',\n",
       " '87% off',\n",
       " '88% off',\n",
       " '88% off',\n",
       " '82% off',\n",
       " '89% off',\n",
       " '80% off',\n",
       " '77% off',\n",
       " '88% off',\n",
       " '86% off',\n",
       " '84% off',\n",
       " '82% off',\n",
       " '22% off',\n",
       " '84% off',\n",
       " '81% off',\n",
       " '89% off',\n",
       " '81% off',\n",
       " '84% off',\n",
       " '87% off',\n",
       " '86% off',\n",
       " '78% off',\n",
       " '85% off',\n",
       " '64% off',\n",
       " '75% off',\n",
       " '76% off',\n",
       " '84% off',\n",
       " '84% off',\n",
       " '80% off',\n",
       " '89% off',\n",
       " '88% off',\n",
       " '86% off',\n",
       " '66% off',\n",
       " '82% off',\n",
       " '61% off',\n",
       " '67% off',\n",
       " '88% off',\n",
       " '88% off',\n",
       " '88% off',\n",
       " '83% off',\n",
       " '82% off',\n",
       " '81% off',\n",
       " '83% off',\n",
       " '80% off',\n",
       " '76% off',\n",
       " '82% off',\n",
       " '67% off',\n",
       " '88% off',\n",
       " '81% off',\n",
       " '76% off',\n",
       " '76% off',\n",
       " '85% off',\n",
       " '78% off',\n",
       " '66% off',\n",
       " '83% off',\n",
       " '69% off',\n",
       " '70% off',\n",
       " '83% off',\n",
       " '71% off',\n",
       " '25% off',\n",
       " '85% off',\n",
       " '76% off',\n",
       " '70% off',\n",
       " '79% off',\n",
       " '87% off',\n",
       " '82% off',\n",
       " '82% off',\n",
       " '84% off',\n",
       " '82% off',\n",
       " '86% off',\n",
       " '25% off',\n",
       " '82% off',\n",
       " '89% off',\n",
       " '20% off',\n",
       " '85% off',\n",
       " '83% off',\n",
       " '87% off',\n",
       " '70% off',\n",
       " '81% off',\n",
       " '86% off',\n",
       " '64% off',\n",
       " '85% off',\n",
       " '88% off',\n",
       " '87% off',\n",
       " '88% off',\n",
       " '85% off',\n",
       " '80% off',\n",
       " '83% off',\n",
       " '79% off',\n",
       " '80% off',\n",
       " '86% off',\n",
       " '78% off',\n",
       " '65% off',\n",
       " '62% off',\n",
       " '88% off',\n",
       " '76% off',\n",
       " '20% off',\n",
       " '84% off',\n",
       " '78% off',\n",
       " '86% off',\n",
       " '69% off',\n",
       " '51% off',\n",
       " '80% off',\n",
       " '75% off',\n",
       " '74% off',\n",
       " '66% off',\n",
       " '75% off',\n",
       " '77% off',\n",
       " '66% off',\n",
       " '50% off',\n",
       " '76% off',\n",
       " '79% off',\n",
       " '27% off',\n",
       " '85% off',\n",
       " '51% off',\n",
       " '80% off',\n",
       " '83% off']"
      ]
     },
     "execution_count": 123,
     "metadata": {},
     "output_type": "execute_result"
    }
   ],
   "source": [
    "# Insert all the product discount result into  sunglasses_discount list\n",
    "for i in sunglasses_discount_tag_3:\n",
    "    sunglasses_discount_3 = i.text\n",
    "    sunglasses_discount.append(sunglasses_discount_3)\n",
    "sunglasses_discount "
   ]
  },
  {
   "cell_type": "code",
   "execution_count": 124,
   "id": "b2f216a1",
   "metadata": {},
   "outputs": [
    {
     "name": "stdout",
     "output_type": "stream",
     "text": [
      "120 120 120 120\n"
     ]
    }
   ],
   "source": [
    "#print the length of each list\n",
    "print(len(sunglasses_brand),len(sunglasses_product_description),len(sunglasses_price),len(sunglasses_discount))"
   ]
  },
  {
   "cell_type": "code",
   "execution_count": 125,
   "id": "e43a278b",
   "metadata": {},
   "outputs": [],
   "source": [
    "# Creating empty data frame\n",
    "sunglasses = pd.DataFrame({})\n",
    "\n",
    "# Adding column's into data frame\n",
    "sunglasses['Brand'] = sunglasses_brand\n",
    "sunglasses['Product Description'] = sunglasses_product_description\n",
    "sunglasses['Price'] = sunglasses_price\n",
    "sunglasses['Discount'] = sunglasses_discount"
   ]
  },
  {
   "cell_type": "code",
   "execution_count": 126,
   "id": "1ef4a86f",
   "metadata": {},
   "outputs": [
    {
     "data": {
      "text/html": [
       "<div>\n",
       "<style scoped>\n",
       "    .dataframe tbody tr th:only-of-type {\n",
       "        vertical-align: middle;\n",
       "    }\n",
       "\n",
       "    .dataframe tbody tr th {\n",
       "        vertical-align: top;\n",
       "    }\n",
       "\n",
       "    .dataframe thead th {\n",
       "        text-align: right;\n",
       "    }\n",
       "</style>\n",
       "<table border=\"1\" class=\"dataframe\">\n",
       "  <thead>\n",
       "    <tr style=\"text-align: right;\">\n",
       "      <th></th>\n",
       "      <th>Brand</th>\n",
       "      <th>Product Description</th>\n",
       "      <th>Price</th>\n",
       "      <th>Discount</th>\n",
       "    </tr>\n",
       "  </thead>\n",
       "  <tbody>\n",
       "    <tr>\n",
       "      <th>0</th>\n",
       "      <td>Kanishka</td>\n",
       "      <td>Others Round Sunglasses (55)</td>\n",
       "      <td>₹151</td>\n",
       "      <td>84% off</td>\n",
       "    </tr>\n",
       "    <tr>\n",
       "      <th>1</th>\n",
       "      <td>ROZZETTA CRAFT</td>\n",
       "      <td>UV Protection, Gradient Aviator Sunglasses (Fr...</td>\n",
       "      <td>₹649</td>\n",
       "      <td>74% off</td>\n",
       "    </tr>\n",
       "    <tr>\n",
       "      <th>2</th>\n",
       "      <td>SRPM</td>\n",
       "      <td>UV Protection Wayfarer Sunglasses (56)</td>\n",
       "      <td>₹188</td>\n",
       "      <td>85% off</td>\n",
       "    </tr>\n",
       "    <tr>\n",
       "      <th>3</th>\n",
       "      <td>Elligator</td>\n",
       "      <td>UV Protection Round Sunglasses (54)</td>\n",
       "      <td>₹248</td>\n",
       "      <td>90% off</td>\n",
       "    </tr>\n",
       "    <tr>\n",
       "      <th>4</th>\n",
       "      <td>New Specs</td>\n",
       "      <td>UV Protection Rectangular Sunglasses (Free Size)</td>\n",
       "      <td>₹259</td>\n",
       "      <td>87% off</td>\n",
       "    </tr>\n",
       "    <tr>\n",
       "      <th>...</th>\n",
       "      <td>...</td>\n",
       "      <td>...</td>\n",
       "      <td>...</td>\n",
       "      <td>...</td>\n",
       "    </tr>\n",
       "    <tr>\n",
       "      <th>115</th>\n",
       "      <td>Fastrack</td>\n",
       "      <td>UV Protection Wayfarer Sunglasses (54)</td>\n",
       "      <td>₹649</td>\n",
       "      <td>27% off</td>\n",
       "    </tr>\n",
       "    <tr>\n",
       "      <th>116</th>\n",
       "      <td>GANSTA</td>\n",
       "      <td>UV Protection, Gradient Wayfarer Sunglasses (53)</td>\n",
       "      <td>₹296</td>\n",
       "      <td>85% off</td>\n",
       "    </tr>\n",
       "    <tr>\n",
       "      <th>117</th>\n",
       "      <td>IDEE</td>\n",
       "      <td>UV Protection Cat-eye Sunglasses (20)</td>\n",
       "      <td>₹1,099</td>\n",
       "      <td>51% off</td>\n",
       "    </tr>\n",
       "    <tr>\n",
       "      <th>118</th>\n",
       "      <td>elegante</td>\n",
       "      <td>Polarized Retro Square Sunglasses (Free Size)</td>\n",
       "      <td>₹449</td>\n",
       "      <td>80% off</td>\n",
       "    </tr>\n",
       "    <tr>\n",
       "      <th>119</th>\n",
       "      <td>SHAAH COLLECTIONS</td>\n",
       "      <td>UV Protection Round Sunglasses (Free Size)</td>\n",
       "      <td>₹276</td>\n",
       "      <td>83% off</td>\n",
       "    </tr>\n",
       "  </tbody>\n",
       "</table>\n",
       "<p>120 rows × 4 columns</p>\n",
       "</div>"
      ],
      "text/plain": [
       "                 Brand                                Product Description  \\\n",
       "0             Kanishka                       Others Round Sunglasses (55)   \n",
       "1       ROZZETTA CRAFT  UV Protection, Gradient Aviator Sunglasses (Fr...   \n",
       "2                 SRPM             UV Protection Wayfarer Sunglasses (56)   \n",
       "3            Elligator                UV Protection Round Sunglasses (54)   \n",
       "4            New Specs   UV Protection Rectangular Sunglasses (Free Size)   \n",
       "..                 ...                                                ...   \n",
       "115           Fastrack             UV Protection Wayfarer Sunglasses (54)   \n",
       "116             GANSTA   UV Protection, Gradient Wayfarer Sunglasses (53)   \n",
       "117               IDEE              UV Protection Cat-eye Sunglasses (20)   \n",
       "118           elegante      Polarized Retro Square Sunglasses (Free Size)   \n",
       "119  SHAAH COLLECTIONS         UV Protection Round Sunglasses (Free Size)   \n",
       "\n",
       "      Price Discount  \n",
       "0      ₹151  84% off  \n",
       "1      ₹649  74% off  \n",
       "2      ₹188  85% off  \n",
       "3      ₹248  90% off  \n",
       "4      ₹259  87% off  \n",
       "..      ...      ...  \n",
       "115    ₹649  27% off  \n",
       "116    ₹296  85% off  \n",
       "117  ₹1,099  51% off  \n",
       "118    ₹449  80% off  \n",
       "119    ₹276  83% off  \n",
       "\n",
       "[120 rows x 4 columns]"
      ]
     },
     "execution_count": 126,
     "metadata": {},
     "output_type": "execute_result"
    }
   ],
   "source": [
    "# Displaying data frame\n",
    "sunglasses"
   ]
  },
  {
   "cell_type": "code",
   "execution_count": 127,
   "id": "20fdb902",
   "metadata": {},
   "outputs": [
    {
     "data": {
      "text/html": [
       "<div>\n",
       "<style scoped>\n",
       "    .dataframe tbody tr th:only-of-type {\n",
       "        vertical-align: middle;\n",
       "    }\n",
       "\n",
       "    .dataframe tbody tr th {\n",
       "        vertical-align: top;\n",
       "    }\n",
       "\n",
       "    .dataframe thead th {\n",
       "        text-align: right;\n",
       "    }\n",
       "</style>\n",
       "<table border=\"1\" class=\"dataframe\">\n",
       "  <thead>\n",
       "    <tr style=\"text-align: right;\">\n",
       "      <th></th>\n",
       "      <th>Brand</th>\n",
       "      <th>Product Description</th>\n",
       "      <th>Price</th>\n",
       "      <th>Discount</th>\n",
       "    </tr>\n",
       "  </thead>\n",
       "  <tbody>\n",
       "    <tr>\n",
       "      <th>0</th>\n",
       "      <td>Kanishka</td>\n",
       "      <td>Others Round Sunglasses (55)</td>\n",
       "      <td>₹151</td>\n",
       "      <td>84% off</td>\n",
       "    </tr>\n",
       "    <tr>\n",
       "      <th>1</th>\n",
       "      <td>ROZZETTA CRAFT</td>\n",
       "      <td>UV Protection, Gradient Aviator Sunglasses (Fr...</td>\n",
       "      <td>₹649</td>\n",
       "      <td>74% off</td>\n",
       "    </tr>\n",
       "    <tr>\n",
       "      <th>2</th>\n",
       "      <td>SRPM</td>\n",
       "      <td>UV Protection Wayfarer Sunglasses (56)</td>\n",
       "      <td>₹188</td>\n",
       "      <td>85% off</td>\n",
       "    </tr>\n",
       "    <tr>\n",
       "      <th>3</th>\n",
       "      <td>Elligator</td>\n",
       "      <td>UV Protection Round Sunglasses (54)</td>\n",
       "      <td>₹248</td>\n",
       "      <td>90% off</td>\n",
       "    </tr>\n",
       "    <tr>\n",
       "      <th>4</th>\n",
       "      <td>New Specs</td>\n",
       "      <td>UV Protection Rectangular Sunglasses (Free Size)</td>\n",
       "      <td>₹259</td>\n",
       "      <td>87% off</td>\n",
       "    </tr>\n",
       "    <tr>\n",
       "      <th>...</th>\n",
       "      <td>...</td>\n",
       "      <td>...</td>\n",
       "      <td>...</td>\n",
       "      <td>...</td>\n",
       "    </tr>\n",
       "    <tr>\n",
       "      <th>95</th>\n",
       "      <td>ROYAL SON</td>\n",
       "      <td>Polarized, UV Protection Wayfarer Sunglasses (61)</td>\n",
       "      <td>₹699</td>\n",
       "      <td>65% off</td>\n",
       "    </tr>\n",
       "    <tr>\n",
       "      <th>96</th>\n",
       "      <td>DEIXELS</td>\n",
       "      <td>Polarized, UV Protection, Riding Glasses Wayfa...</td>\n",
       "      <td>₹224</td>\n",
       "      <td>62% off</td>\n",
       "    </tr>\n",
       "    <tr>\n",
       "      <th>97</th>\n",
       "      <td>Poloport</td>\n",
       "      <td>UV Protection Wayfarer Sunglasses (Free Size)</td>\n",
       "      <td>₹224</td>\n",
       "      <td>88% off</td>\n",
       "    </tr>\n",
       "    <tr>\n",
       "      <th>98</th>\n",
       "      <td>ROYAL SON</td>\n",
       "      <td>UV Protection Round Sunglasses (50)</td>\n",
       "      <td>₹359</td>\n",
       "      <td>76% off</td>\n",
       "    </tr>\n",
       "    <tr>\n",
       "      <th>99</th>\n",
       "      <td>Fastrack</td>\n",
       "      <td>Polarized Retro Square Sunglasses (Free Size)</td>\n",
       "      <td>₹639</td>\n",
       "      <td>20% off</td>\n",
       "    </tr>\n",
       "  </tbody>\n",
       "</table>\n",
       "<p>100 rows × 4 columns</p>\n",
       "</div>"
      ],
      "text/plain": [
       "             Brand                                Product Description Price  \\\n",
       "0         Kanishka                       Others Round Sunglasses (55)  ₹151   \n",
       "1   ROZZETTA CRAFT  UV Protection, Gradient Aviator Sunglasses (Fr...  ₹649   \n",
       "2             SRPM             UV Protection Wayfarer Sunglasses (56)  ₹188   \n",
       "3        Elligator                UV Protection Round Sunglasses (54)  ₹248   \n",
       "4        New Specs   UV Protection Rectangular Sunglasses (Free Size)  ₹259   \n",
       "..             ...                                                ...   ...   \n",
       "95       ROYAL SON  Polarized, UV Protection Wayfarer Sunglasses (61)  ₹699   \n",
       "96         DEIXELS  Polarized, UV Protection, Riding Glasses Wayfa...  ₹224   \n",
       "97        Poloport      UV Protection Wayfarer Sunglasses (Free Size)  ₹224   \n",
       "98       ROYAL SON                UV Protection Round Sunglasses (50)  ₹359   \n",
       "99        Fastrack      Polarized Retro Square Sunglasses (Free Size)  ₹639   \n",
       "\n",
       "   Discount  \n",
       "0   84% off  \n",
       "1   74% off  \n",
       "2   85% off  \n",
       "3   90% off  \n",
       "4   87% off  \n",
       "..      ...  \n",
       "95  65% off  \n",
       "96  62% off  \n",
       "97  88% off  \n",
       "98  76% off  \n",
       "99  20% off  \n",
       "\n",
       "[100 rows x 4 columns]"
      ]
     },
     "execution_count": 127,
     "metadata": {},
     "output_type": "execute_result"
    }
   ],
   "source": [
    "# Selectng first 100 product from data frame\n",
    "sunglasses = sunglasses[0:100]\n",
    "\n",
    "## Displaying first 100 product from data frame\n",
    "sunglasses"
   ]
  },
  {
   "cell_type": "code",
   "execution_count": 128,
   "id": "7171c9d6",
   "metadata": {},
   "outputs": [],
   "source": [
    "# Ckosing the current driver\n",
    "driver.close()"
   ]
  },
  {
   "cell_type": "markdown",
   "id": "58fe8716",
   "metadata": {},
   "source": [
    "### Q.5 Scrape 100 reviews data from flipkart.com for iphone11 phone."
   ]
  },
  {
   "cell_type": "code",
   "execution_count": 129,
   "id": "4659092d",
   "metadata": {},
   "outputs": [],
   "source": [
    "# Connecting with web driver\n",
    "driver = webdriver.Chrome(r'E:/DATA TRAINED/Sofrware/chromedriver_win32/chromedriver.exe')"
   ]
  },
  {
   "cell_type": "code",
   "execution_count": 130,
   "id": "e97d84eb",
   "metadata": {},
   "outputs": [],
   "source": [
    "# Open url by web driver\n",
    "driver.get('https://www.flipkart.com/apple-iphone-11-black-64-gb-includes- earpods-poweradapter/p/itm0f37c2240b217?pid=MOBFKCTSVZAXUHGR&lid=LSTMOBFKCTSVZAXUHGREPBFGI&marketplace.')"
   ]
  },
  {
   "cell_type": "code",
   "execution_count": 131,
   "id": "cfe1c288",
   "metadata": {},
   "outputs": [],
   "source": [
    "# Creating empty list\n",
    "iphone_11_rating = []\n",
    "iphone_11_review_summary = []\n",
    "iphone_11_full_summary = []"
   ]
  },
  {
   "cell_type": "code",
   "execution_count": 132,
   "id": "2908357d",
   "metadata": {},
   "outputs": [],
   "source": [
    "# Clicking on all review option to see all review\n",
    "iphone_11_full_rating_tag = driver.find_element_by_xpath(\"//div[@class='_3UAT2v _16PBlm']/span[1]\")\n",
    "iphone_11_full_rating_tag.click()"
   ]
  },
  {
   "cell_type": "code",
   "execution_count": 133,
   "id": "8f6520f4",
   "metadata": {},
   "outputs": [
    {
     "data": {
      "text/plain": [
       "[<selenium.webdriver.remote.webelement.WebElement (session=\"52537848bb1ce2475c473db966ce9580\", element=\"66abbb95-c4c1-4a01-8160-dac7b0c00e43\")>,\n",
       " <selenium.webdriver.remote.webelement.WebElement (session=\"52537848bb1ce2475c473db966ce9580\", element=\"d336627d-93e8-42e3-87ff-5a160164a0ca\")>,\n",
       " <selenium.webdriver.remote.webelement.WebElement (session=\"52537848bb1ce2475c473db966ce9580\", element=\"614992f8-a332-4925-879e-14c56bdbf99a\")>,\n",
       " <selenium.webdriver.remote.webelement.WebElement (session=\"52537848bb1ce2475c473db966ce9580\", element=\"9589c4ba-7887-406d-a372-1cb95aff1aa6\")>]"
      ]
     },
     "execution_count": 133,
     "metadata": {},
     "output_type": "execute_result"
    }
   ],
   "source": [
    "# Scraping data for rating\n",
    "iphone_11_rating_tag = driver.find_elements_by_xpath(\"//div[@class='_3LWZlK _1BLPMq' or @class='_3LWZlK _1rdVr6 _1BLPMq']\")\n",
    "iphone_11_rating_tag[0:4]"
   ]
  },
  {
   "cell_type": "code",
   "execution_count": 134,
   "id": "966f0037",
   "metadata": {},
   "outputs": [
    {
     "data": {
      "text/plain": [
       "['5', '5', '5', '5']"
      ]
     },
     "execution_count": 134,
     "metadata": {},
     "output_type": "execute_result"
    }
   ],
   "source": [
    "# Insert all rating data into list\n",
    "for i in iphone_11_rating_tag:\n",
    "    iphone_11_rating_no = i.text\n",
    "    iphone_11_rating.append(iphone_11_rating_no)\n",
    "iphone_11_rating[0:4]    "
   ]
  },
  {
   "cell_type": "code",
   "execution_count": 135,
   "id": "7daaa36d",
   "metadata": {},
   "outputs": [
    {
     "data": {
      "text/plain": [
       "[<selenium.webdriver.remote.webelement.WebElement (session=\"52537848bb1ce2475c473db966ce9580\", element=\"91d0aa0a-a6f5-4d1a-92a5-ded9764cc2a9\")>,\n",
       " <selenium.webdriver.remote.webelement.WebElement (session=\"52537848bb1ce2475c473db966ce9580\", element=\"719a3628-48d1-4595-975a-d96dcefa722e\")>,\n",
       " <selenium.webdriver.remote.webelement.WebElement (session=\"52537848bb1ce2475c473db966ce9580\", element=\"f1065c2e-7427-4023-b2f1-c5204875e682\")>,\n",
       " <selenium.webdriver.remote.webelement.WebElement (session=\"52537848bb1ce2475c473db966ce9580\", element=\"4d5adda1-2a34-4c0d-b014-1345298d91d8\")>]"
      ]
     },
     "execution_count": 135,
     "metadata": {},
     "output_type": "execute_result"
    }
   ],
   "source": [
    "# Scraping data for review summary\n",
    "iphone_11_review_summary_tag = driver.find_elements_by_xpath(\"//p[@class='_2-N8zT']\")\n",
    "iphone_11_review_summary_tag[0:4]"
   ]
  },
  {
   "cell_type": "code",
   "execution_count": 136,
   "id": "b7d39f8e",
   "metadata": {},
   "outputs": [
    {
     "data": {
      "text/plain": [
       "['Brilliant', 'Simply awesome', 'Best in the market!', 'Perfect product!']"
      ]
     },
     "execution_count": 136,
     "metadata": {},
     "output_type": "execute_result"
    }
   ],
   "source": [
    "# Insert all review summary data into list\n",
    "for i in iphone_11_review_summary_tag:\n",
    "    iphone_11_review_summary_ = i.text\n",
    "    iphone_11_review_summary.append(iphone_11_review_summary_)\n",
    "iphone_11_review_summary[0:4]    "
   ]
  },
  {
   "cell_type": "code",
   "execution_count": 137,
   "id": "8412f8c7",
   "metadata": {},
   "outputs": [
    {
     "data": {
      "text/plain": [
       "[<selenium.webdriver.remote.webelement.WebElement (session=\"52537848bb1ce2475c473db966ce9580\", element=\"bcd230c0-4e2e-403b-a375-fa71a2e26f22\")>,\n",
       " <selenium.webdriver.remote.webelement.WebElement (session=\"52537848bb1ce2475c473db966ce9580\", element=\"be53dbdd-514f-40dc-b004-9cd2ad026c14\")>,\n",
       " <selenium.webdriver.remote.webelement.WebElement (session=\"52537848bb1ce2475c473db966ce9580\", element=\"787d4a35-5a4b-4a5c-8351-250fa879a0d6\")>,\n",
       " <selenium.webdriver.remote.webelement.WebElement (session=\"52537848bb1ce2475c473db966ce9580\", element=\"cf0dd94a-7d54-46a2-bd81-13184ee1c925\")>]"
      ]
     },
     "execution_count": 137,
     "metadata": {},
     "output_type": "execute_result"
    }
   ],
   "source": [
    "# Scraping data for full summary\n",
    "iphone_11_full_summary_des = driver.find_elements_by_xpath(\"//div[@class='t-ZTKy']/div[1]/div[1]\")\n",
    "iphone_11_full_summary_des[0:4]"
   ]
  },
  {
   "cell_type": "code",
   "execution_count": 138,
   "id": "c1a64fbf",
   "metadata": {},
   "outputs": [
    {
     "data": {
      "text/plain": [
       "['The Best Phone for the Money  The iPhone 11 offers superb cameras, a more durable design and excellent battery life for an affordable price.  Compelling ultra-wide camera New Night mode is excellent Long battery life',\n",
       " 'Really satisfied with the Product I received... It’s totally genuine and the packaging was also really good so if ur planning to buy just go for it.',\n",
       " 'Great iPhone very snappy experience as apple kind. Upgraded from iPhone 7. Pros -Camera top class - Battery top performed -Chipset no need to say as apple kind -Security as you expect from apple - Display super bright industry leading colour accuracy and super responsive -Build quality as expect from apple sturdy premium durable beautiful stylish. -Os most stable os in smartphone industry  Cons -No 5G -Display is not based on OLED technology -Charger headphones and 1 apple stic...',\n",
       " 'Amazing phone with great cameras and better battery which gives you the best performance. I just love the camera .']"
      ]
     },
     "execution_count": 138,
     "metadata": {},
     "output_type": "execute_result"
    }
   ],
   "source": [
    "# Insert all full summary data into list\n",
    "for i in iphone_11_full_summary_des:\n",
    "    iphone_11_full_summary_ = i.text.replace('\\n',' ')\n",
    "    iphone_11_full_summary.append(iphone_11_full_summary_)\n",
    "iphone_11_full_summary[0:4]    "
   ]
  },
  {
   "cell_type": "code",
   "execution_count": 139,
   "id": "62208f5a",
   "metadata": {},
   "outputs": [
    {
     "name": "stdout",
     "output_type": "stream",
     "text": [
      "10 10 10\n"
     ]
    }
   ],
   "source": [
    "# Print the length of each list\n",
    "print(len(iphone_11_rating),len(iphone_11_review_summary),len(iphone_11_full_summary))"
   ]
  },
  {
   "cell_type": "code",
   "execution_count": 140,
   "id": "6200f4f4",
   "metadata": {},
   "outputs": [],
   "source": [
    "# Clicking the next option to go on next page\n",
    "next_2 = driver.find_element_by_xpath(\"//a[@class='_1LKTO3']/span[1]\")\n",
    "next_2.click()"
   ]
  },
  {
   "cell_type": "code",
   "execution_count": 141,
   "id": "99b4458e",
   "metadata": {},
   "outputs": [
    {
     "data": {
      "text/plain": [
       "[<selenium.webdriver.remote.webelement.WebElement (session=\"52537848bb1ce2475c473db966ce9580\", element=\"18e4ea73-8b3b-4a10-952a-09bd5a89b758\")>,\n",
       " <selenium.webdriver.remote.webelement.WebElement (session=\"52537848bb1ce2475c473db966ce9580\", element=\"a1222004-e7dc-4b0a-8f06-3fddffa3b643\")>,\n",
       " <selenium.webdriver.remote.webelement.WebElement (session=\"52537848bb1ce2475c473db966ce9580\", element=\"5f4ee66c-c973-4bbd-b0d8-17f46ffe925b\")>,\n",
       " <selenium.webdriver.remote.webelement.WebElement (session=\"52537848bb1ce2475c473db966ce9580\", element=\"577c67e6-914e-4990-8995-ffbd1563cef3\")>]"
      ]
     },
     "execution_count": 141,
     "metadata": {},
     "output_type": "execute_result"
    }
   ],
   "source": [
    "# Scraping data for rating\n",
    "iphone_11_rating_tag_2 = driver.find_elements_by_xpath(\"//div[@class='_3LWZlK _1BLPMq' or @class='_3LWZlK _1rdVr6 _1BLPMq']\")\n",
    "iphone_11_rating_tag_2[0:4]"
   ]
  },
  {
   "cell_type": "code",
   "execution_count": 142,
   "id": "987301b1",
   "metadata": {},
   "outputs": [
    {
     "data": {
      "text/plain": [
       "['5', '5', '5', '5']"
      ]
     },
     "execution_count": 142,
     "metadata": {},
     "output_type": "execute_result"
    }
   ],
   "source": [
    "# Insert all rating data into list\n",
    "for i in iphone_11_rating_tag_2:\n",
    "    iphone_11_rating_no_2 = i.text\n",
    "    iphone_11_rating.append(iphone_11_rating_no_2)\n",
    "iphone_11_rating[0:4] "
   ]
  },
  {
   "cell_type": "code",
   "execution_count": 143,
   "id": "5d040903",
   "metadata": {},
   "outputs": [
    {
     "data": {
      "text/plain": [
       "[<selenium.webdriver.remote.webelement.WebElement (session=\"52537848bb1ce2475c473db966ce9580\", element=\"c112ea2d-7f9b-4087-a017-28d841f0106f\")>,\n",
       " <selenium.webdriver.remote.webelement.WebElement (session=\"52537848bb1ce2475c473db966ce9580\", element=\"f699879e-a977-4a7f-ab38-4bf8c4f46e84\")>,\n",
       " <selenium.webdriver.remote.webelement.WebElement (session=\"52537848bb1ce2475c473db966ce9580\", element=\"346651c2-3f62-4e85-b569-b25565a17798\")>,\n",
       " <selenium.webdriver.remote.webelement.WebElement (session=\"52537848bb1ce2475c473db966ce9580\", element=\"e2ec6805-8774-49a5-ad53-7291bee2e0f3\")>]"
      ]
     },
     "execution_count": 143,
     "metadata": {},
     "output_type": "execute_result"
    }
   ],
   "source": [
    "# Scraping data for review summary\n",
    "iphone_11_review_summary_tag_2 = driver.find_elements_by_xpath(\"//p[@class='_2-N8zT']\")\n",
    "iphone_11_review_summary_tag_2[0:4]"
   ]
  },
  {
   "cell_type": "code",
   "execution_count": 144,
   "id": "aa31952c",
   "metadata": {},
   "outputs": [
    {
     "data": {
      "text/plain": [
       "['Brilliant', 'Simply awesome', 'Best in the market!', 'Perfect product!']"
      ]
     },
     "execution_count": 144,
     "metadata": {},
     "output_type": "execute_result"
    }
   ],
   "source": [
    "# Insert all review summary data into list\n",
    "for i in iphone_11_review_summary_tag_2:\n",
    "    iphone_11_review_summary_2 = i.text\n",
    "    iphone_11_review_summary.append(iphone_11_review_summary_2)\n",
    "iphone_11_review_summary[0:4]"
   ]
  },
  {
   "cell_type": "code",
   "execution_count": 145,
   "id": "87a6342f",
   "metadata": {},
   "outputs": [
    {
     "data": {
      "text/plain": [
       "[<selenium.webdriver.remote.webelement.WebElement (session=\"52537848bb1ce2475c473db966ce9580\", element=\"789d2f12-8780-4537-a3f2-3931941d9067\")>,\n",
       " <selenium.webdriver.remote.webelement.WebElement (session=\"52537848bb1ce2475c473db966ce9580\", element=\"cc0ec0e9-dee9-4f60-a8f5-fc99b90115f4\")>,\n",
       " <selenium.webdriver.remote.webelement.WebElement (session=\"52537848bb1ce2475c473db966ce9580\", element=\"6c5724d8-feed-4356-ae77-721e9172c90d\")>,\n",
       " <selenium.webdriver.remote.webelement.WebElement (session=\"52537848bb1ce2475c473db966ce9580\", element=\"37da3639-c848-42be-a4b0-68cc5f9d8f73\")>]"
      ]
     },
     "execution_count": 145,
     "metadata": {},
     "output_type": "execute_result"
    }
   ],
   "source": [
    "# Scraping data for full summary\n",
    "iphone_11_full_summary_des_2 = driver.find_elements_by_xpath(\"//div[@class='t-ZTKy']/div[1]/div[1]\")\n",
    "iphone_11_full_summary_des_2[0:4]"
   ]
  },
  {
   "cell_type": "code",
   "execution_count": 146,
   "id": "018f75ac",
   "metadata": {},
   "outputs": [
    {
     "data": {
      "text/plain": [
       "['The Best Phone for the Money  The iPhone 11 offers superb cameras, a more durable design and excellent battery life for an affordable price.  Compelling ultra-wide camera New Night mode is excellent Long battery life',\n",
       " 'Really satisfied with the Product I received... It’s totally genuine and the packaging was also really good so if ur planning to buy just go for it.',\n",
       " 'Great iPhone very snappy experience as apple kind. Upgraded from iPhone 7. Pros -Camera top class - Battery top performed -Chipset no need to say as apple kind -Security as you expect from apple - Display super bright industry leading colour accuracy and super responsive -Build quality as expect from apple sturdy premium durable beautiful stylish. -Os most stable os in smartphone industry  Cons -No 5G -Display is not based on OLED technology -Charger headphones and 1 apple stic...',\n",
       " 'Amazing phone with great cameras and better battery which gives you the best performance. I just love the camera .']"
      ]
     },
     "execution_count": 146,
     "metadata": {},
     "output_type": "execute_result"
    }
   ],
   "source": [
    "# Insert all full summary data into list\n",
    "for i in iphone_11_full_summary_des_2:\n",
    "    iphone_11_full_summary_2 = i.text.replace('\\n',' ')\n",
    "    iphone_11_full_summary.append(iphone_11_full_summary_2)\n",
    "iphone_11_full_summary[0:4]"
   ]
  },
  {
   "cell_type": "code",
   "execution_count": 147,
   "id": "f2a0a37b",
   "metadata": {},
   "outputs": [
    {
     "name": "stdout",
     "output_type": "stream",
     "text": [
      "20 20 20\n"
     ]
    }
   ],
   "source": [
    "# Print the length of each list\n",
    "print(len(iphone_11_rating),len(iphone_11_review_summary),len(iphone_11_full_summary))"
   ]
  },
  {
   "cell_type": "code",
   "execution_count": 148,
   "id": "2bd6e2fa",
   "metadata": {},
   "outputs": [],
   "source": [
    "# Clicking the next option to go on next page\n",
    "next_3 = driver.find_element_by_xpath(\"//a[@class='_1LKTO3'][2]\")\n",
    "next_3.click()"
   ]
  },
  {
   "cell_type": "code",
   "execution_count": 149,
   "id": "b216645d",
   "metadata": {},
   "outputs": [
    {
     "name": "stdout",
     "output_type": "stream",
     "text": [
      "30 30 30\n"
     ]
    }
   ],
   "source": [
    "# Scraping data for rating\n",
    "iphone_11_rating_tag_3 = driver.find_elements_by_xpath(\"//div[@class='_3LWZlK _1BLPMq' or @class='_3LWZlK _1rdVr6 _1BLPMq']\")\n",
    "\n",
    "\n",
    "# Insert all rating data into list\n",
    "for i in iphone_11_rating_tag_3:\n",
    "    iphone_11_rating_no_3 = i.text\n",
    "    iphone_11_rating.append(iphone_11_rating_no_3)\n",
    "    \n",
    "# Scraping data for review summary\n",
    "iphone_11_review_summary_tag_3 = driver.find_elements_by_xpath(\"//p[@class='_2-N8zT']\")\n",
    "\n",
    "# Insert all review summary data into list\n",
    "for i in iphone_11_review_summary_tag_3:\n",
    "    iphone_11_review_summary_3 = i.text\n",
    "    iphone_11_review_summary.append(iphone_11_review_summary_3)\n",
    "    \n",
    "# Scraping data for full summary\n",
    "iphone_11_full_summary_des_3 = driver.find_elements_by_xpath(\"//div[@class='t-ZTKy']/div[1]/div[1]\")\n",
    "\n",
    "# Insert all full summary data into list\n",
    "for i in iphone_11_full_summary_des_3:\n",
    "    iphone_11_full_summary_3 = i.text.replace('\\n',' ')\n",
    "    iphone_11_full_summary.append(iphone_11_full_summary_3)\n",
    "\n",
    "# Print the length of each list\n",
    "print(len(iphone_11_rating),len(iphone_11_review_summary),len(iphone_11_full_summary)) "
   ]
  },
  {
   "cell_type": "code",
   "execution_count": 150,
   "id": "039e713f",
   "metadata": {},
   "outputs": [],
   "source": [
    "# Clicking the next option to go on next page\n",
    "next_4 = driver.find_element_by_xpath(\"//a[@class='_1LKTO3'][2]\")\n",
    "next_4.click()"
   ]
  },
  {
   "cell_type": "code",
   "execution_count": 151,
   "id": "ecddf618",
   "metadata": {},
   "outputs": [
    {
     "name": "stdout",
     "output_type": "stream",
     "text": [
      "40 40 40\n"
     ]
    }
   ],
   "source": [
    "# Scraping data for rating\n",
    "iphone_11_rating_tag_4 = driver.find_elements_by_xpath(\"//div[@class='_3LWZlK _1BLPMq' or @class='_3LWZlK _1rdVr6 _1BLPMq']\")\n",
    "\n",
    "# Insert all rating data into list\n",
    "for i in iphone_11_rating_tag_4:\n",
    "    iphone_11_rating_no_4 = i.text\n",
    "    iphone_11_rating.append(iphone_11_rating_no_4)\n",
    "    \n",
    "# Scraping data for review summary    \n",
    "iphone_11_review_summary_tag_4 = driver.find_elements_by_xpath(\"//p[@class='_2-N8zT']\")\n",
    "\n",
    "# Insert all review summary data into list\n",
    "for i in iphone_11_review_summary_tag_4:\n",
    "    iphone_11_review_summary_4 = i.text\n",
    "    iphone_11_review_summary.append(iphone_11_review_summary_4)\n",
    "\n",
    "# Scraping data for full summary\n",
    "iphone_11_full_summary_des_4 = driver.find_elements_by_xpath(\"//div[@class='t-ZTKy']/div[1]/div[1]\")\n",
    "\n",
    "# Insert all full summary data into list\n",
    "for i in iphone_11_full_summary_des_4:\n",
    "    iphone_11_full_summary_4 = i.text.replace('\\n',' ')\n",
    "    iphone_11_full_summary.append(iphone_11_full_summary_4)\n",
    "\n",
    "# Print the length of each list\n",
    "print(len(iphone_11_rating),len(iphone_11_review_summary),len(iphone_11_full_summary)) "
   ]
  },
  {
   "cell_type": "code",
   "execution_count": 152,
   "id": "2ffc14d2",
   "metadata": {},
   "outputs": [],
   "source": [
    "# Clicking the next option to go on next page\n",
    "next_5 = driver.find_element_by_xpath(\"//a[@class='_1LKTO3'][2]\")\n",
    "next_5.click()"
   ]
  },
  {
   "cell_type": "code",
   "execution_count": 153,
   "id": "b85c3ee9",
   "metadata": {},
   "outputs": [
    {
     "name": "stdout",
     "output_type": "stream",
     "text": [
      "50 50 50\n"
     ]
    }
   ],
   "source": [
    "# Scraping data for rating\n",
    "iphone_11_rating_tag_5 = driver.find_elements_by_xpath(\"//div[@class='_3LWZlK _1BLPMq' or @class='_3LWZlK _1rdVr6 _1BLPMq']\")\n",
    "\n",
    "# Insert all rating data into list\n",
    "for i in iphone_11_rating_tag_5:\n",
    "    iphone_11_rating_no_5 = i.text\n",
    "    iphone_11_rating.append(iphone_11_rating_no_5)\n",
    "    \n",
    "# Scraping data for review summary\n",
    "iphone_11_review_summary_tag_5 = driver.find_elements_by_xpath(\"//p[@class='_2-N8zT']\")\n",
    "\n",
    "# Insert all review summary data into list\n",
    "for i in iphone_11_review_summary_tag_5:\n",
    "    iphone_11_review_summary_5 = i.text\n",
    "    iphone_11_review_summary.append(iphone_11_review_summary_5)\n",
    "    \n",
    "# Scraping data for full summary\n",
    "iphone_11_full_summary_des_5 = driver.find_elements_by_xpath(\"//div[@class='t-ZTKy']/div[1]/div[1]\")\n",
    "\n",
    "# Insert all full summary data into list\n",
    "for i in iphone_11_full_summary_des_5:\n",
    "    iphone_11_full_summary_5 = i.text.replace('\\n',' ')\n",
    "    iphone_11_full_summary.append(iphone_11_full_summary_5)\n",
    "\n",
    "# Print the length of each list    \n",
    "print(len(iphone_11_rating),len(iphone_11_review_summary),len(iphone_11_full_summary)) "
   ]
  },
  {
   "cell_type": "code",
   "execution_count": 154,
   "id": "809c6af3",
   "metadata": {},
   "outputs": [],
   "source": [
    "# Clicking the next option to go on next page\n",
    "next_6 = driver.find_element_by_xpath(\"//a[@class='_1LKTO3'][2]\")\n",
    "next_6.click()"
   ]
  },
  {
   "cell_type": "code",
   "execution_count": 155,
   "id": "33635ebf",
   "metadata": {},
   "outputs": [
    {
     "name": "stdout",
     "output_type": "stream",
     "text": [
      "60 60 60\n"
     ]
    }
   ],
   "source": [
    "# Scraping data for rating\n",
    "iphone_11_rating_tag_6 = driver.find_elements_by_xpath(\"//div[@class='_3LWZlK _1BLPMq' or @class='_3LWZlK _1rdVr6 _1BLPMq']\")\n",
    "\n",
    "# Insert all rating data into list\n",
    "for i in iphone_11_rating_tag_6:\n",
    "    iphone_11_rating_no_6 = i.text\n",
    "    iphone_11_rating.append(iphone_11_rating_no_6)\n",
    "    \n",
    "# Scraping data for review summary\n",
    "iphone_11_review_summary_tag_6 = driver.find_elements_by_xpath(\"//p[@class='_2-N8zT']\")\n",
    "\n",
    "# Insert all review summary data into list\n",
    "for i in iphone_11_review_summary_tag_6:\n",
    "    iphone_11_review_summary_6 = i.text\n",
    "    iphone_11_review_summary.append(iphone_11_review_summary_6)\n",
    "    \n",
    "# Scraping data for full summary\n",
    "iphone_11_full_summary_des_6 = driver.find_elements_by_xpath(\"//div[@class='t-ZTKy']/div[1]/div[1]\")\n",
    "\n",
    "# Insert all full summary data into list\n",
    "for i in iphone_11_full_summary_des_6:\n",
    "    iphone_11_full_summary_6 = i.text.replace('\\n',' ')\n",
    "    iphone_11_full_summary.append(iphone_11_full_summary_6)\n",
    "    \n",
    "# Print the length of each list\n",
    "print(len(iphone_11_rating),len(iphone_11_review_summary),len(iphone_11_full_summary)) "
   ]
  },
  {
   "cell_type": "code",
   "execution_count": 157,
   "id": "9f70a16b",
   "metadata": {},
   "outputs": [],
   "source": [
    "# Clicking the next option to go on next page\n",
    "next_7 = driver.find_element_by_xpath(\"//a[@class='_1LKTO3'][2]\")\n",
    "next_7.click()"
   ]
  },
  {
   "cell_type": "code",
   "execution_count": 158,
   "id": "8d590809",
   "metadata": {},
   "outputs": [
    {
     "name": "stdout",
     "output_type": "stream",
     "text": [
      "70 70 70\n"
     ]
    }
   ],
   "source": [
    "# Scraping data for rating\n",
    "iphone_11_rating_tag_7 = driver.find_elements_by_xpath(\"//div[@class='_3LWZlK _1BLPMq' or @class='_3LWZlK _1rdVr6 _1BLPMq']\")\n",
    "\n",
    "# Insert all rating data into list\n",
    "for i in iphone_11_rating_tag_7:\n",
    "    iphone_11_rating_no_7 = i.text\n",
    "    iphone_11_rating.append(iphone_11_rating_no_7)\n",
    "    \n",
    "# Scraping data for review summary\n",
    "iphone_11_review_summary_tag_7 = driver.find_elements_by_xpath(\"//p[@class='_2-N8zT']\")\n",
    "\n",
    "# Insert all review summary data into list\n",
    "for i in iphone_11_review_summary_tag_7:\n",
    "    iphone_11_review_summary_7 = i.text\n",
    "    iphone_11_review_summary.append(iphone_11_review_summary_7)\n",
    "    \n",
    "# Scraping data for full summary\n",
    "iphone_11_full_summary_des_7 = driver.find_elements_by_xpath(\"//div[@class='t-ZTKy']/div[1]/div[1]\")\n",
    "\n",
    "# Insert all full summary data into list\n",
    "for i in iphone_11_full_summary_des_7:\n",
    "    iphone_11_full_summary_7 = i.text.replace('\\n',' ')\n",
    "    iphone_11_full_summary.append(iphone_11_full_summary_7)\n",
    "    \n",
    "# Print the length of each list\n",
    "print(len(iphone_11_rating),len(iphone_11_review_summary),len(iphone_11_full_summary)) "
   ]
  },
  {
   "cell_type": "code",
   "execution_count": 159,
   "id": "184d5f17",
   "metadata": {},
   "outputs": [],
   "source": [
    "# Clicking the next option to go on next page\n",
    "next_8 = driver.find_element_by_xpath(\"//a[@class='_1LKTO3'][2]\")\n",
    "next_8.click()"
   ]
  },
  {
   "cell_type": "code",
   "execution_count": 160,
   "id": "187a74c5",
   "metadata": {},
   "outputs": [
    {
     "name": "stdout",
     "output_type": "stream",
     "text": [
      "80 80 80\n"
     ]
    }
   ],
   "source": [
    "# Scraping data for rating\n",
    "iphone_11_rating_tag_8 = driver.find_elements_by_xpath(\"//div[@class='_3LWZlK _1BLPMq' or @class='_3LWZlK _1rdVr6 _1BLPMq']\")\n",
    "\n",
    "# Insert all rating data into list\n",
    "for i in iphone_11_rating_tag_8:\n",
    "    iphone_11_rating_no_8 = i.text\n",
    "    iphone_11_rating.append(iphone_11_rating_no_8)\n",
    "    \n",
    "# Scraping data for review summary\n",
    "iphone_11_review_summary_tag_8 = driver.find_elements_by_xpath(\"//p[@class='_2-N8zT']\")\n",
    "\n",
    "# Insert all review summary data into list\n",
    "for i in iphone_11_review_summary_tag_8:\n",
    "    iphone_11_review_summary_8 = i.text\n",
    "    iphone_11_review_summary.append(iphone_11_review_summary_8)\n",
    "    \n",
    "# Scraping data for full summary\n",
    "iphone_11_full_summary_des_8 = driver.find_elements_by_xpath(\"//div[@class='t-ZTKy']/div[1]/div[1]\")\n",
    "\n",
    "# Insert all full summary data into list\n",
    "for i in iphone_11_full_summary_des_8:\n",
    "    iphone_11_full_summary_8 = i.text.replace('\\n',' ')\n",
    "    iphone_11_full_summary.append(iphone_11_full_summary_8)\n",
    "    \n",
    "# Print the length of each list\n",
    "print(len(iphone_11_rating),len(iphone_11_review_summary),len(iphone_11_full_summary)) "
   ]
  },
  {
   "cell_type": "code",
   "execution_count": 161,
   "id": "301b33f2",
   "metadata": {},
   "outputs": [],
   "source": [
    "# Clicking the next option to go on next page\n",
    "next_9 = driver.find_element_by_xpath(\"//a[@class='_1LKTO3'][2]\")\n",
    "next_9.click()"
   ]
  },
  {
   "cell_type": "code",
   "execution_count": 162,
   "id": "a87dce29",
   "metadata": {},
   "outputs": [
    {
     "name": "stdout",
     "output_type": "stream",
     "text": [
      "90 90 90\n"
     ]
    }
   ],
   "source": [
    "# Scraping data for rating\n",
    "iphone_11_rating_tag_9 = driver.find_elements_by_xpath(\"//div[@class='_3LWZlK _1BLPMq' or @class='_3LWZlK _1rdVr6 _1BLPMq']\")\n",
    "\n",
    "# Insert all rating data into list\n",
    "for i in iphone_11_rating_tag_9:\n",
    "    iphone_11_rating_no_9 = i.text\n",
    "    iphone_11_rating.append(iphone_11_rating_no_9)\n",
    "    \n",
    "# Scraping data for review summary\n",
    "iphone_11_review_summary_tag_9 = driver.find_elements_by_xpath(\"//p[@class='_2-N8zT']\")\n",
    "\n",
    "# Insert all review summary data into list\n",
    "for i in iphone_11_review_summary_tag_9:\n",
    "    iphone_11_review_summary_9 = i.text\n",
    "    iphone_11_review_summary.append(iphone_11_review_summary_9)\n",
    "    \n",
    "# Scraping data for full summary\n",
    "iphone_11_full_summary_des_9 = driver.find_elements_by_xpath(\"//div[@class='t-ZTKy']/div[1]/div[1]\")\n",
    "\n",
    "# Insert all full summary data into list\n",
    "for i in iphone_11_full_summary_des_9:\n",
    "    iphone_11_full_summary_9 = i.text.replace('\\n',' ')\n",
    "    iphone_11_full_summary.append(iphone_11_full_summary_9)\n",
    "    \n",
    "# Print the length of each list\n",
    "print(len(iphone_11_rating),len(iphone_11_review_summary),len(iphone_11_full_summary)) "
   ]
  },
  {
   "cell_type": "code",
   "execution_count": 163,
   "id": "5e5b844a",
   "metadata": {},
   "outputs": [],
   "source": [
    "# Clicking the next option to go on next page\n",
    "next_10 = driver.find_element_by_xpath(\"//a[@class='_1LKTO3'][2]\")\n",
    "next_10.click()"
   ]
  },
  {
   "cell_type": "code",
   "execution_count": 164,
   "id": "18263f5f",
   "metadata": {},
   "outputs": [
    {
     "name": "stdout",
     "output_type": "stream",
     "text": [
      "100 100 100\n"
     ]
    }
   ],
   "source": [
    "# Scraping data for rating\n",
    "iphone_11_rating_tag_10 = driver.find_elements_by_xpath(\"//div[@class='_3LWZlK _1BLPMq' or @class='_3LWZlK _1rdVr6 _1BLPMq']\")\n",
    "\n",
    "# Insert all rating data into list\n",
    "for i in iphone_11_rating_tag_10:\n",
    "    iphone_11_rating_no_10 = i.text\n",
    "    iphone_11_rating.append(iphone_11_rating_no_10)\n",
    "    \n",
    "# Scraping data for review summary\n",
    "iphone_11_review_summary_tag_10 = driver.find_elements_by_xpath(\"//p[@class='_2-N8zT']\")\n",
    "\n",
    "# Insert all review summary data into list\n",
    "for i in iphone_11_review_summary_tag_10:\n",
    "    iphone_11_review_summary_10 = i.text\n",
    "    iphone_11_review_summary.append(iphone_11_review_summary_10)\n",
    "\n",
    "# Scraping data for full summary\n",
    "iphone_11_full_summary_des_10 = driver.find_elements_by_xpath(\"//div[@class='t-ZTKy']/div[1]/div[1]\")\n",
    "\n",
    "# Insert all full summary data into list\n",
    "for i in iphone_11_full_summary_des_10:\n",
    "    iphone_11_full_summary_10 = i.text.replace('\\n',' ')\n",
    "    iphone_11_full_summary.append(iphone_11_full_summary_10)\n",
    "    \n",
    "# Print the length of each list\n",
    "print(len(iphone_11_rating),len(iphone_11_review_summary),len(iphone_11_full_summary)) "
   ]
  },
  {
   "cell_type": "code",
   "execution_count": 165,
   "id": "733f48ce",
   "metadata": {},
   "outputs": [],
   "source": [
    "# Creating empty data frame\n",
    "iphone_summary = pd.DataFrame({})\n",
    "\n",
    "# Adding column's into data frame\n",
    "iphone_summary['Rating'] = iphone_11_rating\n",
    "iphone_summary['Review Summary'] = iphone_11_review_summary\n",
    "iphone_summary['Full Summary'] = iphone_11_full_summary"
   ]
  },
  {
   "cell_type": "code",
   "execution_count": 166,
   "id": "3e405d98",
   "metadata": {},
   "outputs": [
    {
     "data": {
      "text/html": [
       "<div>\n",
       "<style scoped>\n",
       "    .dataframe tbody tr th:only-of-type {\n",
       "        vertical-align: middle;\n",
       "    }\n",
       "\n",
       "    .dataframe tbody tr th {\n",
       "        vertical-align: top;\n",
       "    }\n",
       "\n",
       "    .dataframe thead th {\n",
       "        text-align: right;\n",
       "    }\n",
       "</style>\n",
       "<table border=\"1\" class=\"dataframe\">\n",
       "  <thead>\n",
       "    <tr style=\"text-align: right;\">\n",
       "      <th></th>\n",
       "      <th>Rating</th>\n",
       "      <th>Review Summary</th>\n",
       "      <th>Full Summary</th>\n",
       "    </tr>\n",
       "  </thead>\n",
       "  <tbody>\n",
       "    <tr>\n",
       "      <th>0</th>\n",
       "      <td>5</td>\n",
       "      <td>Brilliant</td>\n",
       "      <td>The Best Phone for the Money  The iPhone 11 of...</td>\n",
       "    </tr>\n",
       "    <tr>\n",
       "      <th>1</th>\n",
       "      <td>5</td>\n",
       "      <td>Simply awesome</td>\n",
       "      <td>Really satisfied with the Product I received.....</td>\n",
       "    </tr>\n",
       "    <tr>\n",
       "      <th>2</th>\n",
       "      <td>5</td>\n",
       "      <td>Best in the market!</td>\n",
       "      <td>Great iPhone very snappy experience as apple k...</td>\n",
       "    </tr>\n",
       "    <tr>\n",
       "      <th>3</th>\n",
       "      <td>5</td>\n",
       "      <td>Perfect product!</td>\n",
       "      <td>Amazing phone with great cameras and better ba...</td>\n",
       "    </tr>\n",
       "    <tr>\n",
       "      <th>4</th>\n",
       "      <td>5</td>\n",
       "      <td>Worth every penny</td>\n",
       "      <td>Previously I was using one plus 3t it was a gr...</td>\n",
       "    </tr>\n",
       "    <tr>\n",
       "      <th>...</th>\n",
       "      <td>...</td>\n",
       "      <td>...</td>\n",
       "      <td>...</td>\n",
       "    </tr>\n",
       "    <tr>\n",
       "      <th>95</th>\n",
       "      <td>5</td>\n",
       "      <td>Terrific purchase</td>\n",
       "      <td>I use a Note10+ and have been using both iOS a...</td>\n",
       "    </tr>\n",
       "    <tr>\n",
       "      <th>96</th>\n",
       "      <td>5</td>\n",
       "      <td>Awesome</td>\n",
       "      <td>The phone is completely good As far as camera ...</td>\n",
       "    </tr>\n",
       "    <tr>\n",
       "      <th>97</th>\n",
       "      <td>3</td>\n",
       "      <td>Decent product</td>\n",
       "      <td>Everything u ll like it when u use this iPhone...</td>\n",
       "    </tr>\n",
       "    <tr>\n",
       "      <th>98</th>\n",
       "      <td>5</td>\n",
       "      <td>Awesome</td>\n",
       "      <td>Can’t beat the software and hardware integrati...</td>\n",
       "    </tr>\n",
       "    <tr>\n",
       "      <th>99</th>\n",
       "      <td>3</td>\n",
       "      <td>Does the job</td>\n",
       "      <td>phone is good but in display is 720p lcd in th...</td>\n",
       "    </tr>\n",
       "  </tbody>\n",
       "</table>\n",
       "<p>100 rows × 3 columns</p>\n",
       "</div>"
      ],
      "text/plain": [
       "   Rating       Review Summary  \\\n",
       "0       5            Brilliant   \n",
       "1       5       Simply awesome   \n",
       "2       5  Best in the market!   \n",
       "3       5     Perfect product!   \n",
       "4       5    Worth every penny   \n",
       "..    ...                  ...   \n",
       "95      5    Terrific purchase   \n",
       "96      5              Awesome   \n",
       "97      3       Decent product   \n",
       "98      5              Awesome   \n",
       "99      3         Does the job   \n",
       "\n",
       "                                         Full Summary  \n",
       "0   The Best Phone for the Money  The iPhone 11 of...  \n",
       "1   Really satisfied with the Product I received.....  \n",
       "2   Great iPhone very snappy experience as apple k...  \n",
       "3   Amazing phone with great cameras and better ba...  \n",
       "4   Previously I was using one plus 3t it was a gr...  \n",
       "..                                                ...  \n",
       "95  I use a Note10+ and have been using both iOS a...  \n",
       "96  The phone is completely good As far as camera ...  \n",
       "97  Everything u ll like it when u use this iPhone...  \n",
       "98  Can’t beat the software and hardware integrati...  \n",
       "99  phone is good but in display is 720p lcd in th...  \n",
       "\n",
       "[100 rows x 3 columns]"
      ]
     },
     "execution_count": 166,
     "metadata": {},
     "output_type": "execute_result"
    }
   ],
   "source": [
    "iphone_summary"
   ]
  },
  {
   "cell_type": "code",
   "execution_count": 167,
   "id": "499855e4",
   "metadata": {},
   "outputs": [],
   "source": [
    "# Close the current driver\n",
    "driver.close()"
   ]
  },
  {
   "cell_type": "markdown",
   "id": "164b3032",
   "metadata": {},
   "source": [
    "### Q.6 Scrape data for first 100 sneakers from visit flipkart.com"
   ]
  },
  {
   "cell_type": "code",
   "execution_count": 9,
   "id": "4b42922d",
   "metadata": {},
   "outputs": [],
   "source": [
    "# Connecting with web driver\n",
    "driver = webdriver.Chrome(r'E:/DATA TRAINED/Sofrware/chromedriver_win32/chromedriver.exe')"
   ]
  },
  {
   "cell_type": "code",
   "execution_count": 10,
   "id": "c4ec71c2",
   "metadata": {},
   "outputs": [],
   "source": [
    "# Open url by web driver\n",
    "driver.get('https://www.flipkart.com/')"
   ]
  },
  {
   "cell_type": "code",
   "execution_count": 11,
   "id": "25d2ae04",
   "metadata": {},
   "outputs": [],
   "source": [
    "# Close the login prompt\n",
    "close_prompt = driver.find_element_by_xpath(\"//div[@class='_2QfC02']/button\")\n",
    "close_prompt.click()"
   ]
  },
  {
   "cell_type": "code",
   "execution_count": 12,
   "id": "a60f809f",
   "metadata": {},
   "outputs": [],
   "source": [
    "# Entering the 'sneakers' in search option \n",
    "search_sneakers = driver.find_element_by_xpath(\"//input[@name='q']\")\n",
    "search_sneakers.send_keys('sneakers')"
   ]
  },
  {
   "cell_type": "code",
   "execution_count": 13,
   "id": "f5d867c9",
   "metadata": {},
   "outputs": [],
   "source": [
    "# Clicking the search button that provide result based on product to be search\n",
    "search_button = driver.find_element_by_xpath(\"//button[@class='L0Z3Pu']\")\n",
    "search_button.click()"
   ]
  },
  {
   "cell_type": "code",
   "execution_count": 14,
   "id": "151623c6",
   "metadata": {},
   "outputs": [],
   "source": [
    "# Creating the empty list\n",
    "sneakers_brand = []\n",
    "sneakers_product_description = []\n",
    "sneakers_price = []\n",
    "sneakers_discount = []"
   ]
  },
  {
   "cell_type": "code",
   "execution_count": 15,
   "id": "45f68aa3",
   "metadata": {},
   "outputs": [
    {
     "data": {
      "text/plain": [
       "[<selenium.webdriver.remote.webelement.WebElement (session=\"cb3242a30d74216cb3f97a4cf270362f\", element=\"ffbbf469-1917-400a-bf11-b10dc8c9a13c\")>,\n",
       " <selenium.webdriver.remote.webelement.WebElement (session=\"cb3242a30d74216cb3f97a4cf270362f\", element=\"14c81e6c-7111-45f7-937e-205e3a9da2bc\")>,\n",
       " <selenium.webdriver.remote.webelement.WebElement (session=\"cb3242a30d74216cb3f97a4cf270362f\", element=\"c78bd777-5457-4ebf-9443-0050711f7a9c\")>,\n",
       " <selenium.webdriver.remote.webelement.WebElement (session=\"cb3242a30d74216cb3f97a4cf270362f\", element=\"6ddb0c1c-e77f-481e-a9b0-58643c7cd318\")>]"
      ]
     },
     "execution_count": 15,
     "metadata": {},
     "output_type": "execute_result"
    }
   ],
   "source": [
    "# Scraping data for brand\n",
    "sneakers_brand_tag_1 = driver.find_elements_by_xpath(\"//div[@class='_2WkVRV']\")\n",
    "sneakers_brand_tag_1[0:4]"
   ]
  },
  {
   "cell_type": "code",
   "execution_count": 16,
   "id": "4b2e740b",
   "metadata": {},
   "outputs": [
    {
     "data": {
      "text/plain": [
       "['PUMA', 'LEE COOPER', 'URBANBOX', 'BRUTON']"
      ]
     },
     "execution_count": 16,
     "metadata": {},
     "output_type": "execute_result"
    }
   ],
   "source": [
    "# Insert all brand data into list\n",
    "for i in sneakers_brand_tag_1:\n",
    "    sneakers_brand_1 = i.text\n",
    "    sneakers_brand.append(sneakers_brand_1)\n",
    "sneakers_brand[0:4]"
   ]
  },
  {
   "cell_type": "code",
   "execution_count": 17,
   "id": "c4d694f1",
   "metadata": {},
   "outputs": [
    {
     "data": {
      "text/plain": [
       "[<selenium.webdriver.remote.webelement.WebElement (session=\"cb3242a30d74216cb3f97a4cf270362f\", element=\"d520617d-01ff-4022-8a71-d23709360749\")>,\n",
       " <selenium.webdriver.remote.webelement.WebElement (session=\"cb3242a30d74216cb3f97a4cf270362f\", element=\"73f9d061-03c3-4636-b43f-470bafe7928b\")>,\n",
       " <selenium.webdriver.remote.webelement.WebElement (session=\"cb3242a30d74216cb3f97a4cf270362f\", element=\"f32623d6-d3ec-45a8-a9f2-73ff7ce68e39\")>,\n",
       " <selenium.webdriver.remote.webelement.WebElement (session=\"cb3242a30d74216cb3f97a4cf270362f\", element=\"0d900e30-eea8-432b-8985-19ecad694b21\")>]"
      ]
     },
     "execution_count": 17,
     "metadata": {},
     "output_type": "execute_result"
    }
   ],
   "source": [
    "# Scraping data for description\n",
    "sneakers_product_description_tag_1 = driver.find_elements_by_xpath(\"//a[@class='IRpwTa'or @class='IRpwTa _2-ICcC']\")\n",
    "sneakers_product_description_tag_1[0:4]"
   ]
  },
  {
   "cell_type": "code",
   "execution_count": 18,
   "id": "0b2f8ab8",
   "metadata": {},
   "outputs": [
    {
     "data": {
      "text/plain": [
       "['Puma Smash v2 Buck Sneakers For Men',\n",
       " 'Sneakers For Men',\n",
       " 'Sneakers Sneakers For Men',\n",
       " 'Modern Trendy Sneakers Shoes Sneakers For Men']"
      ]
     },
     "execution_count": 18,
     "metadata": {},
     "output_type": "execute_result"
    }
   ],
   "source": [
    "# Insert all description data into list\n",
    "for i in sneakers_product_description_tag_1:\n",
    "    sneakers_product_description_1 = i.text\n",
    "    sneakers_product_description.append(sneakers_product_description_1)\n",
    "sneakers_product_description[0:4]"
   ]
  },
  {
   "cell_type": "code",
   "execution_count": 19,
   "id": "76615b7b",
   "metadata": {},
   "outputs": [
    {
     "data": {
      "text/plain": [
       "[<selenium.webdriver.remote.webelement.WebElement (session=\"cb3242a30d74216cb3f97a4cf270362f\", element=\"d35c9419-a64d-460b-aa17-a2085446fbce\")>,\n",
       " <selenium.webdriver.remote.webelement.WebElement (session=\"cb3242a30d74216cb3f97a4cf270362f\", element=\"9b6665a4-2985-415f-b33f-218232a59882\")>,\n",
       " <selenium.webdriver.remote.webelement.WebElement (session=\"cb3242a30d74216cb3f97a4cf270362f\", element=\"703fbfa1-f0f0-4eef-b667-7cfc54eeb4e2\")>,\n",
       " <selenium.webdriver.remote.webelement.WebElement (session=\"cb3242a30d74216cb3f97a4cf270362f\", element=\"15d8812f-fea6-4b7b-97f0-380aac83d586\")>]"
      ]
     },
     "execution_count": 19,
     "metadata": {},
     "output_type": "execute_result"
    }
   ],
   "source": [
    "# Scraping data for price\n",
    "sneakers_price_tag_1 = driver.find_elements_by_xpath(\"//div[@class='_25b18c']/div[@class='_30jeq3' or @class='_3utEwz']\")\n",
    "sneakers_price_tag_1[0:4]"
   ]
  },
  {
   "cell_type": "code",
   "execution_count": 20,
   "id": "7a009286",
   "metadata": {},
   "outputs": [
    {
     "data": {
      "text/plain": [
       "['₹1,749', '₹1,374', '₹247', '₹299']"
      ]
     },
     "execution_count": 20,
     "metadata": {},
     "output_type": "execute_result"
    }
   ],
   "source": [
    "# Insert all price data into list\n",
    "for i in sneakers_price_tag_1:\n",
    "    sneakers_price_1 = i.text\n",
    "    sneakers_price.append(sneakers_price_1)\n",
    "sneakers_price[0:4]"
   ]
  },
  {
   "cell_type": "code",
   "execution_count": 21,
   "id": "5b5764df",
   "metadata": {},
   "outputs": [
    {
     "data": {
      "text/plain": [
       "[<selenium.webdriver.remote.webelement.WebElement (session=\"cb3242a30d74216cb3f97a4cf270362f\", element=\"7ba8f742-93e1-4412-828e-f074f5b1d9df\")>,\n",
       " <selenium.webdriver.remote.webelement.WebElement (session=\"cb3242a30d74216cb3f97a4cf270362f\", element=\"3c18fb3d-0b2d-4451-9464-742994d2bbf2\")>,\n",
       " <selenium.webdriver.remote.webelement.WebElement (session=\"cb3242a30d74216cb3f97a4cf270362f\", element=\"15eb96e3-65da-4c97-9d7f-86118e5f2ff1\")>,\n",
       " <selenium.webdriver.remote.webelement.WebElement (session=\"cb3242a30d74216cb3f97a4cf270362f\", element=\"31180976-de02-42c3-adeb-10ece82a0bec\")>]"
      ]
     },
     "execution_count": 21,
     "metadata": {},
     "output_type": "execute_result"
    }
   ],
   "source": [
    "# Scraping data for discount\n",
    "sneakers_discount_tag_1 = driver.find_elements_by_xpath(\"//div[@class='_3Ay6Sb']/span[1]\")\n",
    "sneakers_discount_tag_1[0:4]"
   ]
  },
  {
   "cell_type": "code",
   "execution_count": 22,
   "id": "eb988589",
   "metadata": {},
   "outputs": [
    {
     "data": {
      "text/plain": [
       "['50% off', '45% off', '75% off', '76% off']"
      ]
     },
     "execution_count": 22,
     "metadata": {},
     "output_type": "execute_result"
    }
   ],
   "source": [
    "# Insert all discount data into list\n",
    "try:\n",
    "    for i in sneakers_discount_tag_1:\n",
    "        sneakers_discount_1 = i.text\n",
    "        sneakers_discount.append(sneakers_discount_1)\n",
    "except:\n",
    "    sneakers_discount.append('-')\n",
    "sneakers_discount[0:4]"
   ]
  },
  {
   "cell_type": "code",
   "execution_count": 23,
   "id": "577a19d4",
   "metadata": {},
   "outputs": [
    {
     "name": "stdout",
     "output_type": "stream",
     "text": [
      "40 40 40 40\n"
     ]
    }
   ],
   "source": [
    "# Printing length of each list\n",
    "print(len(sneakers_brand),len(sneakers_product_description),len(sneakers_price),len(sneakers_discount))"
   ]
  },
  {
   "cell_type": "code",
   "execution_count": 24,
   "id": "8b61ec9f",
   "metadata": {},
   "outputs": [],
   "source": [
    "# Clicking the next option to go on next page\n",
    "next_1 = driver.find_element_by_xpath(\"//a[@class='_1LKTO3']\")\n",
    "next_1.click()"
   ]
  },
  {
   "cell_type": "code",
   "execution_count": 25,
   "id": "b88a3c16",
   "metadata": {},
   "outputs": [
    {
     "data": {
      "text/plain": [
       "[<selenium.webdriver.remote.webelement.WebElement (session=\"cb3242a30d74216cb3f97a4cf270362f\", element=\"f0cdbec7-2b72-43a7-9037-3485cf3d658f\")>,\n",
       " <selenium.webdriver.remote.webelement.WebElement (session=\"cb3242a30d74216cb3f97a4cf270362f\", element=\"91c9c7b5-ecfb-4233-a671-f6e993d717aa\")>,\n",
       " <selenium.webdriver.remote.webelement.WebElement (session=\"cb3242a30d74216cb3f97a4cf270362f\", element=\"f2d8059a-bf13-4e74-b9c8-08b125e38c03\")>,\n",
       " <selenium.webdriver.remote.webelement.WebElement (session=\"cb3242a30d74216cb3f97a4cf270362f\", element=\"b5d58b95-7254-4a6b-afac-955868880afd\")>]"
      ]
     },
     "execution_count": 25,
     "metadata": {},
     "output_type": "execute_result"
    }
   ],
   "source": [
    "# Scraping data for brand\n",
    "sneakers_brand_tag_2 = driver.find_elements_by_xpath(\"//div[@class='_2WkVRV']\")\n",
    "sneakers_brand_tag_2[0:4]"
   ]
  },
  {
   "cell_type": "code",
   "execution_count": 26,
   "id": "501d904a",
   "metadata": {},
   "outputs": [
    {
     "data": {
      "text/plain": [
       "['PUMA', 'LEE COOPER', 'URBANBOX', 'BRUTON']"
      ]
     },
     "execution_count": 26,
     "metadata": {},
     "output_type": "execute_result"
    }
   ],
   "source": [
    "# Insert all brand data into list\n",
    "for i in sneakers_brand_tag_2:\n",
    "    sneakers_brand_2 = i.text\n",
    "    sneakers_brand.append(sneakers_brand_2)\n",
    "sneakers_brand[0:4]"
   ]
  },
  {
   "cell_type": "code",
   "execution_count": 27,
   "id": "50107d72",
   "metadata": {},
   "outputs": [
    {
     "data": {
      "text/plain": [
       "[<selenium.webdriver.remote.webelement.WebElement (session=\"cb3242a30d74216cb3f97a4cf270362f\", element=\"eaea78ae-bb77-4cd4-8bae-191a0e0a5236\")>,\n",
       " <selenium.webdriver.remote.webelement.WebElement (session=\"cb3242a30d74216cb3f97a4cf270362f\", element=\"8534b6e3-1a26-44e6-bac0-51308bd1faf4\")>,\n",
       " <selenium.webdriver.remote.webelement.WebElement (session=\"cb3242a30d74216cb3f97a4cf270362f\", element=\"2820da68-8a86-42d2-913b-4702aafa34bb\")>,\n",
       " <selenium.webdriver.remote.webelement.WebElement (session=\"cb3242a30d74216cb3f97a4cf270362f\", element=\"b1f1b194-a5ce-479b-8528-0facb722c64e\")>]"
      ]
     },
     "execution_count": 27,
     "metadata": {},
     "output_type": "execute_result"
    }
   ],
   "source": [
    "# Scraping data for description\n",
    "sneakers_product_description_tag_2 = driver.find_elements_by_xpath(\"//a[@class='IRpwTa'or @class='IRpwTa _2-ICcC']\")\n",
    "sneakers_product_description_tag_2[0:4]"
   ]
  },
  {
   "cell_type": "code",
   "execution_count": 28,
   "id": "2d1ca322",
   "metadata": {},
   "outputs": [
    {
     "data": {
      "text/plain": [
       "['Puma Smash v2 Buck Sneakers For Men',\n",
       " 'Sneakers For Men',\n",
       " 'Sneakers Sneakers For Men',\n",
       " 'Modern Trendy Sneakers Shoes Sneakers For Men']"
      ]
     },
     "execution_count": 28,
     "metadata": {},
     "output_type": "execute_result"
    }
   ],
   "source": [
    "# Insert all description data into list\n",
    "for i in sneakers_product_description_tag_2:\n",
    "    sneakers_product_description_2 = i.text\n",
    "    sneakers_product_description.append(sneakers_product_description_2)\n",
    "sneakers_product_description[0:4]"
   ]
  },
  {
   "cell_type": "code",
   "execution_count": 29,
   "id": "6dcee954",
   "metadata": {},
   "outputs": [
    {
     "data": {
      "text/plain": [
       "[<selenium.webdriver.remote.webelement.WebElement (session=\"cb3242a30d74216cb3f97a4cf270362f\", element=\"53195ed3-60c7-49d8-b64b-c303802b2f04\")>,\n",
       " <selenium.webdriver.remote.webelement.WebElement (session=\"cb3242a30d74216cb3f97a4cf270362f\", element=\"70936865-c7cd-4b14-86c6-8101a4099c62\")>,\n",
       " <selenium.webdriver.remote.webelement.WebElement (session=\"cb3242a30d74216cb3f97a4cf270362f\", element=\"2df30483-8434-4837-b29d-d7c889e7f748\")>,\n",
       " <selenium.webdriver.remote.webelement.WebElement (session=\"cb3242a30d74216cb3f97a4cf270362f\", element=\"c2b4aecb-58fb-4f93-9719-301a02a5524b\")>]"
      ]
     },
     "execution_count": 29,
     "metadata": {},
     "output_type": "execute_result"
    }
   ],
   "source": [
    "# Scraping data for price\n",
    "sneakers_price_tag_2 = driver.find_elements_by_xpath(\"//div[@class='_25b18c']/div[@class='_30jeq3' or @class='_3utEwz']\")\n",
    "sneakers_price_tag_2[0:4]"
   ]
  },
  {
   "cell_type": "code",
   "execution_count": 30,
   "id": "e5edcd87",
   "metadata": {},
   "outputs": [
    {
     "data": {
      "text/plain": [
       "['₹1,749', '₹1,374', '₹247', '₹299']"
      ]
     },
     "execution_count": 30,
     "metadata": {},
     "output_type": "execute_result"
    }
   ],
   "source": [
    "# Insert all price data into list\n",
    "for i in sneakers_price_tag_2:\n",
    "    sneakers_price_2 = i.text\n",
    "    sneakers_price.append(sneakers_price_2)\n",
    "sneakers_price[0:4]"
   ]
  },
  {
   "cell_type": "code",
   "execution_count": 31,
   "id": "8266f691",
   "metadata": {},
   "outputs": [
    {
     "data": {
      "text/plain": [
       "[<selenium.webdriver.remote.webelement.WebElement (session=\"cb3242a30d74216cb3f97a4cf270362f\", element=\"06a8a4de-8bf8-47f1-aafa-4e1b72c37d2d\")>,\n",
       " <selenium.webdriver.remote.webelement.WebElement (session=\"cb3242a30d74216cb3f97a4cf270362f\", element=\"39996896-d279-46a6-9c4a-0f0f6905fb41\")>,\n",
       " <selenium.webdriver.remote.webelement.WebElement (session=\"cb3242a30d74216cb3f97a4cf270362f\", element=\"c1e578ea-8379-46b0-8320-b84a3ab82b8d\")>,\n",
       " <selenium.webdriver.remote.webelement.WebElement (session=\"cb3242a30d74216cb3f97a4cf270362f\", element=\"aff97cca-8e47-4396-8bf2-a7e85d205910\")>]"
      ]
     },
     "execution_count": 31,
     "metadata": {},
     "output_type": "execute_result"
    }
   ],
   "source": [
    "# Scraping data for discount\n",
    "sneakers_discount_tag_2 = driver.find_elements_by_xpath(\"//div[@class='_3Ay6Sb']/span[1]\")\n",
    "sneakers_discount_tag_2[0:4]"
   ]
  },
  {
   "cell_type": "code",
   "execution_count": 32,
   "id": "2f2bd20d",
   "metadata": {},
   "outputs": [
    {
     "data": {
      "text/plain": [
       "['50% off', '45% off', '75% off', '76% off']"
      ]
     },
     "execution_count": 32,
     "metadata": {},
     "output_type": "execute_result"
    }
   ],
   "source": [
    "# Insert all discount data into list\n",
    "try:\n",
    "    for i in sneakers_discount_tag_2:\n",
    "        sneakers_discount_2 = i.text\n",
    "        sneakers_discount.append(sneakers_discount_2)\n",
    "except:\n",
    "    sneakers_discount.append('-')\n",
    "sneakers_discount[0:4]"
   ]
  },
  {
   "cell_type": "code",
   "execution_count": 33,
   "id": "db52aa27",
   "metadata": {},
   "outputs": [
    {
     "name": "stdout",
     "output_type": "stream",
     "text": [
      "80 80 80 80\n"
     ]
    }
   ],
   "source": [
    "# Print the length of each list\n",
    "print(len(sneakers_brand),len(sneakers_product_description),len(sneakers_price),len(sneakers_discount))"
   ]
  },
  {
   "cell_type": "code",
   "execution_count": 34,
   "id": "955dd272",
   "metadata": {},
   "outputs": [],
   "source": [
    "# Clicking the next option to go on next page\n",
    "next_1 = driver.find_element_by_xpath(\"//a[@class='_1LKTO3'][2]\")\n",
    "next_1.click()"
   ]
  },
  {
   "cell_type": "code",
   "execution_count": 35,
   "id": "014b7cc1",
   "metadata": {},
   "outputs": [
    {
     "data": {
      "text/plain": [
       "[<selenium.webdriver.remote.webelement.WebElement (session=\"cb3242a30d74216cb3f97a4cf270362f\", element=\"93e9d2c9-9483-487c-a533-4a89e0526ed0\")>,\n",
       " <selenium.webdriver.remote.webelement.WebElement (session=\"cb3242a30d74216cb3f97a4cf270362f\", element=\"c373e4b4-a1f6-4453-85e6-533ab037e25f\")>,\n",
       " <selenium.webdriver.remote.webelement.WebElement (session=\"cb3242a30d74216cb3f97a4cf270362f\", element=\"f6f8c923-1fe3-4935-988f-80799ba59805\")>,\n",
       " <selenium.webdriver.remote.webelement.WebElement (session=\"cb3242a30d74216cb3f97a4cf270362f\", element=\"946f80df-dc9d-4bc8-aae5-bce149adafbb\")>]"
      ]
     },
     "execution_count": 35,
     "metadata": {},
     "output_type": "execute_result"
    }
   ],
   "source": [
    "# Scraping data for brand\n",
    "sneakers_brand_tag_3 = driver.find_elements_by_xpath(\"//div[@class='_2WkVRV']\")\n",
    "sneakers_brand_tag_3[0:4]"
   ]
  },
  {
   "cell_type": "code",
   "execution_count": 36,
   "id": "a316bfa3",
   "metadata": {},
   "outputs": [
    {
     "data": {
      "text/plain": [
       "['PUMA', 'LEE COOPER', 'URBANBOX', 'BRUTON']"
      ]
     },
     "execution_count": 36,
     "metadata": {},
     "output_type": "execute_result"
    }
   ],
   "source": [
    "# Insert all brand data into list\n",
    "for i in sneakers_brand_tag_3:\n",
    "    sneakers_brand_3 = i.text\n",
    "    sneakers_brand.append(sneakers_brand_3)\n",
    "sneakers_brand[0:4]"
   ]
  },
  {
   "cell_type": "code",
   "execution_count": 37,
   "id": "0ee37e97",
   "metadata": {},
   "outputs": [
    {
     "data": {
      "text/plain": [
       "[<selenium.webdriver.remote.webelement.WebElement (session=\"cb3242a30d74216cb3f97a4cf270362f\", element=\"15cee42f-6e36-4bd1-a24f-345b1be3d7d4\")>,\n",
       " <selenium.webdriver.remote.webelement.WebElement (session=\"cb3242a30d74216cb3f97a4cf270362f\", element=\"1d41c30d-60f3-4d62-88f6-2d12e4194089\")>,\n",
       " <selenium.webdriver.remote.webelement.WebElement (session=\"cb3242a30d74216cb3f97a4cf270362f\", element=\"56f4d647-8587-468d-a5cb-a5029e87bbae\")>,\n",
       " <selenium.webdriver.remote.webelement.WebElement (session=\"cb3242a30d74216cb3f97a4cf270362f\", element=\"51e3af41-a2f7-42b1-90bd-afd759674728\")>]"
      ]
     },
     "execution_count": 37,
     "metadata": {},
     "output_type": "execute_result"
    }
   ],
   "source": [
    "# Scraping data for description\n",
    "sneakers_product_description_tag_3 = driver.find_elements_by_xpath(\"//a[@class='IRpwTa'or @class='IRpwTa _2-ICcC']\")\n",
    "sneakers_product_description_tag_3[0:4]"
   ]
  },
  {
   "cell_type": "code",
   "execution_count": 38,
   "id": "b94bd5f7",
   "metadata": {},
   "outputs": [
    {
     "data": {
      "text/plain": [
       "['Puma Smash v2 Buck Sneakers For Men',\n",
       " 'Sneakers For Men',\n",
       " 'Sneakers Sneakers For Men',\n",
       " 'Modern Trendy Sneakers Shoes Sneakers For Men']"
      ]
     },
     "execution_count": 38,
     "metadata": {},
     "output_type": "execute_result"
    }
   ],
   "source": [
    "# Insert all description data into list\n",
    "for i in sneakers_product_description_tag_3:\n",
    "    sneakers_product_description_3 = i.text\n",
    "    sneakers_product_description.append(sneakers_product_description_3)\n",
    "sneakers_product_description[0:4]"
   ]
  },
  {
   "cell_type": "code",
   "execution_count": 39,
   "id": "c18d2f3e",
   "metadata": {},
   "outputs": [
    {
     "data": {
      "text/plain": [
       "[<selenium.webdriver.remote.webelement.WebElement (session=\"cb3242a30d74216cb3f97a4cf270362f\", element=\"4a3ab13e-756e-440c-885b-535856a24f5f\")>,\n",
       " <selenium.webdriver.remote.webelement.WebElement (session=\"cb3242a30d74216cb3f97a4cf270362f\", element=\"efe00fda-dba5-4c8c-a974-495c4f77feab\")>,\n",
       " <selenium.webdriver.remote.webelement.WebElement (session=\"cb3242a30d74216cb3f97a4cf270362f\", element=\"ed86f3d8-5f79-4762-8855-8b0e3d139b3f\")>,\n",
       " <selenium.webdriver.remote.webelement.WebElement (session=\"cb3242a30d74216cb3f97a4cf270362f\", element=\"bf1e5ef4-9d18-4e9a-865a-799bfcf85bdd\")>]"
      ]
     },
     "execution_count": 39,
     "metadata": {},
     "output_type": "execute_result"
    }
   ],
   "source": [
    "# Scraping data for price\n",
    "sneakers_price_tag_3 = driver.find_elements_by_xpath(\"//div[@class='_25b18c']/div[@class='_30jeq3' or @class='_3utEwz']\")\n",
    "sneakers_price_tag_3[0:4]"
   ]
  },
  {
   "cell_type": "code",
   "execution_count": 40,
   "id": "b3c2d967",
   "metadata": {},
   "outputs": [
    {
     "data": {
      "text/plain": [
       "['₹1,749', '₹1,374', '₹247', '₹299']"
      ]
     },
     "execution_count": 40,
     "metadata": {},
     "output_type": "execute_result"
    }
   ],
   "source": [
    "# Insert all price data into list\n",
    "for i in sneakers_price_tag_3:\n",
    "    sneakers_price_3 = i.text\n",
    "    sneakers_price.append(sneakers_price_3)\n",
    "sneakers_price[0:4]"
   ]
  },
  {
   "cell_type": "code",
   "execution_count": 41,
   "id": "d4306f71",
   "metadata": {},
   "outputs": [
    {
     "data": {
      "text/plain": [
       "[<selenium.webdriver.remote.webelement.WebElement (session=\"cb3242a30d74216cb3f97a4cf270362f\", element=\"5a4784b4-4d1e-41f0-bd0e-9988061e4c02\")>,\n",
       " <selenium.webdriver.remote.webelement.WebElement (session=\"cb3242a30d74216cb3f97a4cf270362f\", element=\"c4a3d85e-2428-4088-8f8a-93353e160ad7\")>,\n",
       " <selenium.webdriver.remote.webelement.WebElement (session=\"cb3242a30d74216cb3f97a4cf270362f\", element=\"b6bf0186-7c63-4fd4-a003-643fef64cd16\")>,\n",
       " <selenium.webdriver.remote.webelement.WebElement (session=\"cb3242a30d74216cb3f97a4cf270362f\", element=\"11b2b56c-0a22-4559-bcea-f500969992b9\")>]"
      ]
     },
     "execution_count": 41,
     "metadata": {},
     "output_type": "execute_result"
    }
   ],
   "source": [
    "# Scraping data for discount\n",
    "sneakers_discount_tag_3 = driver.find_elements_by_xpath(\"//div[@class='_3Ay6Sb']/span[1]\")\n",
    "sneakers_discount_tag_3[0:4]"
   ]
  },
  {
   "cell_type": "code",
   "execution_count": 42,
   "id": "719ba980",
   "metadata": {},
   "outputs": [
    {
     "data": {
      "text/plain": [
       "['50% off', '45% off', '75% off', '76% off']"
      ]
     },
     "execution_count": 42,
     "metadata": {},
     "output_type": "execute_result"
    }
   ],
   "source": [
    "# Insert all discount data into list\n",
    "try:\n",
    "    for i in sneakers_discount_tag_3:\n",
    "        sneakers_discount_3 = i.text\n",
    "        sneakers_discount.append(sneakers_discount_3)\n",
    "except:\n",
    "    sneakers_discount.append('-')\n",
    "sneakers_discount[0:4]"
   ]
  },
  {
   "cell_type": "code",
   "execution_count": 43,
   "id": "06f4a01f",
   "metadata": {},
   "outputs": [
    {
     "name": "stdout",
     "output_type": "stream",
     "text": [
      "120 120 120 120\n"
     ]
    }
   ],
   "source": [
    "# Print the length of each list\n",
    "print(len(sneakers_brand),len(sneakers_product_description),len(sneakers_price),len(sneakers_discount))"
   ]
  },
  {
   "cell_type": "code",
   "execution_count": 44,
   "id": "8b36ba5d",
   "metadata": {},
   "outputs": [],
   "source": [
    "# Creating empty data frame\n",
    "sneakers = pd.DataFrame({})\n",
    "\n",
    "# Adding column into data frame\n",
    "sneakers['Brand'] = sneakers_brand\n",
    "sneakers['Description'] = sneakers_product_description\n",
    "sneakers['Price'] = sneakers_price\n",
    "sneakers['Discount'] = sneakers_discount"
   ]
  },
  {
   "cell_type": "code",
   "execution_count": 45,
   "id": "729a99b4",
   "metadata": {},
   "outputs": [
    {
     "data": {
      "text/html": [
       "<div>\n",
       "<style scoped>\n",
       "    .dataframe tbody tr th:only-of-type {\n",
       "        vertical-align: middle;\n",
       "    }\n",
       "\n",
       "    .dataframe tbody tr th {\n",
       "        vertical-align: top;\n",
       "    }\n",
       "\n",
       "    .dataframe thead th {\n",
       "        text-align: right;\n",
       "    }\n",
       "</style>\n",
       "<table border=\"1\" class=\"dataframe\">\n",
       "  <thead>\n",
       "    <tr style=\"text-align: right;\">\n",
       "      <th></th>\n",
       "      <th>Brand</th>\n",
       "      <th>Description</th>\n",
       "      <th>Price</th>\n",
       "      <th>Discount</th>\n",
       "    </tr>\n",
       "  </thead>\n",
       "  <tbody>\n",
       "    <tr>\n",
       "      <th>0</th>\n",
       "      <td>PUMA</td>\n",
       "      <td>Puma Smash v2 Buck Sneakers For Men</td>\n",
       "      <td>₹1,749</td>\n",
       "      <td>50% off</td>\n",
       "    </tr>\n",
       "    <tr>\n",
       "      <th>1</th>\n",
       "      <td>LEE COOPER</td>\n",
       "      <td>Sneakers For Men</td>\n",
       "      <td>₹1,374</td>\n",
       "      <td>45% off</td>\n",
       "    </tr>\n",
       "    <tr>\n",
       "      <th>2</th>\n",
       "      <td>URBANBOX</td>\n",
       "      <td>Sneakers Sneakers For Men</td>\n",
       "      <td>₹247</td>\n",
       "      <td>75% off</td>\n",
       "    </tr>\n",
       "    <tr>\n",
       "      <th>3</th>\n",
       "      <td>BRUTON</td>\n",
       "      <td>Modern Trendy Sneakers Shoes Sneakers For Men</td>\n",
       "      <td>₹299</td>\n",
       "      <td>76% off</td>\n",
       "    </tr>\n",
       "    <tr>\n",
       "      <th>4</th>\n",
       "      <td>BIRDE</td>\n",
       "      <td>Sports Running Shoes Sneakers For Men</td>\n",
       "      <td>₹299</td>\n",
       "      <td>40% off</td>\n",
       "    </tr>\n",
       "    <tr>\n",
       "      <th>...</th>\n",
       "      <td>...</td>\n",
       "      <td>...</td>\n",
       "      <td>...</td>\n",
       "      <td>...</td>\n",
       "    </tr>\n",
       "    <tr>\n",
       "      <th>115</th>\n",
       "      <td>RED TAPE</td>\n",
       "      <td>Sneakers For Men</td>\n",
       "      <td>₹1,423</td>\n",
       "      <td>75% off</td>\n",
       "    </tr>\n",
       "    <tr>\n",
       "      <th>116</th>\n",
       "      <td>Kirjak</td>\n",
       "      <td>men's black sneakers lace-up trendy casual Sne...</td>\n",
       "      <td>₹479</td>\n",
       "      <td>76% off</td>\n",
       "    </tr>\n",
       "    <tr>\n",
       "      <th>117</th>\n",
       "      <td>Feens</td>\n",
       "      <td>Stylish &amp; Comfortable Casual Sports Walking Sn...</td>\n",
       "      <td>₹265</td>\n",
       "      <td>46% off</td>\n",
       "    </tr>\n",
       "    <tr>\n",
       "      <th>118</th>\n",
       "      <td>SPARX</td>\n",
       "      <td>SM-675 Sneakers For Men</td>\n",
       "      <td>₹840</td>\n",
       "      <td>6% off</td>\n",
       "    </tr>\n",
       "    <tr>\n",
       "      <th>119</th>\n",
       "      <td>WROGN</td>\n",
       "      <td>Athleisure Sneakers For Men</td>\n",
       "      <td>₹799</td>\n",
       "      <td>60% off</td>\n",
       "    </tr>\n",
       "  </tbody>\n",
       "</table>\n",
       "<p>120 rows × 4 columns</p>\n",
       "</div>"
      ],
      "text/plain": [
       "          Brand                                        Description   Price  \\\n",
       "0          PUMA                Puma Smash v2 Buck Sneakers For Men  ₹1,749   \n",
       "1    LEE COOPER                                   Sneakers For Men  ₹1,374   \n",
       "2      URBANBOX                          Sneakers Sneakers For Men    ₹247   \n",
       "3        BRUTON      Modern Trendy Sneakers Shoes Sneakers For Men    ₹299   \n",
       "4         BIRDE              Sports Running Shoes Sneakers For Men    ₹299   \n",
       "..          ...                                                ...     ...   \n",
       "115    RED TAPE                                   Sneakers For Men  ₹1,423   \n",
       "116      Kirjak  men's black sneakers lace-up trendy casual Sne...    ₹479   \n",
       "117       Feens  Stylish & Comfortable Casual Sports Walking Sn...    ₹265   \n",
       "118       SPARX                            SM-675 Sneakers For Men    ₹840   \n",
       "119       WROGN                        Athleisure Sneakers For Men    ₹799   \n",
       "\n",
       "    Discount  \n",
       "0    50% off  \n",
       "1    45% off  \n",
       "2    75% off  \n",
       "3    76% off  \n",
       "4    40% off  \n",
       "..       ...  \n",
       "115  75% off  \n",
       "116  76% off  \n",
       "117  46% off  \n",
       "118   6% off  \n",
       "119  60% off  \n",
       "\n",
       "[120 rows x 4 columns]"
      ]
     },
     "execution_count": 45,
     "metadata": {},
     "output_type": "execute_result"
    }
   ],
   "source": [
    "# Displaying the data frame\n",
    "sneakers"
   ]
  },
  {
   "cell_type": "code",
   "execution_count": 46,
   "id": "655aa2c0",
   "metadata": {},
   "outputs": [
    {
     "data": {
      "text/html": [
       "<div>\n",
       "<style scoped>\n",
       "    .dataframe tbody tr th:only-of-type {\n",
       "        vertical-align: middle;\n",
       "    }\n",
       "\n",
       "    .dataframe tbody tr th {\n",
       "        vertical-align: top;\n",
       "    }\n",
       "\n",
       "    .dataframe thead th {\n",
       "        text-align: right;\n",
       "    }\n",
       "</style>\n",
       "<table border=\"1\" class=\"dataframe\">\n",
       "  <thead>\n",
       "    <tr style=\"text-align: right;\">\n",
       "      <th></th>\n",
       "      <th>Brand</th>\n",
       "      <th>Description</th>\n",
       "      <th>Price</th>\n",
       "      <th>Discount</th>\n",
       "    </tr>\n",
       "  </thead>\n",
       "  <tbody>\n",
       "    <tr>\n",
       "      <th>0</th>\n",
       "      <td>PUMA</td>\n",
       "      <td>Puma Smash v2 Buck Sneakers For Men</td>\n",
       "      <td>₹1,749</td>\n",
       "      <td>50% off</td>\n",
       "    </tr>\n",
       "    <tr>\n",
       "      <th>1</th>\n",
       "      <td>LEE COOPER</td>\n",
       "      <td>Sneakers For Men</td>\n",
       "      <td>₹1,374</td>\n",
       "      <td>45% off</td>\n",
       "    </tr>\n",
       "    <tr>\n",
       "      <th>2</th>\n",
       "      <td>URBANBOX</td>\n",
       "      <td>Sneakers Sneakers For Men</td>\n",
       "      <td>₹247</td>\n",
       "      <td>75% off</td>\n",
       "    </tr>\n",
       "    <tr>\n",
       "      <th>3</th>\n",
       "      <td>BRUTON</td>\n",
       "      <td>Modern Trendy Sneakers Shoes Sneakers For Men</td>\n",
       "      <td>₹299</td>\n",
       "      <td>76% off</td>\n",
       "    </tr>\n",
       "    <tr>\n",
       "      <th>4</th>\n",
       "      <td>BIRDE</td>\n",
       "      <td>Sports Running Shoes Sneakers For Men</td>\n",
       "      <td>₹299</td>\n",
       "      <td>40% off</td>\n",
       "    </tr>\n",
       "    <tr>\n",
       "      <th>...</th>\n",
       "      <td>...</td>\n",
       "      <td>...</td>\n",
       "      <td>...</td>\n",
       "      <td>...</td>\n",
       "    </tr>\n",
       "    <tr>\n",
       "      <th>95</th>\n",
       "      <td>PUMA</td>\n",
       "      <td>Ferrari Drift Cat Delta Sneakers For Men</td>\n",
       "      <td>₹3,199</td>\n",
       "      <td>60% off</td>\n",
       "    </tr>\n",
       "    <tr>\n",
       "      <th>96</th>\n",
       "      <td>Woodage</td>\n",
       "      <td>Casual Shoes Slip On Sneakers For Men Sneakers...</td>\n",
       "      <td>₹427</td>\n",
       "      <td>57% off</td>\n",
       "    </tr>\n",
       "    <tr>\n",
       "      <th>97</th>\n",
       "      <td>Chevit</td>\n",
       "      <td>Combo Pack of 5 Casual Sneakers Sneakers For Men</td>\n",
       "      <td>₹679</td>\n",
       "      <td>72% off</td>\n",
       "    </tr>\n",
       "    <tr>\n",
       "      <th>98</th>\n",
       "      <td>BIRDE</td>\n",
       "      <td>Sneakers For Men</td>\n",
       "      <td>₹535</td>\n",
       "      <td>46% off</td>\n",
       "    </tr>\n",
       "    <tr>\n",
       "      <th>99</th>\n",
       "      <td>RED CHIEF</td>\n",
       "      <td>RC3483 014 Sneakers For Men</td>\n",
       "      <td>₹1,797</td>\n",
       "      <td>55% off</td>\n",
       "    </tr>\n",
       "  </tbody>\n",
       "</table>\n",
       "<p>100 rows × 4 columns</p>\n",
       "</div>"
      ],
      "text/plain": [
       "         Brand                                        Description   Price  \\\n",
       "0         PUMA                Puma Smash v2 Buck Sneakers For Men  ₹1,749   \n",
       "1   LEE COOPER                                   Sneakers For Men  ₹1,374   \n",
       "2     URBANBOX                          Sneakers Sneakers For Men    ₹247   \n",
       "3       BRUTON      Modern Trendy Sneakers Shoes Sneakers For Men    ₹299   \n",
       "4        BIRDE              Sports Running Shoes Sneakers For Men    ₹299   \n",
       "..         ...                                                ...     ...   \n",
       "95        PUMA           Ferrari Drift Cat Delta Sneakers For Men  ₹3,199   \n",
       "96     Woodage  Casual Shoes Slip On Sneakers For Men Sneakers...    ₹427   \n",
       "97      Chevit   Combo Pack of 5 Casual Sneakers Sneakers For Men    ₹679   \n",
       "98       BIRDE                                   Sneakers For Men    ₹535   \n",
       "99   RED CHIEF                        RC3483 014 Sneakers For Men  ₹1,797   \n",
       "\n",
       "   Discount  \n",
       "0   50% off  \n",
       "1   45% off  \n",
       "2   75% off  \n",
       "3   76% off  \n",
       "4   40% off  \n",
       "..      ...  \n",
       "95  60% off  \n",
       "96  57% off  \n",
       "97  72% off  \n",
       "98  46% off  \n",
       "99  55% off  \n",
       "\n",
       "[100 rows x 4 columns]"
      ]
     },
     "execution_count": 46,
     "metadata": {},
     "output_type": "execute_result"
    }
   ],
   "source": [
    "# Selection top 100 result\n",
    "sneakers = sneakers[0:100]\n",
    "\n",
    "# Displaying the data frame\n",
    "sneakers"
   ]
  },
  {
   "cell_type": "code",
   "execution_count": 47,
   "id": "ddc182e3",
   "metadata": {},
   "outputs": [],
   "source": [
    "# Close the current driver\n",
    "driver.close()"
   ]
  },
  {
   "cell_type": "markdown",
   "id": "4d56aad5",
   "metadata": {},
   "source": [
    "### Q.7 Scrape First 100 shoes data you get. The data should include “Brand” of the shoes , Short Shoe description, price of the shoe from https://www.myntra.com/shoes. By Set Price filter to “Rs. 7149 to Rs. 14099” , Color filter to “Black”"
   ]
  },
  {
   "cell_type": "code",
   "execution_count": 302,
   "id": "f540c6f6",
   "metadata": {},
   "outputs": [],
   "source": [
    "# Connecting with web driver\n",
    "driver = webdriver.Chrome(r'E:/DATA TRAINED/Sofrware/chromedriver_win32/chromedriver.exe')"
   ]
  },
  {
   "cell_type": "code",
   "execution_count": 303,
   "id": "1bcdeef2",
   "metadata": {},
   "outputs": [],
   "source": [
    "# Open url by driver\n",
    "driver.get('https://www.myntra.com/shoes')"
   ]
  },
  {
   "cell_type": "code",
   "execution_count": 304,
   "id": "cb94a751",
   "metadata": {},
   "outputs": [],
   "source": [
    "# Set color filter to black \n",
    "driver.find_element_by_xpath(\"//span[@data-colorhex='black']\").click()"
   ]
  },
  {
   "cell_type": "code",
   "execution_count": 305,
   "id": "e2ffa1c7",
   "metadata": {},
   "outputs": [],
   "source": [
    "# Set price filter\n",
    "driver.find_element_by_xpath(\"//ul[@class='price-list']/li[2]\").click()"
   ]
  },
  {
   "cell_type": "code",
   "execution_count": 306,
   "id": "50b9c17e",
   "metadata": {},
   "outputs": [],
   "source": [
    "# Creating empty list\n",
    "myntra_shoe_brand = []\n",
    "myntra_shoe_description = []\n",
    "myntra_shoe_price = []"
   ]
  },
  {
   "cell_type": "code",
   "execution_count": 307,
   "id": "a6211990",
   "metadata": {},
   "outputs": [
    {
     "data": {
      "text/plain": [
       "[<selenium.webdriver.remote.webelement.WebElement (session=\"2f8a0faee325a2efef69d0f272e7d183\", element=\"ec5af423-a9e5-48cf-a1d7-4f66a2400de3\")>,\n",
       " <selenium.webdriver.remote.webelement.WebElement (session=\"2f8a0faee325a2efef69d0f272e7d183\", element=\"47acc9b5-0760-4280-ae3b-1306bb4570f8\")>,\n",
       " <selenium.webdriver.remote.webelement.WebElement (session=\"2f8a0faee325a2efef69d0f272e7d183\", element=\"a12c98ff-7fab-4872-bf10-59f6894ce308\")>,\n",
       " <selenium.webdriver.remote.webelement.WebElement (session=\"2f8a0faee325a2efef69d0f272e7d183\", element=\"014a8faa-805e-492d-8456-8915c98fe02d\")>]"
      ]
     },
     "execution_count": 307,
     "metadata": {},
     "output_type": "execute_result"
    }
   ],
   "source": [
    "# Scraping data for brand\n",
    "myntra_shoe_brand_tag_1 = driver.find_elements_by_xpath(\"//h3[@class='product-brand']\")\n",
    "myntra_shoe_brand_tag_1[0:4]"
   ]
  },
  {
   "cell_type": "code",
   "execution_count": 308,
   "id": "d6aa995e",
   "metadata": {},
   "outputs": [
    {
     "data": {
      "text/plain": [
       "['ASICS', 'ADIDAS', 'Puma', 'Puma']"
      ]
     },
     "execution_count": 308,
     "metadata": {},
     "output_type": "execute_result"
    }
   ],
   "source": [
    "# Insert all brand data into list\n",
    "for i in myntra_shoe_brand_tag_1:\n",
    "    myntra_shoe_brand_1 = i.text\n",
    "    myntra_shoe_brand.append(myntra_shoe_brand_1)\n",
    "myntra_shoe_brand[0:4]    "
   ]
  },
  {
   "cell_type": "code",
   "execution_count": 309,
   "id": "1cf8c3db",
   "metadata": {},
   "outputs": [
    {
     "data": {
      "text/plain": [
       "[<selenium.webdriver.remote.webelement.WebElement (session=\"2f8a0faee325a2efef69d0f272e7d183\", element=\"0e8ec98a-73e4-4807-8fcb-28746760758f\")>,\n",
       " <selenium.webdriver.remote.webelement.WebElement (session=\"2f8a0faee325a2efef69d0f272e7d183\", element=\"90b53de5-217f-48bb-a95a-724b14cff5da\")>,\n",
       " <selenium.webdriver.remote.webelement.WebElement (session=\"2f8a0faee325a2efef69d0f272e7d183\", element=\"b0c2ca01-c6a8-4391-9574-ee1cd37c5033\")>,\n",
       " <selenium.webdriver.remote.webelement.WebElement (session=\"2f8a0faee325a2efef69d0f272e7d183\", element=\"7d2ec4e1-130a-4102-a15e-f1b24ebefc0e\")>]"
      ]
     },
     "execution_count": 309,
     "metadata": {},
     "output_type": "execute_result"
    }
   ],
   "source": [
    "# Scraping data for description\n",
    "myntra_shoe_description_tag_1 = driver.find_elements_by_xpath(\"//h4[@class='product-product']\")\n",
    "myntra_shoe_description_tag_1[0:4]"
   ]
  },
  {
   "cell_type": "code",
   "execution_count": 310,
   "id": "5da57115",
   "metadata": {},
   "outputs": [
    {
     "data": {
      "text/plain": [
       "['Men GEL-KAYANO 27 Shoes',\n",
       " 'Women Running Shoes',\n",
       " 'Men Running Shoes',\n",
       " 'Men Deviate Nitro Running Shoe']"
      ]
     },
     "execution_count": 310,
     "metadata": {},
     "output_type": "execute_result"
    }
   ],
   "source": [
    "# Insert all description data into list\n",
    "for i in myntra_shoe_description_tag_1:\n",
    "    myntra_shoe_description_1 = i.text\n",
    "    myntra_shoe_description.append(myntra_shoe_description_1)\n",
    "myntra_shoe_description[0:4]    "
   ]
  },
  {
   "cell_type": "code",
   "execution_count": 311,
   "id": "e69e367c",
   "metadata": {},
   "outputs": [
    {
     "data": {
      "text/plain": [
       "[<selenium.webdriver.remote.webelement.WebElement (session=\"2f8a0faee325a2efef69d0f272e7d183\", element=\"f9a48d80-5ce2-44de-95d2-4d7f303c7732\")>,\n",
       " <selenium.webdriver.remote.webelement.WebElement (session=\"2f8a0faee325a2efef69d0f272e7d183\", element=\"c9e294b6-d4ff-4ec0-8928-42f9f40f3baa\")>,\n",
       " <selenium.webdriver.remote.webelement.WebElement (session=\"2f8a0faee325a2efef69d0f272e7d183\", element=\"80a0a24c-7519-444e-a03d-556c8654be77\")>,\n",
       " <selenium.webdriver.remote.webelement.WebElement (session=\"2f8a0faee325a2efef69d0f272e7d183\", element=\"6506235b-b600-4f5e-bc30-7c605e08d324\")>]"
      ]
     },
     "execution_count": 311,
     "metadata": {},
     "output_type": "execute_result"
    }
   ],
   "source": [
    "# Scraping data for price\n",
    "myntra_shoe_price_tag_1 = driver.find_elements_by_xpath(\"//div[@class='product-price']\")\n",
    "myntra_shoe_price_tag_1[0:4]"
   ]
  },
  {
   "cell_type": "code",
   "execution_count": 312,
   "id": "2d11148c",
   "metadata": {},
   "outputs": [
    {
     "data": {
      "text/plain": [
       "['Rs. 10499Rs. 14999(30% OFF)',\n",
       " 'Rs. 7599',\n",
       " 'Rs. 6499Rs. 12999(50% OFF)',\n",
       " 'Rs. 8249Rs. 14999(45% OFF)',\n",
       " 'Rs. 8295',\n",
       " 'Rs. 6499Rs. 12999(50% OFF)',\n",
       " 'Rs. 6999',\n",
       " 'Rs. 6299Rs. 6999(10% OFF)',\n",
       " 'Rs. 7999',\n",
       " 'Rs. 8099Rs. 8999(10% OFF)',\n",
       " 'Rs. 7799Rs. 12999(40% OFF)',\n",
       " 'Rs. 8999Rs. 9999(10% OFF)',\n",
       " 'Rs. 8999Rs. 9999(10% OFF)',\n",
       " 'Rs. 11900Rs. 13900(Rs. 2000 OFF)',\n",
       " 'Rs. 6999',\n",
       " 'Rs. 7999',\n",
       " 'Rs. 8999Rs. 9999(10% OFF)',\n",
       " 'Rs. 6293Rs. 8990(30% OFF)',\n",
       " 'Rs. 11999',\n",
       " 'Rs. 7999',\n",
       " 'Rs. 6499Rs. 12999(50% OFF)',\n",
       " 'Rs. 6499',\n",
       " 'Rs. 9810Rs. 10900(Rs. 1090 OFF)',\n",
       " 'Rs. 6999',\n",
       " 'Rs. 7999Rs. 9999(20% OFF)',\n",
       " 'Rs. 8999Rs. 9999(10% OFF)',\n",
       " 'Rs. 6499',\n",
       " 'Rs. 10350Rs. 11500(Rs. 1150 OFF)',\n",
       " 'Rs. 9999',\n",
       " 'Rs. 9800Rs. 13900(Rs. 4100 OFF)',\n",
       " 'Rs. 6990',\n",
       " 'Rs. 11999',\n",
       " 'Rs. 8999',\n",
       " 'Rs. 8990',\n",
       " 'Rs. 8990',\n",
       " 'Rs. 10399Rs. 12999(20% OFF)',\n",
       " 'Rs. 6900Rs. 8900(Rs. 2000 OFF)',\n",
       " 'Rs. 8999Rs. 9999(10% OFF)',\n",
       " 'Rs. 8799Rs. 10999(20% OFF)',\n",
       " 'Rs. 6299Rs. 6999(10% OFF)',\n",
       " 'Rs. 7999',\n",
       " 'Rs. 6499Rs. 9999(35% OFF)',\n",
       " 'Rs. 7990',\n",
       " 'Rs. 6791Rs. 7990(15% OFF)',\n",
       " 'Rs. 9999',\n",
       " 'Rs. 8999Rs. 9999(10% OFF)',\n",
       " 'Rs. 7999',\n",
       " 'Rs. 7990',\n",
       " 'Rs. 7693Rs. 10990(30% OFF)',\n",
       " 'Rs. 6990']"
      ]
     },
     "execution_count": 312,
     "metadata": {},
     "output_type": "execute_result"
    }
   ],
   "source": [
    "# Insert all price data into list\n",
    "for i in myntra_shoe_price_tag_1:\n",
    "    myntra_shoe_price_1 = i.text\n",
    "    myntra_shoe_price.append(myntra_shoe_price_1)\n",
    "myntra_shoe_price    "
   ]
  },
  {
   "cell_type": "code",
   "execution_count": 313,
   "id": "c1004558",
   "metadata": {},
   "outputs": [
    {
     "name": "stdout",
     "output_type": "stream",
     "text": [
      "50 50 50\n"
     ]
    }
   ],
   "source": [
    "# Print the length of each list\n",
    "print(len(myntra_shoe_brand),len(myntra_shoe_description),len(myntra_shoe_price))"
   ]
  },
  {
   "cell_type": "code",
   "execution_count": 314,
   "id": "e5e59a71",
   "metadata": {},
   "outputs": [],
   "source": [
    "# Clicking on next button to go on next page\n",
    "driver.find_element_by_xpath(\"//a[@rel='next']\").click()"
   ]
  },
  {
   "cell_type": "code",
   "execution_count": 315,
   "id": "6012e08d",
   "metadata": {},
   "outputs": [
    {
     "data": {
      "text/plain": [
       "[<selenium.webdriver.remote.webelement.WebElement (session=\"2f8a0faee325a2efef69d0f272e7d183\", element=\"a384c6a6-22da-47e9-966d-2def0359e56c\")>,\n",
       " <selenium.webdriver.remote.webelement.WebElement (session=\"2f8a0faee325a2efef69d0f272e7d183\", element=\"380006a5-87a5-4ebf-a6d7-6c6757dc3409\")>,\n",
       " <selenium.webdriver.remote.webelement.WebElement (session=\"2f8a0faee325a2efef69d0f272e7d183\", element=\"f9d11a86-35dd-4494-8dd3-811094c82c74\")>,\n",
       " <selenium.webdriver.remote.webelement.WebElement (session=\"2f8a0faee325a2efef69d0f272e7d183\", element=\"581af8a8-15ff-4c5e-963d-793dcbe7f3db\")>]"
      ]
     },
     "execution_count": 315,
     "metadata": {},
     "output_type": "execute_result"
    }
   ],
   "source": [
    "# Scraping data for brand\n",
    "myntra_shoe_brand_tag_2 = driver.find_elements_by_xpath(\"//h3[@class='product-brand']\")\n",
    "myntra_shoe_brand_tag_2[0:4]"
   ]
  },
  {
   "cell_type": "code",
   "execution_count": 316,
   "id": "41ce882e",
   "metadata": {},
   "outputs": [
    {
     "data": {
      "text/plain": [
       "['ASICS', 'ADIDAS', 'Puma', 'Puma']"
      ]
     },
     "execution_count": 316,
     "metadata": {},
     "output_type": "execute_result"
    }
   ],
   "source": [
    "# Insert all brand data into list\n",
    "for i in myntra_shoe_brand_tag_2:\n",
    "    myntra_shoe_brand_2 = i.text\n",
    "    myntra_shoe_brand.append(myntra_shoe_brand_2)\n",
    "myntra_shoe_brand[0:4]"
   ]
  },
  {
   "cell_type": "code",
   "execution_count": 317,
   "id": "894a429c",
   "metadata": {},
   "outputs": [
    {
     "data": {
      "text/plain": [
       "[<selenium.webdriver.remote.webelement.WebElement (session=\"2f8a0faee325a2efef69d0f272e7d183\", element=\"31024179-6ffb-4dcc-ab5a-00d1ea50f68a\")>,\n",
       " <selenium.webdriver.remote.webelement.WebElement (session=\"2f8a0faee325a2efef69d0f272e7d183\", element=\"5d908430-f82a-44e3-8af6-6290c0e5e162\")>,\n",
       " <selenium.webdriver.remote.webelement.WebElement (session=\"2f8a0faee325a2efef69d0f272e7d183\", element=\"2f521ab2-98d3-46c9-9ff1-b68f1d20853d\")>,\n",
       " <selenium.webdriver.remote.webelement.WebElement (session=\"2f8a0faee325a2efef69d0f272e7d183\", element=\"e5c218d7-f9e3-4099-b76e-dc46afd3674e\")>]"
      ]
     },
     "execution_count": 317,
     "metadata": {},
     "output_type": "execute_result"
    }
   ],
   "source": [
    "# Scraping data for description\n",
    "myntra_shoe_description_tag_2 = driver.find_elements_by_xpath(\"//h4[@class='product-product']\")\n",
    "myntra_shoe_description_tag_2[0:4]"
   ]
  },
  {
   "cell_type": "code",
   "execution_count": 318,
   "id": "8be85ea8",
   "metadata": {},
   "outputs": [
    {
     "data": {
      "text/plain": [
       "['Men GEL-KAYANO 27 Shoes',\n",
       " 'Women Running Shoes',\n",
       " 'Men Running Shoes',\n",
       " 'Men Deviate Nitro Running Shoe']"
      ]
     },
     "execution_count": 318,
     "metadata": {},
     "output_type": "execute_result"
    }
   ],
   "source": [
    "# Insert all description data into list\n",
    "for i in myntra_shoe_description_tag_2:\n",
    "    myntra_shoe_description_2 = i.text\n",
    "    myntra_shoe_description.append(myntra_shoe_description_2)\n",
    "myntra_shoe_description[0:4] "
   ]
  },
  {
   "cell_type": "code",
   "execution_count": 319,
   "id": "42df9b30",
   "metadata": {},
   "outputs": [
    {
     "data": {
      "text/plain": [
       "[<selenium.webdriver.remote.webelement.WebElement (session=\"2f8a0faee325a2efef69d0f272e7d183\", element=\"89afd8e0-3d9c-4139-a3d1-60b2c7b03fd3\")>,\n",
       " <selenium.webdriver.remote.webelement.WebElement (session=\"2f8a0faee325a2efef69d0f272e7d183\", element=\"207d5862-83b7-424b-a061-1138785b25bb\")>,\n",
       " <selenium.webdriver.remote.webelement.WebElement (session=\"2f8a0faee325a2efef69d0f272e7d183\", element=\"e02dea51-e659-4780-a74e-b8f01843d7bf\")>,\n",
       " <selenium.webdriver.remote.webelement.WebElement (session=\"2f8a0faee325a2efef69d0f272e7d183\", element=\"44cdf4fa-5d78-457e-ba90-15be9e286682\")>]"
      ]
     },
     "execution_count": 319,
     "metadata": {},
     "output_type": "execute_result"
    }
   ],
   "source": [
    "# Scraping data for price\n",
    "myntra_shoe_price_tag_2 = driver.find_elements_by_xpath(\"//div[@class='product-price']\")\n",
    "myntra_shoe_price_tag_2[0:4]"
   ]
  },
  {
   "cell_type": "code",
   "execution_count": 320,
   "id": "a7939c23",
   "metadata": {},
   "outputs": [
    {
     "data": {
      "text/plain": [
       "['Rs. 10499Rs. 14999(30% OFF)',\n",
       " 'Rs. 7599',\n",
       " 'Rs. 6499Rs. 12999(50% OFF)',\n",
       " 'Rs. 8249Rs. 14999(45% OFF)',\n",
       " 'Rs. 8295',\n",
       " 'Rs. 6499Rs. 12999(50% OFF)',\n",
       " 'Rs. 6999',\n",
       " 'Rs. 6299Rs. 6999(10% OFF)',\n",
       " 'Rs. 7999',\n",
       " 'Rs. 8099Rs. 8999(10% OFF)',\n",
       " 'Rs. 7799Rs. 12999(40% OFF)',\n",
       " 'Rs. 8999Rs. 9999(10% OFF)',\n",
       " 'Rs. 8999Rs. 9999(10% OFF)',\n",
       " 'Rs. 11900Rs. 13900(Rs. 2000 OFF)',\n",
       " 'Rs. 6999',\n",
       " 'Rs. 7999',\n",
       " 'Rs. 8999Rs. 9999(10% OFF)',\n",
       " 'Rs. 6293Rs. 8990(30% OFF)',\n",
       " 'Rs. 11999',\n",
       " 'Rs. 7999',\n",
       " 'Rs. 6499Rs. 12999(50% OFF)',\n",
       " 'Rs. 6499',\n",
       " 'Rs. 9810Rs. 10900(Rs. 1090 OFF)',\n",
       " 'Rs. 6999',\n",
       " 'Rs. 7999Rs. 9999(20% OFF)',\n",
       " 'Rs. 8999Rs. 9999(10% OFF)',\n",
       " 'Rs. 6499',\n",
       " 'Rs. 10350Rs. 11500(Rs. 1150 OFF)',\n",
       " 'Rs. 9999',\n",
       " 'Rs. 9800Rs. 13900(Rs. 4100 OFF)',\n",
       " 'Rs. 6990',\n",
       " 'Rs. 11999',\n",
       " 'Rs. 8999',\n",
       " 'Rs. 8990',\n",
       " 'Rs. 8990',\n",
       " 'Rs. 10399Rs. 12999(20% OFF)',\n",
       " 'Rs. 6900Rs. 8900(Rs. 2000 OFF)',\n",
       " 'Rs. 8999Rs. 9999(10% OFF)',\n",
       " 'Rs. 8799Rs. 10999(20% OFF)',\n",
       " 'Rs. 6299Rs. 6999(10% OFF)',\n",
       " 'Rs. 7999',\n",
       " 'Rs. 6499Rs. 9999(35% OFF)',\n",
       " 'Rs. 7990',\n",
       " 'Rs. 6791Rs. 7990(15% OFF)',\n",
       " 'Rs. 9999',\n",
       " 'Rs. 8999Rs. 9999(10% OFF)',\n",
       " 'Rs. 7999',\n",
       " 'Rs. 7990',\n",
       " 'Rs. 7693Rs. 10990(30% OFF)',\n",
       " 'Rs. 6990',\n",
       " 'Rs. 7693Rs. 10990(30% OFF)',\n",
       " 'Rs. 6990',\n",
       " 'Rs. 6990',\n",
       " 'Rs. 6990',\n",
       " 'Rs. 6990',\n",
       " 'Rs. 6990',\n",
       " 'Rs. 7499',\n",
       " 'Rs. 6490',\n",
       " 'Rs. 10500Rs. 10900(Rs. 400 OFF)',\n",
       " 'Rs. 9999',\n",
       " 'Rs. 6599',\n",
       " 'Rs. 7499',\n",
       " 'Rs. 8999',\n",
       " 'Rs. 8999',\n",
       " 'Rs. 6990',\n",
       " 'Rs. 9999',\n",
       " 'Rs. 8399Rs. 13999(40% OFF)',\n",
       " 'Rs. 7999',\n",
       " 'Rs. 8399Rs. 11999(30% OFF)',\n",
       " 'Rs. 7990',\n",
       " 'Rs. 7199Rs. 7999(10% OFF)',\n",
       " 'Rs. 6999',\n",
       " 'Rs. 6999',\n",
       " 'Rs. 7999',\n",
       " 'Rs. 8990',\n",
       " 'Rs. 6999',\n",
       " 'Rs. 6599',\n",
       " 'Rs. 7699',\n",
       " 'Rs. 9999',\n",
       " 'Rs. 6299Rs. 6999(10% OFF)',\n",
       " 'Rs. 7149Rs. 10999(35% OFF)',\n",
       " 'Rs. 7999Rs. 9999(20% OFF)',\n",
       " 'Rs. 8490',\n",
       " 'Rs. 11490',\n",
       " 'Rs. 6995',\n",
       " 'Rs. 8999',\n",
       " 'Rs. 8999Rs. 9999(10% OFF)',\n",
       " 'Rs. 7499',\n",
       " 'Rs. 7999',\n",
       " 'Rs. 10999',\n",
       " 'Rs. 7990',\n",
       " 'Rs. 9999',\n",
       " 'Rs. 8999',\n",
       " 'Rs. 7990',\n",
       " 'Rs. 8990',\n",
       " 'Rs. 8990',\n",
       " 'Rs. 8999Rs. 9999(10% OFF)',\n",
       " 'Rs. 8990',\n",
       " 'Rs. 8990',\n",
       " 'Rs. 7990']"
      ]
     },
     "execution_count": 320,
     "metadata": {},
     "output_type": "execute_result"
    }
   ],
   "source": [
    "# Insert all price data into list\n",
    "for i in myntra_shoe_price_tag_2:\n",
    "    myntra_shoe_price_2 = i.text\n",
    "    myntra_shoe_price.append(myntra_shoe_price_2)\n",
    "myntra_shoe_price"
   ]
  },
  {
   "cell_type": "code",
   "execution_count": 321,
   "id": "8b9a3cdd",
   "metadata": {},
   "outputs": [
    {
     "name": "stdout",
     "output_type": "stream",
     "text": [
      "100 100 100\n"
     ]
    }
   ],
   "source": [
    "# Print the length of each list\n",
    "print(len(myntra_shoe_brand),len(myntra_shoe_description),len(myntra_shoe_price))"
   ]
  },
  {
   "cell_type": "code",
   "execution_count": 322,
   "id": "6a308bb5",
   "metadata": {},
   "outputs": [],
   "source": [
    "# Creating empty data frame\n",
    "myntra_shoe = pd.DataFrame({})\n",
    "\n",
    "# Adding column into data frame\n",
    "myntra_shoe['Brand'] = myntra_shoe_brand\n",
    "myntra_shoe['Description'] = myntra_shoe_description\n",
    "myntra_shoe['Price'] = myntra_shoe_price"
   ]
  },
  {
   "cell_type": "code",
   "execution_count": 323,
   "id": "91619ed5",
   "metadata": {},
   "outputs": [
    {
     "data": {
      "text/html": [
       "<div>\n",
       "<style scoped>\n",
       "    .dataframe tbody tr th:only-of-type {\n",
       "        vertical-align: middle;\n",
       "    }\n",
       "\n",
       "    .dataframe tbody tr th {\n",
       "        vertical-align: top;\n",
       "    }\n",
       "\n",
       "    .dataframe thead th {\n",
       "        text-align: right;\n",
       "    }\n",
       "</style>\n",
       "<table border=\"1\" class=\"dataframe\">\n",
       "  <thead>\n",
       "    <tr style=\"text-align: right;\">\n",
       "      <th></th>\n",
       "      <th>Brand</th>\n",
       "      <th>Description</th>\n",
       "      <th>Price</th>\n",
       "    </tr>\n",
       "  </thead>\n",
       "  <tbody>\n",
       "    <tr>\n",
       "      <th>0</th>\n",
       "      <td>ASICS</td>\n",
       "      <td>Men GEL-KAYANO 27 Shoes</td>\n",
       "      <td>Rs. 10499Rs. 14999(30% OFF)</td>\n",
       "    </tr>\n",
       "    <tr>\n",
       "      <th>1</th>\n",
       "      <td>ADIDAS</td>\n",
       "      <td>Women Running Shoes</td>\n",
       "      <td>Rs. 7599</td>\n",
       "    </tr>\n",
       "    <tr>\n",
       "      <th>2</th>\n",
       "      <td>Puma</td>\n",
       "      <td>Men Running Shoes</td>\n",
       "      <td>Rs. 6499Rs. 12999(50% OFF)</td>\n",
       "    </tr>\n",
       "    <tr>\n",
       "      <th>3</th>\n",
       "      <td>Puma</td>\n",
       "      <td>Men Deviate Nitro Running Shoe</td>\n",
       "      <td>Rs. 8249Rs. 14999(45% OFF)</td>\n",
       "    </tr>\n",
       "    <tr>\n",
       "      <th>4</th>\n",
       "      <td>Nike</td>\n",
       "      <td>Men Waffle One SE Sneakers</td>\n",
       "      <td>Rs. 8295</td>\n",
       "    </tr>\n",
       "    <tr>\n",
       "      <th>...</th>\n",
       "      <td>...</td>\n",
       "      <td>...</td>\n",
       "      <td>...</td>\n",
       "    </tr>\n",
       "    <tr>\n",
       "      <th>95</th>\n",
       "      <td>J.FONTINI</td>\n",
       "      <td>Men Textured Leather Formal Loafers</td>\n",
       "      <td>Rs. 8990</td>\n",
       "    </tr>\n",
       "    <tr>\n",
       "      <th>96</th>\n",
       "      <td>ASICS</td>\n",
       "      <td>Men Black Running Shoes</td>\n",
       "      <td>Rs. 8999Rs. 9999(10% OFF)</td>\n",
       "    </tr>\n",
       "    <tr>\n",
       "      <th>97</th>\n",
       "      <td>DAVINCHI</td>\n",
       "      <td>Men Solid Leather Formal Derbys</td>\n",
       "      <td>Rs. 8990</td>\n",
       "    </tr>\n",
       "    <tr>\n",
       "      <th>98</th>\n",
       "      <td>DAVINCHI</td>\n",
       "      <td>Men Textured Formal Leather Loafers</td>\n",
       "      <td>Rs. 8990</td>\n",
       "    </tr>\n",
       "    <tr>\n",
       "      <th>99</th>\n",
       "      <td>DAVINCHI</td>\n",
       "      <td>Men Textured Formal Leather Oxfords</td>\n",
       "      <td>Rs. 7990</td>\n",
       "    </tr>\n",
       "  </tbody>\n",
       "</table>\n",
       "<p>100 rows × 3 columns</p>\n",
       "</div>"
      ],
      "text/plain": [
       "        Brand                          Description  \\\n",
       "0       ASICS              Men GEL-KAYANO 27 Shoes   \n",
       "1      ADIDAS                  Women Running Shoes   \n",
       "2        Puma                    Men Running Shoes   \n",
       "3        Puma       Men Deviate Nitro Running Shoe   \n",
       "4        Nike           Men Waffle One SE Sneakers   \n",
       "..        ...                                  ...   \n",
       "95  J.FONTINI  Men Textured Leather Formal Loafers   \n",
       "96      ASICS              Men Black Running Shoes   \n",
       "97   DAVINCHI      Men Solid Leather Formal Derbys   \n",
       "98   DAVINCHI  Men Textured Formal Leather Loafers   \n",
       "99   DAVINCHI  Men Textured Formal Leather Oxfords   \n",
       "\n",
       "                          Price  \n",
       "0   Rs. 10499Rs. 14999(30% OFF)  \n",
       "1                      Rs. 7599  \n",
       "2    Rs. 6499Rs. 12999(50% OFF)  \n",
       "3    Rs. 8249Rs. 14999(45% OFF)  \n",
       "4                      Rs. 8295  \n",
       "..                          ...  \n",
       "95                     Rs. 8990  \n",
       "96    Rs. 8999Rs. 9999(10% OFF)  \n",
       "97                     Rs. 8990  \n",
       "98                     Rs. 8990  \n",
       "99                     Rs. 7990  \n",
       "\n",
       "[100 rows x 3 columns]"
      ]
     },
     "execution_count": 323,
     "metadata": {},
     "output_type": "execute_result"
    }
   ],
   "source": [
    "# Displaying the data frame\n",
    "myntra_shoe"
   ]
  },
  {
   "cell_type": "code",
   "execution_count": 324,
   "id": "122085b8",
   "metadata": {},
   "outputs": [
    {
     "data": {
      "text/html": [
       "<div>\n",
       "<style scoped>\n",
       "    .dataframe tbody tr th:only-of-type {\n",
       "        vertical-align: middle;\n",
       "    }\n",
       "\n",
       "    .dataframe tbody tr th {\n",
       "        vertical-align: top;\n",
       "    }\n",
       "\n",
       "    .dataframe thead th {\n",
       "        text-align: right;\n",
       "    }\n",
       "</style>\n",
       "<table border=\"1\" class=\"dataframe\">\n",
       "  <thead>\n",
       "    <tr style=\"text-align: right;\">\n",
       "      <th></th>\n",
       "      <th>Brand</th>\n",
       "      <th>Description</th>\n",
       "      <th>Price</th>\n",
       "    </tr>\n",
       "  </thead>\n",
       "  <tbody>\n",
       "    <tr>\n",
       "      <th>0</th>\n",
       "      <td>ASICS</td>\n",
       "      <td>Men GEL-KAYANO 27 Shoes</td>\n",
       "      <td>10499</td>\n",
       "    </tr>\n",
       "    <tr>\n",
       "      <th>1</th>\n",
       "      <td>ADIDAS</td>\n",
       "      <td>Women Running Shoes</td>\n",
       "      <td>7599</td>\n",
       "    </tr>\n",
       "    <tr>\n",
       "      <th>2</th>\n",
       "      <td>Puma</td>\n",
       "      <td>Men Running Shoes</td>\n",
       "      <td>6499</td>\n",
       "    </tr>\n",
       "    <tr>\n",
       "      <th>3</th>\n",
       "      <td>Puma</td>\n",
       "      <td>Men Deviate Nitro Running Shoe</td>\n",
       "      <td>8249</td>\n",
       "    </tr>\n",
       "    <tr>\n",
       "      <th>4</th>\n",
       "      <td>Nike</td>\n",
       "      <td>Men Waffle One SE Sneakers</td>\n",
       "      <td>8295</td>\n",
       "    </tr>\n",
       "    <tr>\n",
       "      <th>...</th>\n",
       "      <td>...</td>\n",
       "      <td>...</td>\n",
       "      <td>...</td>\n",
       "    </tr>\n",
       "    <tr>\n",
       "      <th>95</th>\n",
       "      <td>J.FONTINI</td>\n",
       "      <td>Men Textured Leather Formal Loafers</td>\n",
       "      <td>8990</td>\n",
       "    </tr>\n",
       "    <tr>\n",
       "      <th>96</th>\n",
       "      <td>ASICS</td>\n",
       "      <td>Men Black Running Shoes</td>\n",
       "      <td>8999</td>\n",
       "    </tr>\n",
       "    <tr>\n",
       "      <th>97</th>\n",
       "      <td>DAVINCHI</td>\n",
       "      <td>Men Solid Leather Formal Derbys</td>\n",
       "      <td>8990</td>\n",
       "    </tr>\n",
       "    <tr>\n",
       "      <th>98</th>\n",
       "      <td>DAVINCHI</td>\n",
       "      <td>Men Textured Formal Leather Loafers</td>\n",
       "      <td>8990</td>\n",
       "    </tr>\n",
       "    <tr>\n",
       "      <th>99</th>\n",
       "      <td>DAVINCHI</td>\n",
       "      <td>Men Textured Formal Leather Oxfords</td>\n",
       "      <td>7990</td>\n",
       "    </tr>\n",
       "  </tbody>\n",
       "</table>\n",
       "<p>100 rows × 3 columns</p>\n",
       "</div>"
      ],
      "text/plain": [
       "        Brand                          Description  Price\n",
       "0       ASICS              Men GEL-KAYANO 27 Shoes  10499\n",
       "1      ADIDAS                  Women Running Shoes   7599\n",
       "2        Puma                    Men Running Shoes   6499\n",
       "3        Puma       Men Deviate Nitro Running Shoe   8249\n",
       "4        Nike           Men Waffle One SE Sneakers   8295\n",
       "..        ...                                  ...    ...\n",
       "95  J.FONTINI  Men Textured Leather Formal Loafers   8990\n",
       "96      ASICS              Men Black Running Shoes   8999\n",
       "97   DAVINCHI      Men Solid Leather Formal Derbys   8990\n",
       "98   DAVINCHI  Men Textured Formal Leather Loafers   8990\n",
       "99   DAVINCHI  Men Textured Formal Leather Oxfords   7990\n",
       "\n",
       "[100 rows x 3 columns]"
      ]
     },
     "execution_count": 324,
     "metadata": {},
     "output_type": "execute_result"
    }
   ],
   "source": [
    "# Removing extra value from 'Price' column except price of product\n",
    "myntra_shoe['Price'] = myntra_shoe['Price'].str.partition(' ')[2].str.partition('R')[0]\n",
    "\n",
    "# Displaying final data frame\n",
    "myntra_shoe"
   ]
  },
  {
   "cell_type": "code",
   "execution_count": 325,
   "id": "c0a4096e",
   "metadata": {},
   "outputs": [],
   "source": [
    "# Closing the current driver\n",
    "driver.close()"
   ]
  },
  {
   "cell_type": "markdown",
   "id": "cc561be2",
   "metadata": {},
   "source": [
    "### Q.8 Scrape first 10 laptops data from https://www.amazon.in/. By set CPU Type filter to “Intel Core i7” and “Intel Core i9”.scrape 3 attributes for each laptop:\n",
    "1. Title\n",
    "2. Ratings\n",
    "3. Price"
   ]
  },
  {
   "cell_type": "markdown",
   "id": "0d290aec",
   "metadata": {},
   "source": [
    "### Part (1) for Intel Core i7"
   ]
  },
  {
   "cell_type": "code",
   "execution_count": 73,
   "id": "68fb5aad",
   "metadata": {},
   "outputs": [],
   "source": [
    "# Connecting with web driver\n",
    "driver = webdriver.Chrome(r'E:/DATA TRAINED/Sofrware/chromedriver_win32/chromedriver.exe')"
   ]
  },
  {
   "cell_type": "code",
   "execution_count": 74,
   "id": "0e9442e3",
   "metadata": {},
   "outputs": [],
   "source": [
    "# Open url by web driver\n",
    "driver.get('https://www.amazon.in/')"
   ]
  },
  {
   "cell_type": "code",
   "execution_count": 75,
   "id": "f76b989b",
   "metadata": {},
   "outputs": [],
   "source": [
    "# Entering 'laptop' as an product to be searched in search field\n",
    "amazon_search_button = driver.find_element_by_xpath(\"//input[@id='twotabsearchtextbox']\")\n",
    "amazon_search_button.send_keys('laptop')"
   ]
  },
  {
   "cell_type": "code",
   "execution_count": 76,
   "id": "d423f3a4",
   "metadata": {},
   "outputs": [],
   "source": [
    "# Clicking the search icon\n",
    "amazon_search = driver.find_element_by_xpath(\"//input[@id='nav-search-submit-button']\")\n",
    "amazon_search.click()"
   ]
  },
  {
   "cell_type": "code",
   "execution_count": 77,
   "id": "286a869d",
   "metadata": {},
   "outputs": [],
   "source": [
    "# Setting filter 'Intel Core i7'\n",
    "driver.find_element_by_xpath(\"//li[@id='p_n_feature_thirteen_browse-bin/12598163031']/span[1]/a[1]/div[1]/label[1]/i[1]\").click()"
   ]
  },
  {
   "cell_type": "code",
   "execution_count": 78,
   "id": "e220bd72",
   "metadata": {},
   "outputs": [],
   "source": [
    "# Creating empty list\n",
    "laptop_title = []\n",
    "laptop_price = []\n",
    "laptop_rating = []"
   ]
  },
  {
   "cell_type": "code",
   "execution_count": 79,
   "id": "7c2450ed",
   "metadata": {},
   "outputs": [],
   "source": [
    "amazon_url = []\n",
    "for i in driver.find_elements_by_xpath(\"//a[@class='a-link-normal a-text-normal']\"):\n",
    "    amazon_url.append(i.get_attribute(\"href\"))"
   ]
  },
  {
   "cell_type": "code",
   "execution_count": 80,
   "id": "8cc019d9",
   "metadata": {},
   "outputs": [
    {
     "name": "stdout",
     "output_type": "stream",
     "text": [
      "30\n"
     ]
    }
   ],
   "source": [
    "print(len(amazon_url))"
   ]
  },
  {
   "cell_type": "code",
   "execution_count": 81,
   "id": "f7bf299c",
   "metadata": {},
   "outputs": [],
   "source": [
    "for i in amazon_url:\n",
    "    driver.get(i)\n",
    "    time.sleep(2)\n",
    "    \n",
    "  # Scraping the data for title\n",
    "    try:\n",
    "        am_title = driver.find_element_by_xpath(\"//h1[@id='title']/span\")\n",
    "        laptop_title.append(am_title.text)\n",
    "    except:\n",
    "        laptop_title.append('-')\n",
    "        \n",
    "  # Scraping the data for price\n",
    "    try:\n",
    "        am_price = driver.find_element_by_xpath(\"//td[@class='a-span12']\")\n",
    "        laptop_price.append(am_price.text)\n",
    "    except:\n",
    "        laptop_price.append('-')\n",
    "        \n",
    "  # Scraping the data for rating\n",
    "    try:\n",
    "        rating = driver.find_element_by_xpath(\"//span[@class='a-size-base a-nowrap']\")\n",
    "        laptop_rating.append(rating.text)\n",
    "    except:\n",
    "        laptop_rating.append('-')"
   ]
  },
  {
   "cell_type": "code",
   "execution_count": 82,
   "id": "c4bd3643",
   "metadata": {},
   "outputs": [
    {
     "data": {
      "text/plain": [
       "['Lenovo ThinkBook Yoga 14s Intel Core i7 11th Gen 14\"(35.56cm) FHD IPS 300 nits 100% sRGB Dolby Vision 2-in-1 Touchscreen Laptop (16GB RAM/512GB SSD/Windows 10/MS Office/Active Pen/1.50 kg) 20WEA01EIH',\n",
       " 'Fujitsu UH-X 11th Gen Intel i7 Core 13.3 inches FHD IPS 400Nits Thin and Light Business Laptop (16GB/512GB SSD/Windows 10/Office/Iris Xe Graphics/Backlit Kb/ Fingerprint Reader/Black/0.878kg), 4ZR1D67596',\n",
       " 'Mi Notebook Ultra 3.2K resolution display Intel Core i7-11370H 11th Gen 15.6-inch(39.62 cm) Thin and Light laptop (16GB/512GB SSD/Iris Xe Graphics/Win 10/MS Office/Backlit KB/Fingerprint sensor/1.7Kg)',\n",
       " 'Mi Notebook Horizon Edition 14 Intel Core i7-10510U 10th Gen Thin and Light Laptop(8GB/512GB SSD/Windows 10/Nvidia MX350 2GB Graphics/Grey/1.35Kg)(Without Webcam) XMA1904-AF',\n",
       " 'HP Pavilion (2021) Intel 11th Gen Core i7 14 inches FHD Screen Thin & Light Laptop, 16 GB RAM, 1TB SSD, Iris Xe Graphics, Windows 10, MS Office, Backlit Keyboard, 1.41kg (14-dv0058TU)',\n",
       " 'ASUS TUF Dash F15 (2021) 15.6-inch (39.62 cms) FHD 144Hz, Intel Core i7-11370H 11th Gen, RTX 3060 6GB Graphics, Gaming Laptop (16GB/512GB SSD/Office 2019/Windows 10/Gray/2 Kg), FX516PM-HN175TS',\n",
       " 'Lenovo Yoga 7 11th Gen Intel Core i7 14\" Full HD IPS 2-in-1 Touchscreen Laptop (16GB/512GB SSD/Windows 10/MS Office 2019/Lenovo Digital Pen/Slate Grey/Aluminium Surface/1.43Kg), 82BH00E0IN',\n",
       " 'Mi Notebook Pro QHD+ IPS Anti Glare Display Intel Core i7-11370H 11th Gen 14-inch(35.56 cms) Thin and Light Laptop (16GB/512GB SSD/Iris Xe Graphics/Win 10/Backlit KB/Fingerprint Sensor/1.4 Kg)',\n",
       " 'LG Gram 17-inches Ultra-Light Intel Evo 11th Gen Core i7,16 GB RAM, 512 GB SSD, New Win-11 Preload, Iris Xe Graphics, USC -C x 2 (with Power), 1.35 kg, 3 Yr Warranty (17Z90P-G.AH85A2, Black)',\n",
       " 'Lenovo IdeaPad Gaming 3 11th Gen Intel Core i7-11370H 15.6\" (39.63cm) FHD IPS Gaming Laptop (8GB/512GB SSD/Windows 10/NVIDIA RTX 3050 4GB/120Hz Refresh Display/Shadow Black/2.25Kg), 82K1004EIN',\n",
       " 'ASUS TUF Dash F15 (2021) 15.6\" (39.62 cm) FHD 240Hz/3ms, Intel Core i7-11370H, GeForce RTX 3060 6GB Graphics, Gaming Laptop (16GB RAM/1TB SSD/Office 2019/Windows 10 Home/Gray/2 Kg) FX516PM-AZ153TS',\n",
       " 'Dell 14 (2021) Inspiron 5410 Intel i7-1165G7 14 inches 16Gb RAM, 512Gb SSD, FHD Display, Windows 10 + MSO, Backlit KB + FPR + Active Pen, 2in1 Touch Screen Laptop - Silver Metal, 1.5 kg, D560469WIN9S',\n",
       " 'MSI GF75 Thin, Intel i7-10750H, 17.3\" (43.9 cm) FHD IPS-Level 144Hz Panel Laptop (8GB/512GB NVMe SSD/Windows 10 Home/Nvidia GTX1650 4GB GDDR6/Black/2.2Kg), 10SCXR-654IN',\n",
       " 'ASUS TUF Dash F15 (2021), 15.6-inch (39.62 cms) FHD 144Hz, Intel Core i7-11370H 11th Gen, RTX 3050 4GB Graphics Gaming Laptop (16GB RAM/512GB SSD/Windows 10/White/2 kg), FX516PC-HN062T',\n",
       " 'HP Pavilion 13, 11th Gen Intel Core i7, 13.3-inch(33.8 cm) FHD,IPS, Micro-Edge Laptop (16GB RAM/ 1TB SSD/ Win 10/ FPR/Audio B&O/Alexa Built-in/MS Office/ Ceramic White/ 1.24 Kg) -13-bb0078TU',\n",
       " '(Renewed) HP Laptop Zbook Studio Ultraslim 2.1KG Intel Core i7-6820HQ Processor , 32 GB Ram & 512 GB SSD, 15.6 Inches with Nvidia 8GB Graphics with HD Screen Computer',\n",
       " 'Acer Swift 5 Intel i7 11th Gen 14 inches Ultra Thin and Light Business Laptop (16GB RAM/1TB SSD/Windows 10 Home/Iris Xe Graphics 5 Full HD IPS Display with Touchscreen, Mist Green, 1.05 kg) SF514-55TA',\n",
       " 'Lenovo ThinkBook Yoga 14s Intel Core i7 11th Gen 14\"(35.56cm) FHD IPS 300 nits 100% sRGB Dolby Vision 2-in-1 Touchscreen Laptop (16GB RAM/512GB SSD/Windows 10/MS Office/Active Pen/1.50 kg) 20WEA01EIH',\n",
       " 'Fujitsu UH-X 11th Gen Intel i7 Core 13.3 inches FHD IPS 400Nits Thin and Light Business Laptop (16GB/512GB SSD/Windows 10/Office/Iris Xe Graphics/Backlit Kb/ Fingerprint Reader/Black/0.878kg), 4ZR1D67596',\n",
       " 'Acer Nitro 5 AN515-57 Gaming Laptop | Intel Core i7-11800H |NVIDIA GeForce RTX 3050 Ti Laptop Graphics |15.6\" FHD 144Hz IPS Display |16GB DDR4 |256GB SSD+1TB HDD |Killer Wi-Fi 6 |RGB Backlit Keyboard',\n",
       " 'LG Gram 16-inches Ultra-Light Intel Evo 11th Gen Core i7,16 GB RAM, 512 GB SSD, New Win-11 Preload, Iris Xe Graphics, USC -C x 2 (with Power), 1.19 kg, 3 Yr Warranty (16Z90P-G.AH85A2, Black)',\n",
       " \"Dell Inspiron G3 3500 15.6'' FHD 120Hz Display Gaming Laptop (i7-10750H /16 GB /1TB+256 SSD / NVIDIA GTX 1650 Ti 4GB Graphics /1Yr Premium Warranty /Win 10) D560256WIN9BL\",\n",
       " 'ASUS TUF Gaming F15 (2021), 15.6-inch (39.62 cms) FHD 144Hz, Intel Core i7-11800H 11th Gen, GeForce RTX 3050 4GB Graphics, Gaming Laptop (8GB/512GB SSD/Windows 10/Eclipse Gray/2.3 Kg), FX566HC-HN093T',\n",
       " 'ASUS VivoBook 14 (2021), 14-inch (35.56 cms) FHD, Intel Core i7-1065G7 10th Gen, Thin and Light Laptop (16GB/512GB SSD/Integrated Graphics/Office 2021/Windows 11/Silver/1.6 Kg), X415JA-EK701WS',\n",
       " 'Dell XPS 15 (2021) i7-11800H Touch Screen Laptop / 32GB / 1TB SSD/ NVIDIA RTX 3050 Ti 4GB GDDR6 / Win 10 + MSO / 15.6\" UHD+ AR 500 nits / Backlit KB + FPR / Platinum Silver (XPS 9510, D560055WIN9S)',\n",
       " 'Lenovo IdeaPad Flex 5 11th Gen Intel Core i7 14\" FHD 2-in-1 Convertible Laptop (16 GB/512GB SDD/Windows 11/MS Office 2021/Backlit Keyboard /Graphite Grey/1.5Kg), 82HS00W4IN',\n",
       " 'Lenovo Yoga 7 11th Gen Intel Core i7 14\"(35.56cm) FHD IPS 2-in-1 Touchscreen Convertible Laptop(16GB/512GB SSD/Windows 11/Office 2021/Lenovo Digital Pen/Slate Grey/Aluminium Surface/1.43Kg),82BH00HWIN',\n",
       " '(Renewed) Dell Intel Core i7 7th Gen 14.Inch(35.6 cms) (1920 x 1080)FHD TOUCHSCREEN Laptop (16GB RAM/512GB SSD/Windows 10 Pro/MS Office/ Intel HD Integrated Graphics/1.18Kg,Black) Latitude E7480',\n",
       " 'Acer Nitro 5 AN515-57 Gaming Laptop | Intel Core i7-11800H |NVIDIA GeForce RTX 3050 Laptop Graphics |15.6\" FHD 144Hz IPS Display |8GB DDR4 | 256GB SSD+1TB HDD | Killer Wi-Fi 6 | RGB Backlit Keyboard',\n",
       " 'LG Gram 16 Ultra-Light Intel Evo 11th Gen Core i7,16 GB RAM, 512 GB SSD, Win-10, Iris Xe Graphics, 16-inches (40.64 cms), Thunderbolt 4, USC -C x 2 (with Power), 1.19 kg, 3 Yr Warranty (16Z90P, Black)']"
      ]
     },
     "execution_count": 82,
     "metadata": {},
     "output_type": "execute_result"
    }
   ],
   "source": [
    "laptop_title"
   ]
  },
  {
   "cell_type": "code",
   "execution_count": 83,
   "id": "f52899a1",
   "metadata": {},
   "outputs": [
    {
     "data": {
      "text/plain": [
       "['₹89,990.00',\n",
       " '₹92,990.00',\n",
       " '₹77,999.00',\n",
       " '₹52,999.00',\n",
       " '₹84,990.00',\n",
       " '₹1,09,990.00',\n",
       " '₹97,557.00',\n",
       " '₹73,999.00',\n",
       " '₹98,999.00',\n",
       " '₹82,990.00',\n",
       " '₹1,28,990.00',\n",
       " '₹94,800.00',\n",
       " '₹72,990.00',\n",
       " '₹95,990.00',\n",
       " '₹87,799.00',\n",
       " '₹1,04,240.00',\n",
       " '₹91,990.00',\n",
       " '₹89,990.00',\n",
       " '₹92,990.00',\n",
       " '₹89,990.00',\n",
       " '₹91,999.00',\n",
       " '₹1,29,990.00',\n",
       " '₹96,990.00',\n",
       " '₹64,990.00',\n",
       " '₹2,89,999.00',\n",
       " '₹88,990.00',\n",
       " '₹99,990.00',\n",
       " '₹59,999.00',\n",
       " '₹88,990.00',\n",
       " '₹94,499.00']"
      ]
     },
     "execution_count": 83,
     "metadata": {},
     "output_type": "execute_result"
    }
   ],
   "source": [
    "laptop_price"
   ]
  },
  {
   "cell_type": "code",
   "execution_count": 84,
   "id": "cec57d55",
   "metadata": {},
   "outputs": [
    {
     "data": {
      "text/plain": [
       "['3.6 out of 5',\n",
       " '4.3 out of 5',\n",
       " '4.3 out of 5',\n",
       " '4.2 out of 5',\n",
       " '4.3 out of 5',\n",
       " '4.3 out of 5',\n",
       " '4.3 out of 5',\n",
       " '4.3 out of 5',\n",
       " '4.5 out of 5',\n",
       " '4.9 out of 5',\n",
       " '4.2 out of 5',\n",
       " '4.1 out of 5',\n",
       " '4.4 out of 5',\n",
       " '4.2 out of 5',\n",
       " '4.6 out of 5',\n",
       " '-',\n",
       " '3.6 out of 5',\n",
       " '3.6 out of 5',\n",
       " '4.3 out of 5',\n",
       " '4 out of 5',\n",
       " '4.2 out of 5',\n",
       " '-',\n",
       " '4.8 out of 5',\n",
       " '-',\n",
       " '-',\n",
       " '4.1 out of 5',\n",
       " '4.1 out of 5',\n",
       " '-',\n",
       " '4.1 out of 5',\n",
       " '4.2 out of 5']"
      ]
     },
     "execution_count": 84,
     "metadata": {},
     "output_type": "execute_result"
    }
   ],
   "source": [
    "laptop_rating"
   ]
  },
  {
   "cell_type": "code",
   "execution_count": 85,
   "id": "72162bc6",
   "metadata": {},
   "outputs": [],
   "source": [
    "# Creating the data frame\n",
    "laptop_i7 = pd.DataFrame({})\n",
    "laptop_i7['Product_Title'] = laptop_title\n",
    "laptop_i7['Product_Price'] = laptop_price\n",
    "laptop_i7['Product_Rating'] = laptop_rating"
   ]
  },
  {
   "cell_type": "code",
   "execution_count": 86,
   "id": "b26ab726",
   "metadata": {},
   "outputs": [
    {
     "data": {
      "text/html": [
       "<div>\n",
       "<style scoped>\n",
       "    .dataframe tbody tr th:only-of-type {\n",
       "        vertical-align: middle;\n",
       "    }\n",
       "\n",
       "    .dataframe tbody tr th {\n",
       "        vertical-align: top;\n",
       "    }\n",
       "\n",
       "    .dataframe thead th {\n",
       "        text-align: right;\n",
       "    }\n",
       "</style>\n",
       "<table border=\"1\" class=\"dataframe\">\n",
       "  <thead>\n",
       "    <tr style=\"text-align: right;\">\n",
       "      <th></th>\n",
       "      <th>Product_Title</th>\n",
       "      <th>Product_Price</th>\n",
       "      <th>Product_Rating</th>\n",
       "    </tr>\n",
       "  </thead>\n",
       "  <tbody>\n",
       "    <tr>\n",
       "      <th>0</th>\n",
       "      <td>Lenovo ThinkBook Yoga 14s Intel Core i7 11th G...</td>\n",
       "      <td>₹89,990.00</td>\n",
       "      <td>3.6 out of 5</td>\n",
       "    </tr>\n",
       "    <tr>\n",
       "      <th>1</th>\n",
       "      <td>Fujitsu UH-X 11th Gen Intel i7 Core 13.3 inche...</td>\n",
       "      <td>₹92,990.00</td>\n",
       "      <td>4.3 out of 5</td>\n",
       "    </tr>\n",
       "    <tr>\n",
       "      <th>2</th>\n",
       "      <td>Mi Notebook Ultra 3.2K resolution display Inte...</td>\n",
       "      <td>₹77,999.00</td>\n",
       "      <td>4.3 out of 5</td>\n",
       "    </tr>\n",
       "    <tr>\n",
       "      <th>3</th>\n",
       "      <td>Mi Notebook Horizon Edition 14 Intel Core i7-1...</td>\n",
       "      <td>₹52,999.00</td>\n",
       "      <td>4.2 out of 5</td>\n",
       "    </tr>\n",
       "    <tr>\n",
       "      <th>4</th>\n",
       "      <td>HP Pavilion (2021) Intel 11th Gen Core i7 14 i...</td>\n",
       "      <td>₹84,990.00</td>\n",
       "      <td>4.3 out of 5</td>\n",
       "    </tr>\n",
       "    <tr>\n",
       "      <th>5</th>\n",
       "      <td>ASUS TUF Dash F15 (2021) 15.6-inch (39.62 cms)...</td>\n",
       "      <td>₹1,09,990.00</td>\n",
       "      <td>4.3 out of 5</td>\n",
       "    </tr>\n",
       "    <tr>\n",
       "      <th>6</th>\n",
       "      <td>Lenovo Yoga 7 11th Gen Intel Core i7 14\" Full ...</td>\n",
       "      <td>₹97,557.00</td>\n",
       "      <td>4.3 out of 5</td>\n",
       "    </tr>\n",
       "    <tr>\n",
       "      <th>7</th>\n",
       "      <td>Mi Notebook Pro QHD+ IPS Anti Glare Display In...</td>\n",
       "      <td>₹73,999.00</td>\n",
       "      <td>4.3 out of 5</td>\n",
       "    </tr>\n",
       "    <tr>\n",
       "      <th>8</th>\n",
       "      <td>LG Gram 17-inches Ultra-Light Intel Evo 11th G...</td>\n",
       "      <td>₹98,999.00</td>\n",
       "      <td>4.5 out of 5</td>\n",
       "    </tr>\n",
       "    <tr>\n",
       "      <th>9</th>\n",
       "      <td>Lenovo IdeaPad Gaming 3 11th Gen Intel Core i7...</td>\n",
       "      <td>₹82,990.00</td>\n",
       "      <td>4.9 out of 5</td>\n",
       "    </tr>\n",
       "    <tr>\n",
       "      <th>10</th>\n",
       "      <td>ASUS TUF Dash F15 (2021) 15.6\" (39.62 cm) FHD ...</td>\n",
       "      <td>₹1,28,990.00</td>\n",
       "      <td>4.2 out of 5</td>\n",
       "    </tr>\n",
       "    <tr>\n",
       "      <th>11</th>\n",
       "      <td>Dell 14 (2021) Inspiron 5410 Intel i7-1165G7 1...</td>\n",
       "      <td>₹94,800.00</td>\n",
       "      <td>4.1 out of 5</td>\n",
       "    </tr>\n",
       "    <tr>\n",
       "      <th>12</th>\n",
       "      <td>MSI GF75 Thin, Intel i7-10750H, 17.3\" (43.9 cm...</td>\n",
       "      <td>₹72,990.00</td>\n",
       "      <td>4.4 out of 5</td>\n",
       "    </tr>\n",
       "    <tr>\n",
       "      <th>13</th>\n",
       "      <td>ASUS TUF Dash F15 (2021), 15.6-inch (39.62 cms...</td>\n",
       "      <td>₹95,990.00</td>\n",
       "      <td>4.2 out of 5</td>\n",
       "    </tr>\n",
       "    <tr>\n",
       "      <th>14</th>\n",
       "      <td>HP Pavilion 13, 11th Gen Intel Core i7, 13.3-i...</td>\n",
       "      <td>₹87,799.00</td>\n",
       "      <td>4.6 out of 5</td>\n",
       "    </tr>\n",
       "    <tr>\n",
       "      <th>15</th>\n",
       "      <td>(Renewed) HP Laptop Zbook Studio Ultraslim 2.1...</td>\n",
       "      <td>₹1,04,240.00</td>\n",
       "      <td>-</td>\n",
       "    </tr>\n",
       "    <tr>\n",
       "      <th>16</th>\n",
       "      <td>Acer Swift 5 Intel i7 11th Gen 14 inches Ultra...</td>\n",
       "      <td>₹91,990.00</td>\n",
       "      <td>3.6 out of 5</td>\n",
       "    </tr>\n",
       "    <tr>\n",
       "      <th>17</th>\n",
       "      <td>Lenovo ThinkBook Yoga 14s Intel Core i7 11th G...</td>\n",
       "      <td>₹89,990.00</td>\n",
       "      <td>3.6 out of 5</td>\n",
       "    </tr>\n",
       "    <tr>\n",
       "      <th>18</th>\n",
       "      <td>Fujitsu UH-X 11th Gen Intel i7 Core 13.3 inche...</td>\n",
       "      <td>₹92,990.00</td>\n",
       "      <td>4.3 out of 5</td>\n",
       "    </tr>\n",
       "    <tr>\n",
       "      <th>19</th>\n",
       "      <td>Acer Nitro 5 AN515-57 Gaming Laptop | Intel Co...</td>\n",
       "      <td>₹89,990.00</td>\n",
       "      <td>4 out of 5</td>\n",
       "    </tr>\n",
       "    <tr>\n",
       "      <th>20</th>\n",
       "      <td>LG Gram 16-inches Ultra-Light Intel Evo 11th G...</td>\n",
       "      <td>₹91,999.00</td>\n",
       "      <td>4.2 out of 5</td>\n",
       "    </tr>\n",
       "    <tr>\n",
       "      <th>21</th>\n",
       "      <td>Dell Inspiron G3 3500 15.6'' FHD 120Hz Display...</td>\n",
       "      <td>₹1,29,990.00</td>\n",
       "      <td>-</td>\n",
       "    </tr>\n",
       "    <tr>\n",
       "      <th>22</th>\n",
       "      <td>ASUS TUF Gaming F15 (2021), 15.6-inch (39.62 c...</td>\n",
       "      <td>₹96,990.00</td>\n",
       "      <td>4.8 out of 5</td>\n",
       "    </tr>\n",
       "    <tr>\n",
       "      <th>23</th>\n",
       "      <td>ASUS VivoBook 14 (2021), 14-inch (35.56 cms) F...</td>\n",
       "      <td>₹64,990.00</td>\n",
       "      <td>-</td>\n",
       "    </tr>\n",
       "    <tr>\n",
       "      <th>24</th>\n",
       "      <td>Dell XPS 15 (2021) i7-11800H Touch Screen Lapt...</td>\n",
       "      <td>₹2,89,999.00</td>\n",
       "      <td>-</td>\n",
       "    </tr>\n",
       "    <tr>\n",
       "      <th>25</th>\n",
       "      <td>Lenovo IdeaPad Flex 5 11th Gen Intel Core i7 1...</td>\n",
       "      <td>₹88,990.00</td>\n",
       "      <td>4.1 out of 5</td>\n",
       "    </tr>\n",
       "    <tr>\n",
       "      <th>26</th>\n",
       "      <td>Lenovo Yoga 7 11th Gen Intel Core i7 14\"(35.56...</td>\n",
       "      <td>₹99,990.00</td>\n",
       "      <td>4.1 out of 5</td>\n",
       "    </tr>\n",
       "    <tr>\n",
       "      <th>27</th>\n",
       "      <td>(Renewed) Dell Intel Core i7 7th Gen 14.Inch(3...</td>\n",
       "      <td>₹59,999.00</td>\n",
       "      <td>-</td>\n",
       "    </tr>\n",
       "    <tr>\n",
       "      <th>28</th>\n",
       "      <td>Acer Nitro 5 AN515-57 Gaming Laptop | Intel Co...</td>\n",
       "      <td>₹88,990.00</td>\n",
       "      <td>4.1 out of 5</td>\n",
       "    </tr>\n",
       "    <tr>\n",
       "      <th>29</th>\n",
       "      <td>LG Gram 16 Ultra-Light Intel Evo 11th Gen Core...</td>\n",
       "      <td>₹94,499.00</td>\n",
       "      <td>4.2 out of 5</td>\n",
       "    </tr>\n",
       "  </tbody>\n",
       "</table>\n",
       "</div>"
      ],
      "text/plain": [
       "                                        Product_Title Product_Price  \\\n",
       "0   Lenovo ThinkBook Yoga 14s Intel Core i7 11th G...    ₹89,990.00   \n",
       "1   Fujitsu UH-X 11th Gen Intel i7 Core 13.3 inche...    ₹92,990.00   \n",
       "2   Mi Notebook Ultra 3.2K resolution display Inte...    ₹77,999.00   \n",
       "3   Mi Notebook Horizon Edition 14 Intel Core i7-1...    ₹52,999.00   \n",
       "4   HP Pavilion (2021) Intel 11th Gen Core i7 14 i...    ₹84,990.00   \n",
       "5   ASUS TUF Dash F15 (2021) 15.6-inch (39.62 cms)...  ₹1,09,990.00   \n",
       "6   Lenovo Yoga 7 11th Gen Intel Core i7 14\" Full ...    ₹97,557.00   \n",
       "7   Mi Notebook Pro QHD+ IPS Anti Glare Display In...    ₹73,999.00   \n",
       "8   LG Gram 17-inches Ultra-Light Intel Evo 11th G...    ₹98,999.00   \n",
       "9   Lenovo IdeaPad Gaming 3 11th Gen Intel Core i7...    ₹82,990.00   \n",
       "10  ASUS TUF Dash F15 (2021) 15.6\" (39.62 cm) FHD ...  ₹1,28,990.00   \n",
       "11  Dell 14 (2021) Inspiron 5410 Intel i7-1165G7 1...    ₹94,800.00   \n",
       "12  MSI GF75 Thin, Intel i7-10750H, 17.3\" (43.9 cm...    ₹72,990.00   \n",
       "13  ASUS TUF Dash F15 (2021), 15.6-inch (39.62 cms...    ₹95,990.00   \n",
       "14  HP Pavilion 13, 11th Gen Intel Core i7, 13.3-i...    ₹87,799.00   \n",
       "15  (Renewed) HP Laptop Zbook Studio Ultraslim 2.1...  ₹1,04,240.00   \n",
       "16  Acer Swift 5 Intel i7 11th Gen 14 inches Ultra...    ₹91,990.00   \n",
       "17  Lenovo ThinkBook Yoga 14s Intel Core i7 11th G...    ₹89,990.00   \n",
       "18  Fujitsu UH-X 11th Gen Intel i7 Core 13.3 inche...    ₹92,990.00   \n",
       "19  Acer Nitro 5 AN515-57 Gaming Laptop | Intel Co...    ₹89,990.00   \n",
       "20  LG Gram 16-inches Ultra-Light Intel Evo 11th G...    ₹91,999.00   \n",
       "21  Dell Inspiron G3 3500 15.6'' FHD 120Hz Display...  ₹1,29,990.00   \n",
       "22  ASUS TUF Gaming F15 (2021), 15.6-inch (39.62 c...    ₹96,990.00   \n",
       "23  ASUS VivoBook 14 (2021), 14-inch (35.56 cms) F...    ₹64,990.00   \n",
       "24  Dell XPS 15 (2021) i7-11800H Touch Screen Lapt...  ₹2,89,999.00   \n",
       "25  Lenovo IdeaPad Flex 5 11th Gen Intel Core i7 1...    ₹88,990.00   \n",
       "26  Lenovo Yoga 7 11th Gen Intel Core i7 14\"(35.56...    ₹99,990.00   \n",
       "27  (Renewed) Dell Intel Core i7 7th Gen 14.Inch(3...    ₹59,999.00   \n",
       "28  Acer Nitro 5 AN515-57 Gaming Laptop | Intel Co...    ₹88,990.00   \n",
       "29  LG Gram 16 Ultra-Light Intel Evo 11th Gen Core...    ₹94,499.00   \n",
       "\n",
       "   Product_Rating  \n",
       "0    3.6 out of 5  \n",
       "1    4.3 out of 5  \n",
       "2    4.3 out of 5  \n",
       "3    4.2 out of 5  \n",
       "4    4.3 out of 5  \n",
       "5    4.3 out of 5  \n",
       "6    4.3 out of 5  \n",
       "7    4.3 out of 5  \n",
       "8    4.5 out of 5  \n",
       "9    4.9 out of 5  \n",
       "10   4.2 out of 5  \n",
       "11   4.1 out of 5  \n",
       "12   4.4 out of 5  \n",
       "13   4.2 out of 5  \n",
       "14   4.6 out of 5  \n",
       "15              -  \n",
       "16   3.6 out of 5  \n",
       "17   3.6 out of 5  \n",
       "18   4.3 out of 5  \n",
       "19     4 out of 5  \n",
       "20   4.2 out of 5  \n",
       "21              -  \n",
       "22   4.8 out of 5  \n",
       "23              -  \n",
       "24              -  \n",
       "25   4.1 out of 5  \n",
       "26   4.1 out of 5  \n",
       "27              -  \n",
       "28   4.1 out of 5  \n",
       "29   4.2 out of 5  "
      ]
     },
     "execution_count": 86,
     "metadata": {},
     "output_type": "execute_result"
    }
   ],
   "source": [
    "# Displaying the data frame \n",
    "laptop_i7"
   ]
  },
  {
   "cell_type": "code",
   "execution_count": 87,
   "id": "05cfe8e9",
   "metadata": {},
   "outputs": [],
   "source": [
    "# Selecting the data for first 10 laptop\n",
    "laptop_i7 = laptop_i7[0:10]"
   ]
  },
  {
   "cell_type": "code",
   "execution_count": 88,
   "id": "45527ef5",
   "metadata": {},
   "outputs": [
    {
     "data": {
      "text/html": [
       "<div>\n",
       "<style scoped>\n",
       "    .dataframe tbody tr th:only-of-type {\n",
       "        vertical-align: middle;\n",
       "    }\n",
       "\n",
       "    .dataframe tbody tr th {\n",
       "        vertical-align: top;\n",
       "    }\n",
       "\n",
       "    .dataframe thead th {\n",
       "        text-align: right;\n",
       "    }\n",
       "</style>\n",
       "<table border=\"1\" class=\"dataframe\">\n",
       "  <thead>\n",
       "    <tr style=\"text-align: right;\">\n",
       "      <th></th>\n",
       "      <th>Product_Title</th>\n",
       "      <th>Product_Price</th>\n",
       "      <th>Product_Rating</th>\n",
       "    </tr>\n",
       "  </thead>\n",
       "  <tbody>\n",
       "    <tr>\n",
       "      <th>0</th>\n",
       "      <td>Lenovo ThinkBook Yoga 14s Intel Core i7 11th G...</td>\n",
       "      <td>₹89,990.00</td>\n",
       "      <td>3.6 out of 5</td>\n",
       "    </tr>\n",
       "    <tr>\n",
       "      <th>1</th>\n",
       "      <td>Fujitsu UH-X 11th Gen Intel i7 Core 13.3 inche...</td>\n",
       "      <td>₹92,990.00</td>\n",
       "      <td>4.3 out of 5</td>\n",
       "    </tr>\n",
       "    <tr>\n",
       "      <th>2</th>\n",
       "      <td>Mi Notebook Ultra 3.2K resolution display Inte...</td>\n",
       "      <td>₹77,999.00</td>\n",
       "      <td>4.3 out of 5</td>\n",
       "    </tr>\n",
       "    <tr>\n",
       "      <th>3</th>\n",
       "      <td>Mi Notebook Horizon Edition 14 Intel Core i7-1...</td>\n",
       "      <td>₹52,999.00</td>\n",
       "      <td>4.2 out of 5</td>\n",
       "    </tr>\n",
       "    <tr>\n",
       "      <th>4</th>\n",
       "      <td>HP Pavilion (2021) Intel 11th Gen Core i7 14 i...</td>\n",
       "      <td>₹84,990.00</td>\n",
       "      <td>4.3 out of 5</td>\n",
       "    </tr>\n",
       "    <tr>\n",
       "      <th>5</th>\n",
       "      <td>ASUS TUF Dash F15 (2021) 15.6-inch (39.62 cms)...</td>\n",
       "      <td>₹1,09,990.00</td>\n",
       "      <td>4.3 out of 5</td>\n",
       "    </tr>\n",
       "    <tr>\n",
       "      <th>6</th>\n",
       "      <td>Lenovo Yoga 7 11th Gen Intel Core i7 14\" Full ...</td>\n",
       "      <td>₹97,557.00</td>\n",
       "      <td>4.3 out of 5</td>\n",
       "    </tr>\n",
       "    <tr>\n",
       "      <th>7</th>\n",
       "      <td>Mi Notebook Pro QHD+ IPS Anti Glare Display In...</td>\n",
       "      <td>₹73,999.00</td>\n",
       "      <td>4.3 out of 5</td>\n",
       "    </tr>\n",
       "    <tr>\n",
       "      <th>8</th>\n",
       "      <td>LG Gram 17-inches Ultra-Light Intel Evo 11th G...</td>\n",
       "      <td>₹98,999.00</td>\n",
       "      <td>4.5 out of 5</td>\n",
       "    </tr>\n",
       "    <tr>\n",
       "      <th>9</th>\n",
       "      <td>Lenovo IdeaPad Gaming 3 11th Gen Intel Core i7...</td>\n",
       "      <td>₹82,990.00</td>\n",
       "      <td>4.9 out of 5</td>\n",
       "    </tr>\n",
       "  </tbody>\n",
       "</table>\n",
       "</div>"
      ],
      "text/plain": [
       "                                       Product_Title Product_Price  \\\n",
       "0  Lenovo ThinkBook Yoga 14s Intel Core i7 11th G...    ₹89,990.00   \n",
       "1  Fujitsu UH-X 11th Gen Intel i7 Core 13.3 inche...    ₹92,990.00   \n",
       "2  Mi Notebook Ultra 3.2K resolution display Inte...    ₹77,999.00   \n",
       "3  Mi Notebook Horizon Edition 14 Intel Core i7-1...    ₹52,999.00   \n",
       "4  HP Pavilion (2021) Intel 11th Gen Core i7 14 i...    ₹84,990.00   \n",
       "5  ASUS TUF Dash F15 (2021) 15.6-inch (39.62 cms)...  ₹1,09,990.00   \n",
       "6  Lenovo Yoga 7 11th Gen Intel Core i7 14\" Full ...    ₹97,557.00   \n",
       "7  Mi Notebook Pro QHD+ IPS Anti Glare Display In...    ₹73,999.00   \n",
       "8  LG Gram 17-inches Ultra-Light Intel Evo 11th G...    ₹98,999.00   \n",
       "9  Lenovo IdeaPad Gaming 3 11th Gen Intel Core i7...    ₹82,990.00   \n",
       "\n",
       "  Product_Rating  \n",
       "0   3.6 out of 5  \n",
       "1   4.3 out of 5  \n",
       "2   4.3 out of 5  \n",
       "3   4.2 out of 5  \n",
       "4   4.3 out of 5  \n",
       "5   4.3 out of 5  \n",
       "6   4.3 out of 5  \n",
       "7   4.3 out of 5  \n",
       "8   4.5 out of 5  \n",
       "9   4.9 out of 5  "
      ]
     },
     "execution_count": 88,
     "metadata": {},
     "output_type": "execute_result"
    }
   ],
   "source": [
    "# Displaying the result\n",
    "laptop_i7"
   ]
  },
  {
   "cell_type": "code",
   "execution_count": 89,
   "id": "35c935e1",
   "metadata": {},
   "outputs": [],
   "source": [
    "# Closing the current driver\n",
    "driver.close()"
   ]
  },
  {
   "cell_type": "markdown",
   "id": "286634b6",
   "metadata": {},
   "source": [
    "### Part (2) for Intel Core i9"
   ]
  },
  {
   "cell_type": "code",
   "execution_count": 100,
   "id": "5c0e9c7b",
   "metadata": {},
   "outputs": [],
   "source": [
    "# Connecting with web driver\n",
    "driver = webdriver.Chrome(r'E:/DATA TRAINED/Sofrware/chromedriver_win32/chromedriver.exe')"
   ]
  },
  {
   "cell_type": "code",
   "execution_count": 101,
   "id": "c4dbf6a3",
   "metadata": {},
   "outputs": [],
   "source": [
    "# Open url by web driver\n",
    "driver.get('https://www.amazon.in/')"
   ]
  },
  {
   "cell_type": "code",
   "execution_count": 102,
   "id": "e3ecb7b2",
   "metadata": {},
   "outputs": [],
   "source": [
    "# Entering 'laptop' as an product to be searched in search field\n",
    "amazon_search_button = driver.find_element_by_xpath(\"//input[@id='twotabsearchtextbox']\")\n",
    "amazon_search_button.send_keys('laptop')"
   ]
  },
  {
   "cell_type": "code",
   "execution_count": 103,
   "id": "6b68e3c6",
   "metadata": {},
   "outputs": [],
   "source": [
    "# Clicking the search icon\n",
    "amazon_search = driver.find_element_by_xpath(\"//input[@id='nav-search-submit-button']\")\n",
    "amazon_search.click()"
   ]
  },
  {
   "cell_type": "code",
   "execution_count": 104,
   "id": "212121e7",
   "metadata": {},
   "outputs": [],
   "source": [
    "# Setting filter 'Intel Core i7'\n",
    "filter_button = driver.find_elements_by_xpath(\"//a[@class='a-link-normal s-navigation-item']/span\")\n",
    "for i in filter_button:\n",
    "    if i.text == 'Intel Core i9':\n",
    "        i.click()\n",
    "        break"
   ]
  },
  {
   "cell_type": "code",
   "execution_count": 105,
   "id": "ba419f33",
   "metadata": {},
   "outputs": [],
   "source": [
    "# Creating empty list\n",
    "laptop_title_i9 = []\n",
    "laptop_price_i9 = []\n",
    "laptop_rating_i9 = []"
   ]
  },
  {
   "cell_type": "code",
   "execution_count": 108,
   "id": "e9ba2523",
   "metadata": {},
   "outputs": [],
   "source": [
    "amazon_url_i9 = []\n",
    "for i in driver.find_elements_by_xpath(\"//a[@class='a-link-normal a-text-normal']\"):\n",
    "    amazon_url_i9.append(i.get_attribute(\"href\"))"
   ]
  },
  {
   "cell_type": "code",
   "execution_count": 109,
   "id": "69992ecb",
   "metadata": {},
   "outputs": [
    {
     "name": "stdout",
     "output_type": "stream",
     "text": [
      "11\n"
     ]
    }
   ],
   "source": [
    "print(len(amazon_url_i9))"
   ]
  },
  {
   "cell_type": "code",
   "execution_count": 110,
   "id": "ada89b54",
   "metadata": {},
   "outputs": [],
   "source": [
    "for i in amazon_url_i9:\n",
    "    driver.get(i)\n",
    "    time.sleep(2)\n",
    "    \n",
    "  # Scraping the data for title\n",
    "    try:\n",
    "        am_title_i9 = driver.find_element_by_xpath(\"//h1[@id='title']/span\")\n",
    "        laptop_title_i9.append(am_title_i9.text)\n",
    "    except:\n",
    "        laptop_title_i9.append('-')\n",
    "        \n",
    "  # Scraping the data for price\n",
    "    try:\n",
    "        am_price_i9 = driver.find_element_by_xpath(\"//td[@class='a-span12']\")\n",
    "        laptop_price_i9.append(am_price_i9.text)\n",
    "    except:\n",
    "        laptop_price_i9.append('-')\n",
    "        \n",
    "  # Scraping the data for rating\n",
    "    try:\n",
    "        rating_i9 = driver.find_element_by_xpath(\"//span[@class='a-size-base a-nowrap']\")\n",
    "        laptop_rating_i9.append(rating_i9.text)\n",
    "    except:\n",
    "        laptop_rating_i9.append('-')"
   ]
  },
  {
   "cell_type": "code",
   "execution_count": 111,
   "id": "1fc6b50c",
   "metadata": {},
   "outputs": [
    {
     "data": {
      "text/plain": [
       "['ASUS ROG G703GI-E5148T 17.3\" (43.94 cms) FHD 144Hz/3ms Gaming Laptop (8th Gen Intel Core i9-8950HK/64GB/2TB SSHD + 1.5TB NVMe SSD/Windows 10/GTX 1080 8GB Graphics/4.70 Kg), Aluminum',\n",
       " 'ASUS TUF Gaming F15 (2021), 15.6\" (39.62 cms) FHD 240Hz, Intel Core i9-11900H 11th Gen, GeForce RTX 3060 6GB Graphics, Gaming Laptop(16GB/1TB SSD/Office 2019/Windows 10/Gray/2.3 Kg), FX566HM-AZ096TS',\n",
       " 'ASUS ROG Strix Scar III G531GW 15.6\" FHD 240Hz Gaming Laptop RTX 2070 8GB Graphics (Core i9-9880H 9th Gen/32GB RAM/1TB PCIe SSD/Windows 10/Scar Gunmetal/2.57 Kg), G531GW-AZ113T',\n",
       " 'ASUS TUF Gaming F15 (2021), 15.6-inch (39.62 cms) FHD 240Hz/3ms, Intel Core i9-11900H 11th Gen, RTX 3060 6GB Graphics Gaming Laptop (16GB/1TB SSD/Office 2019/Windows 10/Black/2.3 kg), FX506HM-AZ099TS',\n",
       " 'Lenovo Legion 7 10th Gen Intel Core i9 15.6 inch Full HD Gaming Laptop (16GB/1TB SSD/Windows 10/MS Office 2019/144 Hz/NVIDIA RTX 2080 8GB GDDR6 Graphics/Slate Grey/2.25Kg), 81YU006HIN',\n",
       " 'Dell XPS 7590 39.62 cm (15.6-inch) UHD Display Laptop (9th Gen Core i9-9980HK/32GB/1TB SSD/Win 10 + MS Office/4GB Nvidia Graphics), Abyss Grey',\n",
       " '(Renewed) Dell G7 7500 15.6inch FHD 300 Hz Display Gaming Laptop (10th Gen i9-10885H / 16 GB / 1TB SSD / NVIDIA RTX 2070 8GB Graphics / 1Yr Premium Warranty / Win 10 + MS Office H&S 2019) D560233WIN9B, Black',\n",
       " 'Dell XPS 17 (2021) i9-11900H Touch Screen Laptop / 32GB / 1TB SSD/ NVIDIA RTX 3060 6GB GDDR6 / Win 10 + MS Office/ 17.0\" UHD+ AR 500 nits / Backlit KB + FPR / Platinum Silver (XPS 9710, D560057WIN9S)',\n",
       " 'Dell G7 7500 15.6inch FHD 300 Hz Display Gaming Laptop (10th Gen i9-10885H / 16 GB / 1TB SSD / NVIDIA RTX 2070 8GB Graphics / 1Yr Premium Warranty / Win 10 + MS Office H&S 2019) D560233WIN9B, Black',\n",
       " 'HP ZBOOK Power G8/ Intel core i9-11900H 8 Core/32GB DDR4 3200 RAM/1TB PCIe NVMe TLC SSD /15.6” FHD /Nvidia Quadro T1200 Dedicated Graphics 4GB DDR6 /Windows 10 Pro / 3 Year Warranty',\n",
       " 'Z2 G5 Workstation 700W /Core i9-10900 (2.8GHz 10C) /16GB RAM/512GB SSD+1TB SATA/Nvidia RTX 3070 8GB Graphics/DVDRW/Windows 10 Pro/3 Year Warranty']"
      ]
     },
     "execution_count": 111,
     "metadata": {},
     "output_type": "execute_result"
    }
   ],
   "source": [
    "laptop_title_i9"
   ]
  },
  {
   "cell_type": "code",
   "execution_count": 112,
   "id": "72f5d5bf",
   "metadata": {},
   "outputs": [
    {
     "data": {
      "text/plain": [
       "['₹5,40,946.00',\n",
       " '₹1,52,890.00',\n",
       " '-',\n",
       " '₹1,48,990.00',\n",
       " '₹2,65,999.00',\n",
       " '₹2,01,900.00',\n",
       " '₹2,25,000.00',\n",
       " '₹3,75,000.00',\n",
       " '₹2,07,990.00',\n",
       " '₹2,45,000.00',\n",
       " '₹2,39,000.00']"
      ]
     },
     "execution_count": 112,
     "metadata": {},
     "output_type": "execute_result"
    }
   ],
   "source": [
    "laptop_price_i9"
   ]
  },
  {
   "cell_type": "code",
   "execution_count": 113,
   "id": "36c37696",
   "metadata": {},
   "outputs": [
    {
     "data": {
      "text/plain": [
       "['3.4 out of 5',\n",
       " '4.1 out of 5',\n",
       " '5 out of 5',\n",
       " '3.8 out of 5',\n",
       " '4.4 out of 5',\n",
       " '3.8 out of 5',\n",
       " '-',\n",
       " '-',\n",
       " '4.1 out of 5',\n",
       " '-',\n",
       " '-']"
      ]
     },
     "execution_count": 113,
     "metadata": {},
     "output_type": "execute_result"
    }
   ],
   "source": [
    "laptop_rating_i9"
   ]
  },
  {
   "cell_type": "code",
   "execution_count": 114,
   "id": "82f2d683",
   "metadata": {},
   "outputs": [],
   "source": [
    "# Creating data frame\n",
    "laptop_i9 = pd.DataFrame({})\n",
    "laptop_i9['Product_Title'] = laptop_title_i9\n",
    "laptop_i9['Product_Price'] = laptop_price_i9\n",
    "laptop_i9['Product_Rating'] = laptop_rating_i9"
   ]
  },
  {
   "cell_type": "code",
   "execution_count": 115,
   "id": "2089ad57",
   "metadata": {},
   "outputs": [
    {
     "data": {
      "text/html": [
       "<div>\n",
       "<style scoped>\n",
       "    .dataframe tbody tr th:only-of-type {\n",
       "        vertical-align: middle;\n",
       "    }\n",
       "\n",
       "    .dataframe tbody tr th {\n",
       "        vertical-align: top;\n",
       "    }\n",
       "\n",
       "    .dataframe thead th {\n",
       "        text-align: right;\n",
       "    }\n",
       "</style>\n",
       "<table border=\"1\" class=\"dataframe\">\n",
       "  <thead>\n",
       "    <tr style=\"text-align: right;\">\n",
       "      <th></th>\n",
       "      <th>Product_Title</th>\n",
       "      <th>Product_Price</th>\n",
       "      <th>Product_Rating</th>\n",
       "    </tr>\n",
       "  </thead>\n",
       "  <tbody>\n",
       "    <tr>\n",
       "      <th>0</th>\n",
       "      <td>ASUS ROG G703GI-E5148T 17.3\" (43.94 cms) FHD 1...</td>\n",
       "      <td>₹5,40,946.00</td>\n",
       "      <td>3.4 out of 5</td>\n",
       "    </tr>\n",
       "    <tr>\n",
       "      <th>1</th>\n",
       "      <td>ASUS TUF Gaming F15 (2021), 15.6\" (39.62 cms) ...</td>\n",
       "      <td>₹1,52,890.00</td>\n",
       "      <td>4.1 out of 5</td>\n",
       "    </tr>\n",
       "    <tr>\n",
       "      <th>2</th>\n",
       "      <td>ASUS ROG Strix Scar III G531GW 15.6\" FHD 240Hz...</td>\n",
       "      <td>-</td>\n",
       "      <td>5 out of 5</td>\n",
       "    </tr>\n",
       "    <tr>\n",
       "      <th>3</th>\n",
       "      <td>ASUS TUF Gaming F15 (2021), 15.6-inch (39.62 c...</td>\n",
       "      <td>₹1,48,990.00</td>\n",
       "      <td>3.8 out of 5</td>\n",
       "    </tr>\n",
       "    <tr>\n",
       "      <th>4</th>\n",
       "      <td>Lenovo Legion 7 10th Gen Intel Core i9 15.6 in...</td>\n",
       "      <td>₹2,65,999.00</td>\n",
       "      <td>4.4 out of 5</td>\n",
       "    </tr>\n",
       "    <tr>\n",
       "      <th>5</th>\n",
       "      <td>Dell XPS 7590 39.62 cm (15.6-inch) UHD Display...</td>\n",
       "      <td>₹2,01,900.00</td>\n",
       "      <td>3.8 out of 5</td>\n",
       "    </tr>\n",
       "    <tr>\n",
       "      <th>6</th>\n",
       "      <td>(Renewed) Dell G7 7500 15.6inch FHD 300 Hz Dis...</td>\n",
       "      <td>₹2,25,000.00</td>\n",
       "      <td>-</td>\n",
       "    </tr>\n",
       "    <tr>\n",
       "      <th>7</th>\n",
       "      <td>Dell XPS 17 (2021) i9-11900H Touch Screen Lapt...</td>\n",
       "      <td>₹3,75,000.00</td>\n",
       "      <td>-</td>\n",
       "    </tr>\n",
       "    <tr>\n",
       "      <th>8</th>\n",
       "      <td>Dell G7 7500 15.6inch FHD 300 Hz Display Gamin...</td>\n",
       "      <td>₹2,07,990.00</td>\n",
       "      <td>4.1 out of 5</td>\n",
       "    </tr>\n",
       "    <tr>\n",
       "      <th>9</th>\n",
       "      <td>HP ZBOOK Power G8/ Intel core i9-11900H 8 Core...</td>\n",
       "      <td>₹2,45,000.00</td>\n",
       "      <td>-</td>\n",
       "    </tr>\n",
       "    <tr>\n",
       "      <th>10</th>\n",
       "      <td>Z2 G5 Workstation 700W /Core i9-10900 (2.8GHz ...</td>\n",
       "      <td>₹2,39,000.00</td>\n",
       "      <td>-</td>\n",
       "    </tr>\n",
       "  </tbody>\n",
       "</table>\n",
       "</div>"
      ],
      "text/plain": [
       "                                        Product_Title Product_Price  \\\n",
       "0   ASUS ROG G703GI-E5148T 17.3\" (43.94 cms) FHD 1...  ₹5,40,946.00   \n",
       "1   ASUS TUF Gaming F15 (2021), 15.6\" (39.62 cms) ...  ₹1,52,890.00   \n",
       "2   ASUS ROG Strix Scar III G531GW 15.6\" FHD 240Hz...             -   \n",
       "3   ASUS TUF Gaming F15 (2021), 15.6-inch (39.62 c...  ₹1,48,990.00   \n",
       "4   Lenovo Legion 7 10th Gen Intel Core i9 15.6 in...  ₹2,65,999.00   \n",
       "5   Dell XPS 7590 39.62 cm (15.6-inch) UHD Display...  ₹2,01,900.00   \n",
       "6   (Renewed) Dell G7 7500 15.6inch FHD 300 Hz Dis...  ₹2,25,000.00   \n",
       "7   Dell XPS 17 (2021) i9-11900H Touch Screen Lapt...  ₹3,75,000.00   \n",
       "8   Dell G7 7500 15.6inch FHD 300 Hz Display Gamin...  ₹2,07,990.00   \n",
       "9   HP ZBOOK Power G8/ Intel core i9-11900H 8 Core...  ₹2,45,000.00   \n",
       "10  Z2 G5 Workstation 700W /Core i9-10900 (2.8GHz ...  ₹2,39,000.00   \n",
       "\n",
       "   Product_Rating  \n",
       "0    3.4 out of 5  \n",
       "1    4.1 out of 5  \n",
       "2      5 out of 5  \n",
       "3    3.8 out of 5  \n",
       "4    4.4 out of 5  \n",
       "5    3.8 out of 5  \n",
       "6               -  \n",
       "7               -  \n",
       "8    4.1 out of 5  \n",
       "9               -  \n",
       "10              -  "
      ]
     },
     "execution_count": 115,
     "metadata": {},
     "output_type": "execute_result"
    }
   ],
   "source": [
    "# Displaying data frame\n",
    "laptop_i9"
   ]
  },
  {
   "cell_type": "code",
   "execution_count": 116,
   "id": "57394be1",
   "metadata": {},
   "outputs": [],
   "source": [
    "# Selecting first 10 data\n",
    "laptop_i9 = laptop_i9[0:10]"
   ]
  },
  {
   "cell_type": "code",
   "execution_count": 117,
   "id": "11a67f24",
   "metadata": {},
   "outputs": [
    {
     "data": {
      "text/html": [
       "<div>\n",
       "<style scoped>\n",
       "    .dataframe tbody tr th:only-of-type {\n",
       "        vertical-align: middle;\n",
       "    }\n",
       "\n",
       "    .dataframe tbody tr th {\n",
       "        vertical-align: top;\n",
       "    }\n",
       "\n",
       "    .dataframe thead th {\n",
       "        text-align: right;\n",
       "    }\n",
       "</style>\n",
       "<table border=\"1\" class=\"dataframe\">\n",
       "  <thead>\n",
       "    <tr style=\"text-align: right;\">\n",
       "      <th></th>\n",
       "      <th>Product_Title</th>\n",
       "      <th>Product_Price</th>\n",
       "      <th>Product_Rating</th>\n",
       "    </tr>\n",
       "  </thead>\n",
       "  <tbody>\n",
       "    <tr>\n",
       "      <th>0</th>\n",
       "      <td>ASUS ROG G703GI-E5148T 17.3\" (43.94 cms) FHD 1...</td>\n",
       "      <td>₹5,40,946.00</td>\n",
       "      <td>3.4 out of 5</td>\n",
       "    </tr>\n",
       "    <tr>\n",
       "      <th>1</th>\n",
       "      <td>ASUS TUF Gaming F15 (2021), 15.6\" (39.62 cms) ...</td>\n",
       "      <td>₹1,52,890.00</td>\n",
       "      <td>4.1 out of 5</td>\n",
       "    </tr>\n",
       "    <tr>\n",
       "      <th>2</th>\n",
       "      <td>ASUS ROG Strix Scar III G531GW 15.6\" FHD 240Hz...</td>\n",
       "      <td>-</td>\n",
       "      <td>5 out of 5</td>\n",
       "    </tr>\n",
       "    <tr>\n",
       "      <th>3</th>\n",
       "      <td>ASUS TUF Gaming F15 (2021), 15.6-inch (39.62 c...</td>\n",
       "      <td>₹1,48,990.00</td>\n",
       "      <td>3.8 out of 5</td>\n",
       "    </tr>\n",
       "    <tr>\n",
       "      <th>4</th>\n",
       "      <td>Lenovo Legion 7 10th Gen Intel Core i9 15.6 in...</td>\n",
       "      <td>₹2,65,999.00</td>\n",
       "      <td>4.4 out of 5</td>\n",
       "    </tr>\n",
       "    <tr>\n",
       "      <th>5</th>\n",
       "      <td>Dell XPS 7590 39.62 cm (15.6-inch) UHD Display...</td>\n",
       "      <td>₹2,01,900.00</td>\n",
       "      <td>3.8 out of 5</td>\n",
       "    </tr>\n",
       "    <tr>\n",
       "      <th>6</th>\n",
       "      <td>(Renewed) Dell G7 7500 15.6inch FHD 300 Hz Dis...</td>\n",
       "      <td>₹2,25,000.00</td>\n",
       "      <td>-</td>\n",
       "    </tr>\n",
       "    <tr>\n",
       "      <th>7</th>\n",
       "      <td>Dell XPS 17 (2021) i9-11900H Touch Screen Lapt...</td>\n",
       "      <td>₹3,75,000.00</td>\n",
       "      <td>-</td>\n",
       "    </tr>\n",
       "    <tr>\n",
       "      <th>8</th>\n",
       "      <td>Dell G7 7500 15.6inch FHD 300 Hz Display Gamin...</td>\n",
       "      <td>₹2,07,990.00</td>\n",
       "      <td>4.1 out of 5</td>\n",
       "    </tr>\n",
       "    <tr>\n",
       "      <th>9</th>\n",
       "      <td>HP ZBOOK Power G8/ Intel core i9-11900H 8 Core...</td>\n",
       "      <td>₹2,45,000.00</td>\n",
       "      <td>-</td>\n",
       "    </tr>\n",
       "  </tbody>\n",
       "</table>\n",
       "</div>"
      ],
      "text/plain": [
       "                                       Product_Title Product_Price  \\\n",
       "0  ASUS ROG G703GI-E5148T 17.3\" (43.94 cms) FHD 1...  ₹5,40,946.00   \n",
       "1  ASUS TUF Gaming F15 (2021), 15.6\" (39.62 cms) ...  ₹1,52,890.00   \n",
       "2  ASUS ROG Strix Scar III G531GW 15.6\" FHD 240Hz...             -   \n",
       "3  ASUS TUF Gaming F15 (2021), 15.6-inch (39.62 c...  ₹1,48,990.00   \n",
       "4  Lenovo Legion 7 10th Gen Intel Core i9 15.6 in...  ₹2,65,999.00   \n",
       "5  Dell XPS 7590 39.62 cm (15.6-inch) UHD Display...  ₹2,01,900.00   \n",
       "6  (Renewed) Dell G7 7500 15.6inch FHD 300 Hz Dis...  ₹2,25,000.00   \n",
       "7  Dell XPS 17 (2021) i9-11900H Touch Screen Lapt...  ₹3,75,000.00   \n",
       "8  Dell G7 7500 15.6inch FHD 300 Hz Display Gamin...  ₹2,07,990.00   \n",
       "9  HP ZBOOK Power G8/ Intel core i9-11900H 8 Core...  ₹2,45,000.00   \n",
       "\n",
       "  Product_Rating  \n",
       "0   3.4 out of 5  \n",
       "1   4.1 out of 5  \n",
       "2     5 out of 5  \n",
       "3   3.8 out of 5  \n",
       "4   4.4 out of 5  \n",
       "5   3.8 out of 5  \n",
       "6              -  \n",
       "7              -  \n",
       "8   4.1 out of 5  \n",
       "9              -  "
      ]
     },
     "execution_count": 117,
     "metadata": {},
     "output_type": "execute_result"
    }
   ],
   "source": [
    "# Displaying the data frame\n",
    "laptop_i9"
   ]
  },
  {
   "cell_type": "code",
   "execution_count": 118,
   "id": "a53d2a1b",
   "metadata": {},
   "outputs": [],
   "source": [
    "# Closing the current driver\n",
    "driver.close()"
   ]
  },
  {
   "cell_type": "markdown",
   "id": "4028cff7",
   "metadata": {},
   "source": [
    "### Q.9 to scrape data for first 10 job results for Data Scientist Designation in Noida location from https://www.ambitionbox.com/. We have to scrap company name, No. of days ago when job was posted, Rating of the company "
   ]
  },
  {
   "cell_type": "code",
   "execution_count": 326,
   "id": "b87f4211",
   "metadata": {},
   "outputs": [],
   "source": [
    "# Connecting with web driver\n",
    "driver = webdriver.Chrome(r'E:/DATA TRAINED/Sofrware/chromedriver_win32/chromedriver.exe')"
   ]
  },
  {
   "cell_type": "code",
   "execution_count": 327,
   "id": "fe914c9a",
   "metadata": {},
   "outputs": [],
   "source": [
    "# Open url by driver\n",
    "driver.get('https://www.ambitionbox.com/')"
   ]
  },
  {
   "cell_type": "code",
   "execution_count": 328,
   "id": "30fcab98",
   "metadata": {},
   "outputs": [],
   "source": [
    "# Clicking on job option\n",
    "driver.find_element_by_xpath(\"//a[@class='link jobs']\").click()"
   ]
  },
  {
   "cell_type": "code",
   "execution_count": 329,
   "id": "1d7735d8",
   "metadata": {},
   "outputs": [],
   "source": [
    "# Entering the 'Data Scientist' in 'Search by Designations, Companies, Skills'\n",
    "search_job = driver.find_element_by_name('ab_jobsSearch')\n",
    "search_job.send_keys('data scientist')"
   ]
  },
  {
   "cell_type": "code",
   "execution_count": 330,
   "id": "129474fe",
   "metadata": {},
   "outputs": [],
   "source": [
    "# Clicking on search button\n",
    "search_button = driver.find_element_by_xpath(\"//button[@class='ab_btn search-btn round']\")\n",
    "search_button.click()"
   ]
  },
  {
   "cell_type": "code",
   "execution_count": 331,
   "id": "c6283d34",
   "metadata": {},
   "outputs": [],
   "source": [
    "# Clicking on location filter\n",
    "driver.find_element_by_xpath(\"//div[@title='Location']\").click()"
   ]
  },
  {
   "cell_type": "code",
   "execution_count": 332,
   "id": "53eba427",
   "metadata": {},
   "outputs": [],
   "source": [
    "# Searching the 'Noida' in location filter\n",
    "enter_noida = driver.find_element_by_xpath(\"//input[@placeholder='Search locations']\")\n",
    "enter_noida.send_keys('Noida')"
   ]
  },
  {
   "cell_type": "code",
   "execution_count": 333,
   "id": "4d62ee8b",
   "metadata": {},
   "outputs": [],
   "source": [
    "# After searching selecting the 'Noida'\n",
    "driver.find_element_by_xpath(\"//label[@for='location_Noida']\").click()"
   ]
  },
  {
   "cell_type": "code",
   "execution_count": 334,
   "id": "8705ce47",
   "metadata": {},
   "outputs": [],
   "source": [
    "# Creating empty list\n",
    "ambitionbox_company_name = []\n",
    "ambitionbox_days_when_job_was_posted = []\n",
    "ambitionbox_rating = []"
   ]
  },
  {
   "cell_type": "code",
   "execution_count": 335,
   "id": "25c23052",
   "metadata": {},
   "outputs": [
    {
     "data": {
      "text/plain": [
       "[<selenium.webdriver.remote.webelement.WebElement (session=\"d80c38fcc51d37e3e20ee15645b150da\", element=\"7b5d5774-cb0b-4fc8-a157-581d004e3f2d\")>,\n",
       " <selenium.webdriver.remote.webelement.WebElement (session=\"d80c38fcc51d37e3e20ee15645b150da\", element=\"150fae3b-7469-4b2f-ac7a-38840428b289\")>,\n",
       " <selenium.webdriver.remote.webelement.WebElement (session=\"d80c38fcc51d37e3e20ee15645b150da\", element=\"4fd06706-dee9-4c17-8c3a-eb055f3686bd\")>,\n",
       " <selenium.webdriver.remote.webelement.WebElement (session=\"d80c38fcc51d37e3e20ee15645b150da\", element=\"ffdf89fd-c0f7-4c15-8a5d-42eb9f46451b\")>]"
      ]
     },
     "execution_count": 335,
     "metadata": {},
     "output_type": "execute_result"
    }
   ],
   "source": [
    "# Scraping data for company name\n",
    "ambitionbox_company_name_tag = driver.find_elements_by_xpath(\"//p[@class='company body-medium']\")\n",
    "ambitionbox_company_name_tag[0:4]"
   ]
  },
  {
   "cell_type": "code",
   "execution_count": 336,
   "id": "44f6df5a",
   "metadata": {},
   "outputs": [
    {
     "data": {
      "text/plain": [
       "['LG Electronics India Pvt. Ltd.',\n",
       " 'GENPACT India Private Limited',\n",
       " 'GENPACT India Private Limited',\n",
       " 'NTT Data Business Solutions Pvt Ltd']"
      ]
     },
     "execution_count": 336,
     "metadata": {},
     "output_type": "execute_result"
    }
   ],
   "source": [
    "# Insert all company name data into list\n",
    "for i in ambitionbox_company_name_tag:\n",
    "    ambitionbox_company_name_ = i.text\n",
    "    ambitionbox_company_name.append(ambitionbox_company_name_)\n",
    "ambitionbox_company_name[0:4]    "
   ]
  },
  {
   "cell_type": "code",
   "execution_count": 337,
   "id": "d90196cd",
   "metadata": {},
   "outputs": [
    {
     "data": {
      "text/plain": [
       "[<selenium.webdriver.remote.webelement.WebElement (session=\"d80c38fcc51d37e3e20ee15645b150da\", element=\"f3df2dc0-791d-40e9-926d-8371461924ba\")>,\n",
       " <selenium.webdriver.remote.webelement.WebElement (session=\"d80c38fcc51d37e3e20ee15645b150da\", element=\"cbe41ed8-4a15-4363-a738-42421081a095\")>,\n",
       " <selenium.webdriver.remote.webelement.WebElement (session=\"d80c38fcc51d37e3e20ee15645b150da\", element=\"7b8e81bd-7f49-4ef8-9f7e-bf8515fa659a\")>,\n",
       " <selenium.webdriver.remote.webelement.WebElement (session=\"d80c38fcc51d37e3e20ee15645b150da\", element=\"0af68b69-a30a-4182-8f5d-8416e3727b41\")>]"
      ]
     },
     "execution_count": 337,
     "metadata": {},
     "output_type": "execute_result"
    }
   ],
   "source": [
    "# Scraping data for no of days ago when job was posted\n",
    "ambitionbox_days_when_job_was_posted_tag = driver.find_elements_by_xpath(\"//div[@class='other-info']/span[1]\")\n",
    "ambitionbox_days_when_job_was_posted_tag[0:4]"
   ]
  },
  {
   "cell_type": "code",
   "execution_count": 338,
   "id": "f7d98a40",
   "metadata": {},
   "outputs": [
    {
     "data": {
      "text/plain": [
       "['9d ago', '16d ago', '16d ago', '17d ago']"
      ]
     },
     "execution_count": 338,
     "metadata": {},
     "output_type": "execute_result"
    }
   ],
   "source": [
    "# Insert all no of days into list\n",
    "for i in ambitionbox_days_when_job_was_posted_tag:\n",
    "    ambitionbox_days_when_job_was_posted_ = i.text\n",
    "    ambitionbox_days_when_job_was_posted.append(ambitionbox_days_when_job_was_posted_)\n",
    "ambitionbox_days_when_job_was_posted[0:4]    "
   ]
  },
  {
   "cell_type": "code",
   "execution_count": 339,
   "id": "1737ed00",
   "metadata": {},
   "outputs": [
    {
     "data": {
      "text/plain": [
       "[<selenium.webdriver.remote.webelement.WebElement (session=\"d80c38fcc51d37e3e20ee15645b150da\", element=\"03b2cf70-5fcf-44e9-9394-46f73ee0afda\")>,\n",
       " <selenium.webdriver.remote.webelement.WebElement (session=\"d80c38fcc51d37e3e20ee15645b150da\", element=\"9eddb62e-ece1-4d89-b721-ba91ef696c35\")>,\n",
       " <selenium.webdriver.remote.webelement.WebElement (session=\"d80c38fcc51d37e3e20ee15645b150da\", element=\"8b582650-f03a-44fb-9472-ab1e64ad3fea\")>,\n",
       " <selenium.webdriver.remote.webelement.WebElement (session=\"d80c38fcc51d37e3e20ee15645b150da\", element=\"b7fe74d2-bf5b-4a05-818d-8960489efe74\")>]"
      ]
     },
     "execution_count": 339,
     "metadata": {},
     "output_type": "execute_result"
    }
   ],
   "source": [
    "# Scraping data for company rating\n",
    "ambitionbox_rating_tag = driver.find_elements_by_xpath(\"//span[@class='body-small']\")\n",
    "ambitionbox_rating_tag[0:4]"
   ]
  },
  {
   "cell_type": "code",
   "execution_count": 340,
   "id": "bc61daa2",
   "metadata": {},
   "outputs": [
    {
     "data": {
      "text/plain": [
       "['4.1', '4.0', '4.0', '3.8']"
      ]
     },
     "execution_count": 340,
     "metadata": {},
     "output_type": "execute_result"
    }
   ],
   "source": [
    "# Insert all rating data into list\n",
    "for i in ambitionbox_rating_tag:\n",
    "    ambitionbox_rating_ = i.text\n",
    "    ambitionbox_rating.append(ambitionbox_rating_)\n",
    "ambitionbox_rating[0:4]    "
   ]
  },
  {
   "cell_type": "code",
   "execution_count": 341,
   "id": "2516917d",
   "metadata": {},
   "outputs": [
    {
     "name": "stdout",
     "output_type": "stream",
     "text": [
      "10 10 10\n"
     ]
    }
   ],
   "source": [
    "# Print the length of each list\n",
    "print(len(ambitionbox_company_name),len(ambitionbox_days_when_job_was_posted),len(ambitionbox_rating))"
   ]
  },
  {
   "cell_type": "code",
   "execution_count": 342,
   "id": "958011f6",
   "metadata": {},
   "outputs": [],
   "source": [
    "# Creating empty data frame\n",
    "ambitionbox_9 = pd.DataFrame({})\n",
    "\n",
    "# Adding column into data frame\n",
    "ambitionbox_9['Company Name'] = ambitionbox_company_name\n",
    "ambitionbox_9['No. Of Days Ago When Job Was Posted'] = ambitionbox_days_when_job_was_posted\n",
    "ambitionbox_9['Rating Of The Company'] = ambitionbox_rating"
   ]
  },
  {
   "cell_type": "code",
   "execution_count": 343,
   "id": "d8158c35",
   "metadata": {},
   "outputs": [
    {
     "data": {
      "text/html": [
       "<div>\n",
       "<style scoped>\n",
       "    .dataframe tbody tr th:only-of-type {\n",
       "        vertical-align: middle;\n",
       "    }\n",
       "\n",
       "    .dataframe tbody tr th {\n",
       "        vertical-align: top;\n",
       "    }\n",
       "\n",
       "    .dataframe thead th {\n",
       "        text-align: right;\n",
       "    }\n",
       "</style>\n",
       "<table border=\"1\" class=\"dataframe\">\n",
       "  <thead>\n",
       "    <tr style=\"text-align: right;\">\n",
       "      <th></th>\n",
       "      <th>Company Name</th>\n",
       "      <th>No. Of Days Ago When Job Was Posted</th>\n",
       "      <th>Rating Of The Company</th>\n",
       "    </tr>\n",
       "  </thead>\n",
       "  <tbody>\n",
       "    <tr>\n",
       "      <th>0</th>\n",
       "      <td>LG Electronics India Pvt. Ltd.</td>\n",
       "      <td>9d ago</td>\n",
       "      <td>4.1</td>\n",
       "    </tr>\n",
       "    <tr>\n",
       "      <th>1</th>\n",
       "      <td>GENPACT India Private Limited</td>\n",
       "      <td>16d ago</td>\n",
       "      <td>4.0</td>\n",
       "    </tr>\n",
       "    <tr>\n",
       "      <th>2</th>\n",
       "      <td>GENPACT India Private Limited</td>\n",
       "      <td>16d ago</td>\n",
       "      <td>4.0</td>\n",
       "    </tr>\n",
       "    <tr>\n",
       "      <th>3</th>\n",
       "      <td>NTT Data Business Solutions Pvt Ltd</td>\n",
       "      <td>17d ago</td>\n",
       "      <td>3.8</td>\n",
       "    </tr>\n",
       "    <tr>\n",
       "      <th>4</th>\n",
       "      <td>GENPACT India Private Limited</td>\n",
       "      <td>18d ago</td>\n",
       "      <td>4.0</td>\n",
       "    </tr>\n",
       "    <tr>\n",
       "      <th>5</th>\n",
       "      <td>Paytm</td>\n",
       "      <td>3d ago</td>\n",
       "      <td>3.7</td>\n",
       "    </tr>\n",
       "    <tr>\n",
       "      <th>6</th>\n",
       "      <td>GI Group</td>\n",
       "      <td>2d ago</td>\n",
       "      <td>4.0</td>\n",
       "    </tr>\n",
       "    <tr>\n",
       "      <th>7</th>\n",
       "      <td>GI Group</td>\n",
       "      <td>2d ago</td>\n",
       "      <td>4.0</td>\n",
       "    </tr>\n",
       "    <tr>\n",
       "      <th>8</th>\n",
       "      <td>GI Group</td>\n",
       "      <td>2d ago</td>\n",
       "      <td>4.0</td>\n",
       "    </tr>\n",
       "    <tr>\n",
       "      <th>9</th>\n",
       "      <td>Steria India Ltd</td>\n",
       "      <td>1mon ago</td>\n",
       "      <td>4.1</td>\n",
       "    </tr>\n",
       "  </tbody>\n",
       "</table>\n",
       "</div>"
      ],
      "text/plain": [
       "                          Company Name No. Of Days Ago When Job Was Posted  \\\n",
       "0       LG Electronics India Pvt. Ltd.                              9d ago   \n",
       "1        GENPACT India Private Limited                             16d ago   \n",
       "2        GENPACT India Private Limited                             16d ago   \n",
       "3  NTT Data Business Solutions Pvt Ltd                             17d ago   \n",
       "4        GENPACT India Private Limited                             18d ago   \n",
       "5                                Paytm                              3d ago   \n",
       "6                             GI Group                              2d ago   \n",
       "7                             GI Group                              2d ago   \n",
       "8                             GI Group                              2d ago   \n",
       "9                     Steria India Ltd                            1mon ago   \n",
       "\n",
       "  Rating Of The Company  \n",
       "0                   4.1  \n",
       "1                   4.0  \n",
       "2                   4.0  \n",
       "3                   3.8  \n",
       "4                   4.0  \n",
       "5                   3.7  \n",
       "6                   4.0  \n",
       "7                   4.0  \n",
       "8                   4.0  \n",
       "9                   4.1  "
      ]
     },
     "execution_count": 343,
     "metadata": {},
     "output_type": "execute_result"
    }
   ],
   "source": [
    "# Displaying data frame\n",
    "ambitionbox_9"
   ]
  },
  {
   "cell_type": "code",
   "execution_count": 344,
   "id": "397e136c",
   "metadata": {},
   "outputs": [],
   "source": [
    "# Close the current driver\n",
    "driver.close()"
   ]
  },
  {
   "cell_type": "markdown",
   "id": "7a245fe3",
   "metadata": {},
   "source": [
    "### Q.10 scrape the salary data for Data Scientist designation from https://www.ambitionbox.com/. We have to scrap Company name, Number of salaries, Average salary, Min salary, Max Salary"
   ]
  },
  {
   "cell_type": "code",
   "execution_count": 14,
   "id": "b9899454",
   "metadata": {},
   "outputs": [],
   "source": [
    "# Connecting with web driver\n",
    "driver = webdriver.Chrome(r'E:/DATA TRAINED/Sofrware/chromedriver_win32/chromedriver.exe')"
   ]
  },
  {
   "cell_type": "code",
   "execution_count": 15,
   "id": "809d90d6",
   "metadata": {},
   "outputs": [],
   "source": [
    "# Open url by driver\n",
    "driver.get('https://www.ambitionbox.com/')"
   ]
  },
  {
   "cell_type": "code",
   "execution_count": 16,
   "id": "0c95c1a7",
   "metadata": {},
   "outputs": [],
   "source": [
    "# Clicking the salary option\n",
    "driver.find_element_by_xpath(\"//a[@class='link salaries']\").click()"
   ]
  },
  {
   "cell_type": "code",
   "execution_count": 17,
   "id": "606d4f67",
   "metadata": {},
   "outputs": [],
   "source": [
    "# Entering the 'Data Scientist' in 'Search Job Profile'\n",
    "search_job = driver.find_element_by_id('jobProfileSearchbox')\n",
    "search_job.send_keys('Data Scientist')"
   ]
  },
  {
   "cell_type": "code",
   "execution_count": 18,
   "id": "474b79a5",
   "metadata": {},
   "outputs": [],
   "source": [
    "# After entering clicking on 'Data Scientist'\n",
    "driver.find_element_by_xpath(\"//p[@class='tt_text']\").click()"
   ]
  },
  {
   "cell_type": "code",
   "execution_count": 19,
   "id": "7c1a3691",
   "metadata": {},
   "outputs": [],
   "source": [
    "# Creating empty list\n",
    "ambitionbox_salary_company_name = []\n",
    "ambitionbox_salary_record = []\n",
    "ambitionbox_salary_avg = []\n",
    "ambitionbox_salary_max = []\n",
    "ambitionbox_salary_min = []"
   ]
  },
  {
   "cell_type": "code",
   "execution_count": 20,
   "id": "e63ee283",
   "metadata": {},
   "outputs": [
    {
     "data": {
      "text/plain": [
       "[<selenium.webdriver.remote.webelement.WebElement (session=\"337a630b97e9a3d66f4d3c0e3cd8d184\", element=\"86d71d86-2348-40b6-b497-dac586d42a2a\")>,\n",
       " <selenium.webdriver.remote.webelement.WebElement (session=\"337a630b97e9a3d66f4d3c0e3cd8d184\", element=\"3003cedc-b09a-44df-af88-b09bc10cd208\")>,\n",
       " <selenium.webdriver.remote.webelement.WebElement (session=\"337a630b97e9a3d66f4d3c0e3cd8d184\", element=\"8a1d0347-cd02-420d-bd2a-caa4a5c1506b\")>,\n",
       " <selenium.webdriver.remote.webelement.WebElement (session=\"337a630b97e9a3d66f4d3c0e3cd8d184\", element=\"a209ba36-5889-46ed-9b3c-c66b589dc17e\")>]"
      ]
     },
     "execution_count": 20,
     "metadata": {},
     "output_type": "execute_result"
    }
   ],
   "source": [
    "# Scraping data for company name\n",
    "ambitionbox_salary_company_name_tag = driver.find_elements_by_xpath(\"//div[@class='name']/a[1]\")\n",
    "ambitionbox_salary_company_name_tag[0:4]"
   ]
  },
  {
   "cell_type": "code",
   "execution_count": 21,
   "id": "aacd440c",
   "metadata": {},
   "outputs": [
    {
     "data": {
      "text/plain": [
       "['Ab Inbev', 'ZS', 'Optum', 'Fractal Analytics']"
      ]
     },
     "execution_count": 21,
     "metadata": {},
     "output_type": "execute_result"
    }
   ],
   "source": [
    "# Insert all company name data into list\n",
    "for i in ambitionbox_salary_company_name_tag:\n",
    "    ambitionbox_salary_company_name_ = i.text\n",
    "    ambitionbox_salary_company_name.append(ambitionbox_salary_company_name_)\n",
    "ambitionbox_salary_company_name[0:4]    "
   ]
  },
  {
   "cell_type": "code",
   "execution_count": 22,
   "id": "fa87b713",
   "metadata": {},
   "outputs": [
    {
     "data": {
      "text/plain": [
       "[<selenium.webdriver.remote.webelement.WebElement (session=\"337a630b97e9a3d66f4d3c0e3cd8d184\", element=\"88ad263c-d557-4681-805a-37a7f456ecf2\")>,\n",
       " <selenium.webdriver.remote.webelement.WebElement (session=\"337a630b97e9a3d66f4d3c0e3cd8d184\", element=\"5105a852-988f-4f1c-9e69-ead42bac22bd\")>,\n",
       " <selenium.webdriver.remote.webelement.WebElement (session=\"337a630b97e9a3d66f4d3c0e3cd8d184\", element=\"a6d08f8f-664c-4e44-8190-a9e33d7a15cb\")>,\n",
       " <selenium.webdriver.remote.webelement.WebElement (session=\"337a630b97e9a3d66f4d3c0e3cd8d184\", element=\"0414593d-1cce-4867-b54b-fcaa909924f7\")>]"
      ]
     },
     "execution_count": 22,
     "metadata": {},
     "output_type": "execute_result"
    }
   ],
   "source": [
    "# Scraping data for total salary record\n",
    "ambitionbox_salary_record_tag = driver.find_elements_by_xpath(\"//div[@class='name']/span[1]\")\n",
    "ambitionbox_salary_record_tag[0:4]"
   ]
  },
  {
   "cell_type": "code",
   "execution_count": 23,
   "id": "e6580cc2",
   "metadata": {},
   "outputs": [
    {
     "data": {
      "text/plain": [
       "['based on 20 salaries',\n",
       " 'based on 12 salaries',\n",
       " 'based on 23 salaries',\n",
       " 'based on 66 salaries']"
      ]
     },
     "execution_count": 23,
     "metadata": {},
     "output_type": "execute_result"
    }
   ],
   "source": [
    "# Insert all total salary record into list\n",
    "for i in ambitionbox_salary_record_tag:\n",
    "    ambitionbox_salary_record_ = i.text\n",
    "    ambitionbox_salary_record.append(ambitionbox_salary_record_)\n",
    "ambitionbox_salary_record[0:4]    "
   ]
  },
  {
   "cell_type": "code",
   "execution_count": 24,
   "id": "24d53f13",
   "metadata": {},
   "outputs": [],
   "source": [
    "# Creating empty list for required experience\n",
    "ambitionbox_salary_experience_required = []"
   ]
  },
  {
   "cell_type": "code",
   "execution_count": 25,
   "id": "517716ef",
   "metadata": {},
   "outputs": [
    {
     "data": {
      "text/plain": [
       "[<selenium.webdriver.remote.webelement.WebElement (session=\"337a630b97e9a3d66f4d3c0e3cd8d184\", element=\"b239b08e-3ed3-426f-b055-e47e3751fa5f\")>,\n",
       " <selenium.webdriver.remote.webelement.WebElement (session=\"337a630b97e9a3d66f4d3c0e3cd8d184\", element=\"7828b3e8-4839-4a48-9e45-617251278285\")>,\n",
       " <selenium.webdriver.remote.webelement.WebElement (session=\"337a630b97e9a3d66f4d3c0e3cd8d184\", element=\"b1ced3e0-74e6-499e-953a-4e8cd875181b\")>,\n",
       " <selenium.webdriver.remote.webelement.WebElement (session=\"337a630b97e9a3d66f4d3c0e3cd8d184\", element=\"c65ac3a1-222a-4340-9045-af51051e6926\")>]"
      ]
     },
     "execution_count": 25,
     "metadata": {},
     "output_type": "execute_result"
    }
   ],
   "source": [
    "# Scraping data for required experience\n",
    "ambitionbox_salary_experience_required_tag = driver.find_elements_by_xpath(\"//div[@class='salaries sbold-list-header']\")\n",
    "ambitionbox_salary_experience_required_tag[0:4]"
   ]
  },
  {
   "cell_type": "code",
   "execution_count": 26,
   "id": "760c1850",
   "metadata": {},
   "outputs": [
    {
     "data": {
      "text/plain": [
       "['Data Scientist\\n . \\n3-4 yrs exp',\n",
       " 'Data Scientist\\n . \\n2 yrs exp',\n",
       " 'Data Scientist\\n . \\n3-4 yrs exp',\n",
       " 'Data Scientist\\n . \\n2-4 yrs exp']"
      ]
     },
     "execution_count": 26,
     "metadata": {},
     "output_type": "execute_result"
    }
   ],
   "source": [
    "# Insert all required experience data into list\n",
    "for i in ambitionbox_salary_experience_required_tag:\n",
    "    ambitionbox_salary_experience_required_ = i.text\n",
    "    ambitionbox_salary_experience_required.append(ambitionbox_salary_experience_required_)\n",
    "ambitionbox_salary_experience_required[0:4]    "
   ]
  },
  {
   "cell_type": "code",
   "execution_count": 27,
   "id": "59016c69",
   "metadata": {},
   "outputs": [
    {
     "data": {
      "text/plain": [
       "[<selenium.webdriver.remote.webelement.WebElement (session=\"337a630b97e9a3d66f4d3c0e3cd8d184\", element=\"eadf36c0-f93c-49c4-90fd-f2421d466643\")>,\n",
       " <selenium.webdriver.remote.webelement.WebElement (session=\"337a630b97e9a3d66f4d3c0e3cd8d184\", element=\"0ec51557-0b47-4e0e-9f30-688c5c73788f\")>,\n",
       " <selenium.webdriver.remote.webelement.WebElement (session=\"337a630b97e9a3d66f4d3c0e3cd8d184\", element=\"659a2a7d-da8c-4ef3-9b3f-208d2257de97\")>,\n",
       " <selenium.webdriver.remote.webelement.WebElement (session=\"337a630b97e9a3d66f4d3c0e3cd8d184\", element=\"e71684c3-9719-4da6-84b4-2fc192dde722\")>]"
      ]
     },
     "execution_count": 27,
     "metadata": {},
     "output_type": "execute_result"
    }
   ],
   "source": [
    "# Scraping data for minimum salary\n",
    "ambitionbox_salary_min_tag = driver.find_elements_by_xpath(\"//div[@class='salary-values']/div[1]\")\n",
    "ambitionbox_salary_min_tag[0:4]"
   ]
  },
  {
   "cell_type": "code",
   "execution_count": 28,
   "id": "7620766b",
   "metadata": {},
   "outputs": [
    {
     "data": {
      "text/plain": [
       "['₹ 15.0L', '₹ 9.8L', '₹ 11.0L', '₹ 9.5L']"
      ]
     },
     "execution_count": 28,
     "metadata": {},
     "output_type": "execute_result"
    }
   ],
   "source": [
    "# Insert all minimum salary data into list\n",
    "for i in ambitionbox_salary_min_tag:\n",
    "    ambitionbox_salary_min_ = i.text\n",
    "    ambitionbox_salary_min.append(ambitionbox_salary_min_)\n",
    "ambitionbox_salary_min[0:4]    "
   ]
  },
  {
   "cell_type": "code",
   "execution_count": 29,
   "id": "ea663daf",
   "metadata": {},
   "outputs": [
    {
     "data": {
      "text/plain": [
       "[<selenium.webdriver.remote.webelement.WebElement (session=\"337a630b97e9a3d66f4d3c0e3cd8d184\", element=\"3be8579e-6b38-4529-9cf7-3c53a0d0b6cb\")>,\n",
       " <selenium.webdriver.remote.webelement.WebElement (session=\"337a630b97e9a3d66f4d3c0e3cd8d184\", element=\"4c43933e-40b3-477c-a0e3-17c805b33016\")>,\n",
       " <selenium.webdriver.remote.webelement.WebElement (session=\"337a630b97e9a3d66f4d3c0e3cd8d184\", element=\"6703bc51-e09f-4714-8f15-855263e6681d\")>,\n",
       " <selenium.webdriver.remote.webelement.WebElement (session=\"337a630b97e9a3d66f4d3c0e3cd8d184\", element=\"221cf041-3c1c-4b20-8328-43b7657727bd\")>]"
      ]
     },
     "execution_count": 29,
     "metadata": {},
     "output_type": "execute_result"
    }
   ],
   "source": [
    "# Scraping data for maximum salary\n",
    "ambitionbox_salary_max_tag = driver.find_elements_by_xpath(\"//div[@class='salary-values']/div[2]\")\n",
    "ambitionbox_salary_max_tag[0:4]"
   ]
  },
  {
   "cell_type": "code",
   "execution_count": 30,
   "id": "87268b0e",
   "metadata": {},
   "outputs": [
    {
     "data": {
      "text/plain": [
       "['₹ 23.0L', '₹ 19.5L', '₹ 21.3L', '₹ 22.0L']"
      ]
     },
     "execution_count": 30,
     "metadata": {},
     "output_type": "execute_result"
    }
   ],
   "source": [
    "# Insert all maximum salary data into list\n",
    "for i in ambitionbox_salary_max_tag:\n",
    "    ambitionbox_salary_max_ = i.text\n",
    "    ambitionbox_salary_max.append(ambitionbox_salary_max_)\n",
    "ambitionbox_salary_max[0:4]    "
   ]
  },
  {
   "cell_type": "code",
   "execution_count": 31,
   "id": "aa01b8ee",
   "metadata": {},
   "outputs": [
    {
     "data": {
      "text/plain": [
       "[<selenium.webdriver.remote.webelement.WebElement (session=\"337a630b97e9a3d66f4d3c0e3cd8d184\", element=\"103f0f43-63bc-4544-b07d-1a77d36a06a5\")>,\n",
       " <selenium.webdriver.remote.webelement.WebElement (session=\"337a630b97e9a3d66f4d3c0e3cd8d184\", element=\"1d085d49-ba07-4b16-8ceb-58d9065ed543\")>,\n",
       " <selenium.webdriver.remote.webelement.WebElement (session=\"337a630b97e9a3d66f4d3c0e3cd8d184\", element=\"ee201505-4299-4e01-99c3-5793ac0464f8\")>,\n",
       " <selenium.webdriver.remote.webelement.WebElement (session=\"337a630b97e9a3d66f4d3c0e3cd8d184\", element=\"1c40a945-5dd1-42d3-9b97-ee1d1d07fc76\")>]"
      ]
     },
     "execution_count": 31,
     "metadata": {},
     "output_type": "execute_result"
    }
   ],
   "source": [
    "# Scraping data for average salary\n",
    "ambitionbox_salary_avg_tag = driver.find_elements_by_xpath(\"//p[@class='averageCtc']\")\n",
    "ambitionbox_salary_avg_tag[0:4]"
   ]
  },
  {
   "cell_type": "code",
   "execution_count": 32,
   "id": "7c5653bd",
   "metadata": {},
   "outputs": [
    {
     "data": {
      "text/plain": [
       "['₹ 19.0L', '₹ 15.3L', '₹ 15.0L', '₹ 15.0L']"
      ]
     },
     "execution_count": 32,
     "metadata": {},
     "output_type": "execute_result"
    }
   ],
   "source": [
    "# Insert all average salary data into list\n",
    "for i in ambitionbox_salary_avg_tag:\n",
    "    ambitionbox_salary_avg_ = i.text\n",
    "    ambitionbox_salary_avg.append(ambitionbox_salary_avg_)\n",
    "ambitionbox_salary_avg[0:4]    "
   ]
  },
  {
   "cell_type": "code",
   "execution_count": 33,
   "id": "54d5769b",
   "metadata": {},
   "outputs": [],
   "source": [
    "# Creating empty data frame\n",
    "ambitionbox_salary_comparision = pd.DataFrame({})\n",
    "\n",
    "# Adding column into data frame\n",
    "ambitionbox_salary_comparision['Company Name'] = ambitionbox_salary_company_name\n",
    "ambitionbox_salary_comparision['Total Salary Record'] = ambitionbox_salary_record\n",
    "ambitionbox_salary_comparision['Average Salary'] = ambitionbox_salary_avg\n",
    "ambitionbox_salary_comparision['Minimum Salary'] = ambitionbox_salary_min\n",
    "ambitionbox_salary_comparision['Maximum Salary'] = ambitionbox_salary_max\n",
    "ambitionbox_salary_comparision['Experience Required'] = ambitionbox_salary_experience_required"
   ]
  },
  {
   "cell_type": "code",
   "execution_count": 34,
   "id": "0a98adf6",
   "metadata": {},
   "outputs": [
    {
     "data": {
      "text/html": [
       "<div>\n",
       "<style scoped>\n",
       "    .dataframe tbody tr th:only-of-type {\n",
       "        vertical-align: middle;\n",
       "    }\n",
       "\n",
       "    .dataframe tbody tr th {\n",
       "        vertical-align: top;\n",
       "    }\n",
       "\n",
       "    .dataframe thead th {\n",
       "        text-align: right;\n",
       "    }\n",
       "</style>\n",
       "<table border=\"1\" class=\"dataframe\">\n",
       "  <thead>\n",
       "    <tr style=\"text-align: right;\">\n",
       "      <th></th>\n",
       "      <th>Company Name</th>\n",
       "      <th>Total Salary Record</th>\n",
       "      <th>Average Salary</th>\n",
       "      <th>Minimum Salary</th>\n",
       "      <th>Maximum Salary</th>\n",
       "      <th>Experience Required</th>\n",
       "    </tr>\n",
       "  </thead>\n",
       "  <tbody>\n",
       "    <tr>\n",
       "      <th>0</th>\n",
       "      <td>Ab Inbev</td>\n",
       "      <td>based on 20 salaries</td>\n",
       "      <td>₹ 19.0L</td>\n",
       "      <td>₹ 15.0L</td>\n",
       "      <td>₹ 23.0L</td>\n",
       "      <td>Data Scientist\\n . \\n3-4 yrs exp</td>\n",
       "    </tr>\n",
       "    <tr>\n",
       "      <th>1</th>\n",
       "      <td>ZS</td>\n",
       "      <td>based on 12 salaries</td>\n",
       "      <td>₹ 15.3L</td>\n",
       "      <td>₹ 9.8L</td>\n",
       "      <td>₹ 19.5L</td>\n",
       "      <td>Data Scientist\\n . \\n2 yrs exp</td>\n",
       "    </tr>\n",
       "    <tr>\n",
       "      <th>2</th>\n",
       "      <td>Optum</td>\n",
       "      <td>based on 23 salaries</td>\n",
       "      <td>₹ 15.0L</td>\n",
       "      <td>₹ 11.0L</td>\n",
       "      <td>₹ 21.3L</td>\n",
       "      <td>Data Scientist\\n . \\n3-4 yrs exp</td>\n",
       "    </tr>\n",
       "    <tr>\n",
       "      <th>3</th>\n",
       "      <td>Fractal Analytics</td>\n",
       "      <td>based on 66 salaries</td>\n",
       "      <td>₹ 15.0L</td>\n",
       "      <td>₹ 9.5L</td>\n",
       "      <td>₹ 22.0L</td>\n",
       "      <td>Data Scientist\\n . \\n2-4 yrs exp</td>\n",
       "    </tr>\n",
       "    <tr>\n",
       "      <th>4</th>\n",
       "      <td>UnitedHealth</td>\n",
       "      <td>based on 47 salaries</td>\n",
       "      <td>₹ 13.5L</td>\n",
       "      <td>₹ 7.2L</td>\n",
       "      <td>₹ 20.5L</td>\n",
       "      <td>Data Scientist\\n . \\n2-4 yrs exp</td>\n",
       "    </tr>\n",
       "    <tr>\n",
       "      <th>5</th>\n",
       "      <td>Tiger Analytics</td>\n",
       "      <td>based on 26 salaries</td>\n",
       "      <td>₹ 13.5L</td>\n",
       "      <td>₹ 8.3L</td>\n",
       "      <td>₹ 18.5L</td>\n",
       "      <td>Data Scientist\\n . \\n3-4 yrs exp</td>\n",
       "    </tr>\n",
       "    <tr>\n",
       "      <th>6</th>\n",
       "      <td>Verizon</td>\n",
       "      <td>based on 14 salaries</td>\n",
       "      <td>₹ 12.7L</td>\n",
       "      <td>₹ 10.0L</td>\n",
       "      <td>₹ 21.0L</td>\n",
       "      <td>Data Scientist\\n . \\n4 yrs exp</td>\n",
       "    </tr>\n",
       "    <tr>\n",
       "      <th>7</th>\n",
       "      <td>Ganit Business Solutions</td>\n",
       "      <td>based on 13 salaries</td>\n",
       "      <td>₹ 12.4L</td>\n",
       "      <td>₹ 8.5L</td>\n",
       "      <td>₹ 15.0L</td>\n",
       "      <td>Data Scientist\\n . \\n4 yrs exp</td>\n",
       "    </tr>\n",
       "    <tr>\n",
       "      <th>8</th>\n",
       "      <td>Ericsson</td>\n",
       "      <td>based on 42 salaries</td>\n",
       "      <td>₹ 11.7L</td>\n",
       "      <td>₹ 5.2L</td>\n",
       "      <td>₹ 21.5L</td>\n",
       "      <td>Data Scientist\\n . \\n3-4 yrs exp</td>\n",
       "    </tr>\n",
       "    <tr>\n",
       "      <th>9</th>\n",
       "      <td>Deloitte</td>\n",
       "      <td>based on 49 salaries</td>\n",
       "      <td>₹ 11.2L</td>\n",
       "      <td>₹ 6.8L</td>\n",
       "      <td>₹ 20.5L</td>\n",
       "      <td>Data Scientist\\n . \\n2-4 yrs exp</td>\n",
       "    </tr>\n",
       "  </tbody>\n",
       "</table>\n",
       "</div>"
      ],
      "text/plain": [
       "               Company Name   Total Salary Record Average Salary  \\\n",
       "0                  Ab Inbev  based on 20 salaries        ₹ 19.0L   \n",
       "1                        ZS  based on 12 salaries        ₹ 15.3L   \n",
       "2                     Optum  based on 23 salaries        ₹ 15.0L   \n",
       "3         Fractal Analytics  based on 66 salaries        ₹ 15.0L   \n",
       "4              UnitedHealth  based on 47 salaries        ₹ 13.5L   \n",
       "5           Tiger Analytics  based on 26 salaries        ₹ 13.5L   \n",
       "6                   Verizon  based on 14 salaries        ₹ 12.7L   \n",
       "7  Ganit Business Solutions  based on 13 salaries        ₹ 12.4L   \n",
       "8                  Ericsson  based on 42 salaries        ₹ 11.7L   \n",
       "9                  Deloitte  based on 49 salaries        ₹ 11.2L   \n",
       "\n",
       "  Minimum Salary Maximum Salary               Experience Required  \n",
       "0        ₹ 15.0L        ₹ 23.0L  Data Scientist\\n . \\n3-4 yrs exp  \n",
       "1         ₹ 9.8L        ₹ 19.5L    Data Scientist\\n . \\n2 yrs exp  \n",
       "2        ₹ 11.0L        ₹ 21.3L  Data Scientist\\n . \\n3-4 yrs exp  \n",
       "3         ₹ 9.5L        ₹ 22.0L  Data Scientist\\n . \\n2-4 yrs exp  \n",
       "4         ₹ 7.2L        ₹ 20.5L  Data Scientist\\n . \\n2-4 yrs exp  \n",
       "5         ₹ 8.3L        ₹ 18.5L  Data Scientist\\n . \\n3-4 yrs exp  \n",
       "6        ₹ 10.0L        ₹ 21.0L    Data Scientist\\n . \\n4 yrs exp  \n",
       "7         ₹ 8.5L        ₹ 15.0L    Data Scientist\\n . \\n4 yrs exp  \n",
       "8         ₹ 5.2L        ₹ 21.5L  Data Scientist\\n . \\n3-4 yrs exp  \n",
       "9         ₹ 6.8L        ₹ 20.5L  Data Scientist\\n . \\n2-4 yrs exp  "
      ]
     },
     "execution_count": 34,
     "metadata": {},
     "output_type": "execute_result"
    }
   ],
   "source": [
    "# Displaying data frame\n",
    "ambitionbox_salary_comparision"
   ]
  },
  {
   "cell_type": "code",
   "execution_count": 35,
   "id": "d61a5e43",
   "metadata": {},
   "outputs": [],
   "source": [
    "# Removing extra value from 'Experience Required' except experience\n",
    "ambitionbox_salary_comparision['Experience Required'] = ambitionbox_salary_comparision['Experience Required'].str.partition('. \\n')[2]"
   ]
  },
  {
   "cell_type": "code",
   "execution_count": 36,
   "id": "349a549e",
   "metadata": {},
   "outputs": [
    {
     "data": {
      "text/html": [
       "<div>\n",
       "<style scoped>\n",
       "    .dataframe tbody tr th:only-of-type {\n",
       "        vertical-align: middle;\n",
       "    }\n",
       "\n",
       "    .dataframe tbody tr th {\n",
       "        vertical-align: top;\n",
       "    }\n",
       "\n",
       "    .dataframe thead th {\n",
       "        text-align: right;\n",
       "    }\n",
       "</style>\n",
       "<table border=\"1\" class=\"dataframe\">\n",
       "  <thead>\n",
       "    <tr style=\"text-align: right;\">\n",
       "      <th></th>\n",
       "      <th>Company Name</th>\n",
       "      <th>Total Salary Record</th>\n",
       "      <th>Average Salary</th>\n",
       "      <th>Minimum Salary</th>\n",
       "      <th>Maximum Salary</th>\n",
       "      <th>Experience Required</th>\n",
       "    </tr>\n",
       "  </thead>\n",
       "  <tbody>\n",
       "    <tr>\n",
       "      <th>0</th>\n",
       "      <td>Ab Inbev</td>\n",
       "      <td>based on 20 salaries</td>\n",
       "      <td>₹ 19.0L</td>\n",
       "      <td>₹ 15.0L</td>\n",
       "      <td>₹ 23.0L</td>\n",
       "      <td>3-4 yrs exp</td>\n",
       "    </tr>\n",
       "    <tr>\n",
       "      <th>1</th>\n",
       "      <td>ZS</td>\n",
       "      <td>based on 12 salaries</td>\n",
       "      <td>₹ 15.3L</td>\n",
       "      <td>₹ 9.8L</td>\n",
       "      <td>₹ 19.5L</td>\n",
       "      <td>2 yrs exp</td>\n",
       "    </tr>\n",
       "    <tr>\n",
       "      <th>2</th>\n",
       "      <td>Optum</td>\n",
       "      <td>based on 23 salaries</td>\n",
       "      <td>₹ 15.0L</td>\n",
       "      <td>₹ 11.0L</td>\n",
       "      <td>₹ 21.3L</td>\n",
       "      <td>3-4 yrs exp</td>\n",
       "    </tr>\n",
       "    <tr>\n",
       "      <th>3</th>\n",
       "      <td>Fractal Analytics</td>\n",
       "      <td>based on 66 salaries</td>\n",
       "      <td>₹ 15.0L</td>\n",
       "      <td>₹ 9.5L</td>\n",
       "      <td>₹ 22.0L</td>\n",
       "      <td>2-4 yrs exp</td>\n",
       "    </tr>\n",
       "    <tr>\n",
       "      <th>4</th>\n",
       "      <td>UnitedHealth</td>\n",
       "      <td>based on 47 salaries</td>\n",
       "      <td>₹ 13.5L</td>\n",
       "      <td>₹ 7.2L</td>\n",
       "      <td>₹ 20.5L</td>\n",
       "      <td>2-4 yrs exp</td>\n",
       "    </tr>\n",
       "    <tr>\n",
       "      <th>5</th>\n",
       "      <td>Tiger Analytics</td>\n",
       "      <td>based on 26 salaries</td>\n",
       "      <td>₹ 13.5L</td>\n",
       "      <td>₹ 8.3L</td>\n",
       "      <td>₹ 18.5L</td>\n",
       "      <td>3-4 yrs exp</td>\n",
       "    </tr>\n",
       "    <tr>\n",
       "      <th>6</th>\n",
       "      <td>Verizon</td>\n",
       "      <td>based on 14 salaries</td>\n",
       "      <td>₹ 12.7L</td>\n",
       "      <td>₹ 10.0L</td>\n",
       "      <td>₹ 21.0L</td>\n",
       "      <td>4 yrs exp</td>\n",
       "    </tr>\n",
       "    <tr>\n",
       "      <th>7</th>\n",
       "      <td>Ganit Business Solutions</td>\n",
       "      <td>based on 13 salaries</td>\n",
       "      <td>₹ 12.4L</td>\n",
       "      <td>₹ 8.5L</td>\n",
       "      <td>₹ 15.0L</td>\n",
       "      <td>4 yrs exp</td>\n",
       "    </tr>\n",
       "    <tr>\n",
       "      <th>8</th>\n",
       "      <td>Ericsson</td>\n",
       "      <td>based on 42 salaries</td>\n",
       "      <td>₹ 11.7L</td>\n",
       "      <td>₹ 5.2L</td>\n",
       "      <td>₹ 21.5L</td>\n",
       "      <td>3-4 yrs exp</td>\n",
       "    </tr>\n",
       "    <tr>\n",
       "      <th>9</th>\n",
       "      <td>Deloitte</td>\n",
       "      <td>based on 49 salaries</td>\n",
       "      <td>₹ 11.2L</td>\n",
       "      <td>₹ 6.8L</td>\n",
       "      <td>₹ 20.5L</td>\n",
       "      <td>2-4 yrs exp</td>\n",
       "    </tr>\n",
       "  </tbody>\n",
       "</table>\n",
       "</div>"
      ],
      "text/plain": [
       "               Company Name   Total Salary Record Average Salary  \\\n",
       "0                  Ab Inbev  based on 20 salaries        ₹ 19.0L   \n",
       "1                        ZS  based on 12 salaries        ₹ 15.3L   \n",
       "2                     Optum  based on 23 salaries        ₹ 15.0L   \n",
       "3         Fractal Analytics  based on 66 salaries        ₹ 15.0L   \n",
       "4              UnitedHealth  based on 47 salaries        ₹ 13.5L   \n",
       "5           Tiger Analytics  based on 26 salaries        ₹ 13.5L   \n",
       "6                   Verizon  based on 14 salaries        ₹ 12.7L   \n",
       "7  Ganit Business Solutions  based on 13 salaries        ₹ 12.4L   \n",
       "8                  Ericsson  based on 42 salaries        ₹ 11.7L   \n",
       "9                  Deloitte  based on 49 salaries        ₹ 11.2L   \n",
       "\n",
       "  Minimum Salary Maximum Salary Experience Required  \n",
       "0        ₹ 15.0L        ₹ 23.0L         3-4 yrs exp  \n",
       "1         ₹ 9.8L        ₹ 19.5L           2 yrs exp  \n",
       "2        ₹ 11.0L        ₹ 21.3L         3-4 yrs exp  \n",
       "3         ₹ 9.5L        ₹ 22.0L         2-4 yrs exp  \n",
       "4         ₹ 7.2L        ₹ 20.5L         2-4 yrs exp  \n",
       "5         ₹ 8.3L        ₹ 18.5L         3-4 yrs exp  \n",
       "6        ₹ 10.0L        ₹ 21.0L           4 yrs exp  \n",
       "7         ₹ 8.5L        ₹ 15.0L           4 yrs exp  \n",
       "8         ₹ 5.2L        ₹ 21.5L         3-4 yrs exp  \n",
       "9         ₹ 6.8L        ₹ 20.5L         2-4 yrs exp  "
      ]
     },
     "execution_count": 36,
     "metadata": {},
     "output_type": "execute_result"
    }
   ],
   "source": [
    "# Displaying data frame\n",
    "ambitionbox_salary_comparision"
   ]
  },
  {
   "cell_type": "code",
   "execution_count": 37,
   "id": "15a391b2",
   "metadata": {},
   "outputs": [],
   "source": [
    "# Close the current driver\n",
    "driver.close()"
   ]
  }
 ],
 "metadata": {
  "kernelspec": {
   "display_name": "Python 3 (ipykernel)",
   "language": "python",
   "name": "python3"
  },
  "language_info": {
   "codemirror_mode": {
    "name": "ipython",
    "version": 3
   },
   "file_extension": ".py",
   "mimetype": "text/x-python",
   "name": "python",
   "nbconvert_exporter": "python",
   "pygments_lexer": "ipython3",
   "version": "3.9.12"
  }
 },
 "nbformat": 4,
 "nbformat_minor": 5
}
